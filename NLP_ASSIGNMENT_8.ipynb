{
  "nbformat": 4,
  "nbformat_minor": 0,
  "metadata": {
    "colab": {
      "provenance": []
    },
    "kernelspec": {
      "name": "python3",
      "display_name": "Python 3"
    },
    "language_info": {
      "name": "python"
    }
  },
  "cells": [
    {
      "cell_type": "markdown",
      "source": [
        "NLP ASSIGNMENT 8\n",
        "\n",
        "Bheemishetty Sai Baba"
      ],
      "metadata": {
        "id": "vC-XlWEjhTax"
      }
    },
    {
      "cell_type": "markdown",
      "source": [
        "Exercise 1.\n",
        " Accuracy of classifier model with Keras\n",
        "\n",
        "1. Import the 'one_hot', 'pad_sequences', 'Sequential', 'Dense, Flatten',\n",
        "'Embedding', and 'pandas' libraries.\n",
        "2. Define the corpus with the following sentences: This is good pizza, I\n",
        "love Italian pizza, The best pizza, nice pizza, Excellent pizza, I love\n",
        "pizza, The pizza was alright, disgusting pineapple pizza, not good\n",
        "pizza, bad pizza, very bad pizza, I had better pizza.\n",
        "3. Create class labels for each sentence '1' for positive and '0' for\n",
        "negative.\n",
        "4. Create a data frame with 'text' as corpus and 'sentiment' as labels.\n",
        "5. Extract the vocabulary from the corpus and encode it.\n",
        "6. Pad the document to the maximum length of the longest sentences to\n",
        "have uniform length.\n",
        "7. Define the model with Keras with Embedding (None, 5.8) as output\n",
        "shape, Flatten (None, 40), and Dense (None, 1).\n",
        "8. Use epochs = 50, optimizer ='adam', loss='binary_crossentropy', and\n",
        "metrics=['acc'].\n",
        "9. What are your conclusions about the model?\n",
        "\n",
        "Exercise 2.\n",
        "\n",
        "1. Load nltk, pandas, re, numpy, and matplotlb.\n",
        "2. Use the Tweets.csv file in Google Drive\n",
        "3. Take a look at the first five rows.\n",
        "4. Plot the shares of airlines mentioned in the data.\n",
        "5. Plot the percentage of positive, negative, and neutral sentiments.\n",
        "6. In a bar chart, show the number of positive, negative, and neutral\n",
        "comments by airline.\n",
        "7. Using Seaborn, show airlines' sentiment confidence.\n",
        "8. Define the features and labels.\n",
        "9. Clean the tweets.\n",
        "10. Vectorize the tweets.\n",
        "11. Create a train and test (20%) dataset.\n",
        "12. Import the RandomClassifier model.\n",
        "13. Define the 'predictions'.\n",
        "14. Generate the confusion matrix, the classification report, and the\n",
        "accuracy score.\n",
        "15. What is your conclusion?"
      ],
      "metadata": {
        "id": "hJIjY8GBbZKO"
      }
    },
    {
      "cell_type": "markdown",
      "source": [
        "\n",
        "### Excersice 1\n",
        "\n"
      ],
      "metadata": {
        "id": "bqvLLk1Abecx"
      }
    },
    {
      "cell_type": "markdown",
      "source": [
        "Import the necessary Libraries"
      ],
      "metadata": {
        "id": "HEpolZTubkYN"
      }
    },
    {
      "cell_type": "code",
      "source": [
        "import numpy as np\n",
        "from tensorflow.keras.preprocessing.text import one_hot, Tokenizer\n",
        "from tensorflow.keras.preprocessing.sequence import pad_sequences\n",
        "from tensorflow.keras.models import Sequential\n",
        "from tensorflow.keras.layers import Embedding, Flatten, Dense\n",
        "import pandas as pd"
      ],
      "metadata": {
        "id": "lc2ZoqKXCE3D"
      },
      "execution_count": 32,
      "outputs": []
    },
    {
      "cell_type": "markdown",
      "source": [
        "Define the Corpus"
      ],
      "metadata": {
        "id": "pwCgzwjgbtWv"
      }
    },
    {
      "cell_type": "code",
      "source": [
        "# Define the corpus\n",
        "corpus = [\"This is good pizza\", \"I love Italian pizza\", \"The best pizza\", \"nice pizza\",\n",
        "          \"Excellent pizza\", \"I love pizza\", \"The pizza was alright\", \"disgusting pineapple pizza\",\n",
        "          \"not good pizza\", \"bad pizza\", \"very bad pizza\", \"I had better pizza\"]\n"
      ],
      "metadata": {
        "id": "yadkOM5pCE5g"
      },
      "execution_count": 33,
      "outputs": []
    },
    {
      "cell_type": "markdown",
      "source": [
        "Create a Class Labels"
      ],
      "metadata": {
        "id": "Fcw_t0dobwSf"
      }
    },
    {
      "cell_type": "code",
      "source": [
        "#  class labels\n",
        "labels = [1, 1, 1, 1, 1, 1, 1, 0, 0, 0, 0, 0]\n"
      ],
      "metadata": {
        "id": "MrikRMiyCIkG"
      },
      "execution_count": 34,
      "outputs": []
    },
    {
      "cell_type": "markdown",
      "source": [
        "Define the Data Frame"
      ],
      "metadata": {
        "id": "TMzr7i-Sb0I6"
      }
    },
    {
      "cell_type": "code",
      "source": [
        "# Creating a DataFrame\n",
        "df = pd.DataFrame({'text': corpus, 'sentiment': labels})\n"
      ],
      "metadata": {
        "id": "Z1L60NNyCImV"
      },
      "execution_count": 35,
      "outputs": []
    },
    {
      "cell_type": "markdown",
      "source": [
        "Encoding the Vocabilary"
      ],
      "metadata": {
        "id": "TlPxBH41b3H0"
      }
    },
    {
      "cell_type": "code",
      "source": [
        "# Extracting the vocabulary and encode it\n",
        "vocab_size = 50  # Adjust as needed\n",
        "encoded_corpus = [one_hot(sentence, vocab_size) for sentence in corpus]\n"
      ],
      "metadata": {
        "id": "5p7-xYn2CIok"
      },
      "execution_count": 36,
      "outputs": []
    },
    {
      "cell_type": "code",
      "source": [
        "# Padding  the documents\n",
        "max_length = max([len(s.split()) for s in corpus])\n",
        "padded_corpus = pad_sequences(encoded_corpus, maxlen=max_length, padding='post')\n"
      ],
      "metadata": {
        "id": "w4jE1y5vCIqd"
      },
      "execution_count": 37,
      "outputs": []
    },
    {
      "cell_type": "code",
      "source": [
        "# Convert labels to NumPy array\n",
        "labels = np.array(labels)\n"
      ],
      "metadata": {
        "id": "iWhexKe0CIt3"
      },
      "execution_count": 38,
      "outputs": []
    },
    {
      "cell_type": "markdown",
      "source": [
        "Dedining the Models"
      ],
      "metadata": {
        "id": "9yQ_WT8acKhZ"
      }
    },
    {
      "cell_type": "code",
      "source": [
        "# Defining the model\n",
        "model = Sequential()\n",
        "model.add(Embedding(vocab_size, 8, input_length=max_length))\n",
        "model.add(Flatten())\n",
        "model.add(Dense(1, activation='sigmoid'))"
      ],
      "metadata": {
        "id": "MeiQAyBPCawo"
      },
      "execution_count": 39,
      "outputs": []
    },
    {
      "cell_type": "code",
      "source": [
        "# Compiling the model\n",
        "model.compile(optimizer='adam', loss='binary_crossentropy', metrics=['accuracy'])\n"
      ],
      "metadata": {
        "id": "0F9SFaw1Cays"
      },
      "execution_count": 40,
      "outputs": []
    },
    {
      "cell_type": "code",
      "source": [
        "# Prining the model summary\n",
        "model.summary()"
      ],
      "metadata": {
        "colab": {
          "base_uri": "https://localhost:8080/"
        },
        "id": "KIGwGrT5Ca04",
        "outputId": "3272f70c-52bb-4400-b6d1-d7f1d0ceadfb"
      },
      "execution_count": 42,
      "outputs": [
        {
          "output_type": "stream",
          "name": "stdout",
          "text": [
            "Model: \"sequential_5\"\n",
            "_________________________________________________________________\n",
            " Layer (type)                Output Shape              Param #   \n",
            "=================================================================\n",
            " embedding_5 (Embedding)     (None, 4, 8)              400       \n",
            "                                                                 \n",
            " flatten_5 (Flatten)         (None, 32)                0         \n",
            "                                                                 \n",
            " dense_5 (Dense)             (None, 1)                 33        \n",
            "                                                                 \n",
            "=================================================================\n",
            "Total params: 433 (1.69 KB)\n",
            "Trainable params: 433 (1.69 KB)\n",
            "Non-trainable params: 0 (0.00 Byte)\n",
            "_________________________________________________________________\n"
          ]
        }
      ]
    },
    {
      "cell_type": "markdown",
      "source": [
        "Train The Model"
      ],
      "metadata": {
        "id": "ULHBhjMjcd08"
      }
    },
    {
      "cell_type": "code",
      "source": [
        "\n",
        "# Fit the model\n",
        "model.fit(padded_corpus, labels, epochs=50)"
      ],
      "metadata": {
        "colab": {
          "base_uri": "https://localhost:8080/"
        },
        "id": "-IjEoFvqCa4X",
        "outputId": "0fd3232a-68ba-4159-f955-45f2ac9fc67d"
      },
      "execution_count": 43,
      "outputs": [
        {
          "output_type": "stream",
          "name": "stdout",
          "text": [
            "Epoch 1/50\n",
            "1/1 [==============================] - 1s 596ms/step - loss: 0.6916 - accuracy: 0.6667\n",
            "Epoch 2/50\n",
            "1/1 [==============================] - 0s 11ms/step - loss: 0.6899 - accuracy: 0.6667\n",
            "Epoch 3/50\n",
            "1/1 [==============================] - 0s 11ms/step - loss: 0.6882 - accuracy: 0.7500\n",
            "Epoch 4/50\n",
            "1/1 [==============================] - 0s 12ms/step - loss: 0.6864 - accuracy: 0.7500\n",
            "Epoch 5/50\n",
            "1/1 [==============================] - 0s 14ms/step - loss: 0.6847 - accuracy: 0.7500\n",
            "Epoch 6/50\n",
            "1/1 [==============================] - 0s 12ms/step - loss: 0.6830 - accuracy: 0.6667\n",
            "Epoch 7/50\n",
            "1/1 [==============================] - 0s 12ms/step - loss: 0.6812 - accuracy: 0.6667\n",
            "Epoch 8/50\n",
            "1/1 [==============================] - 0s 11ms/step - loss: 0.6795 - accuracy: 0.6667\n",
            "Epoch 9/50\n",
            "1/1 [==============================] - 0s 10ms/step - loss: 0.6778 - accuracy: 0.6667\n",
            "Epoch 10/50\n",
            "1/1 [==============================] - 0s 11ms/step - loss: 0.6760 - accuracy: 0.7500\n",
            "Epoch 11/50\n",
            "1/1 [==============================] - 0s 14ms/step - loss: 0.6743 - accuracy: 0.8333\n",
            "Epoch 12/50\n",
            "1/1 [==============================] - 0s 19ms/step - loss: 0.6726 - accuracy: 0.8333\n",
            "Epoch 13/50\n",
            "1/1 [==============================] - 0s 15ms/step - loss: 0.6708 - accuracy: 0.8333\n",
            "Epoch 14/50\n",
            "1/1 [==============================] - 0s 10ms/step - loss: 0.6691 - accuracy: 0.9167\n",
            "Epoch 15/50\n",
            "1/1 [==============================] - 0s 10ms/step - loss: 0.6673 - accuracy: 0.9167\n",
            "Epoch 16/50\n",
            "1/1 [==============================] - 0s 11ms/step - loss: 0.6656 - accuracy: 0.9167\n",
            "Epoch 17/50\n",
            "1/1 [==============================] - 0s 10ms/step - loss: 0.6639 - accuracy: 0.9167\n",
            "Epoch 18/50\n",
            "1/1 [==============================] - 0s 10ms/step - loss: 0.6621 - accuracy: 0.9167\n",
            "Epoch 19/50\n",
            "1/1 [==============================] - 0s 11ms/step - loss: 0.6603 - accuracy: 0.9167\n",
            "Epoch 20/50\n",
            "1/1 [==============================] - 0s 10ms/step - loss: 0.6586 - accuracy: 0.9167\n",
            "Epoch 21/50\n",
            "1/1 [==============================] - 0s 11ms/step - loss: 0.6568 - accuracy: 0.9167\n",
            "Epoch 22/50\n",
            "1/1 [==============================] - 0s 12ms/step - loss: 0.6550 - accuracy: 0.9167\n",
            "Epoch 23/50\n",
            "1/1 [==============================] - 0s 10ms/step - loss: 0.6533 - accuracy: 0.9167\n",
            "Epoch 24/50\n",
            "1/1 [==============================] - 0s 10ms/step - loss: 0.6515 - accuracy: 0.9167\n",
            "Epoch 25/50\n",
            "1/1 [==============================] - 0s 10ms/step - loss: 0.6497 - accuracy: 0.9167\n",
            "Epoch 26/50\n",
            "1/1 [==============================] - 0s 11ms/step - loss: 0.6479 - accuracy: 0.9167\n",
            "Epoch 27/50\n",
            "1/1 [==============================] - 0s 11ms/step - loss: 0.6461 - accuracy: 0.9167\n",
            "Epoch 28/50\n",
            "1/1 [==============================] - 0s 11ms/step - loss: 0.6443 - accuracy: 0.9167\n",
            "Epoch 29/50\n",
            "1/1 [==============================] - 0s 14ms/step - loss: 0.6424 - accuracy: 0.9167\n",
            "Epoch 30/50\n",
            "1/1 [==============================] - 0s 10ms/step - loss: 0.6406 - accuracy: 0.9167\n",
            "Epoch 31/50\n",
            "1/1 [==============================] - 0s 15ms/step - loss: 0.6388 - accuracy: 0.9167\n",
            "Epoch 32/50\n",
            "1/1 [==============================] - 0s 10ms/step - loss: 0.6369 - accuracy: 0.9167\n",
            "Epoch 33/50\n",
            "1/1 [==============================] - 0s 10ms/step - loss: 0.6351 - accuracy: 0.9167\n",
            "Epoch 34/50\n",
            "1/1 [==============================] - 0s 11ms/step - loss: 0.6332 - accuracy: 0.9167\n",
            "Epoch 35/50\n",
            "1/1 [==============================] - 0s 10ms/step - loss: 0.6313 - accuracy: 0.9167\n",
            "Epoch 36/50\n",
            "1/1 [==============================] - 0s 10ms/step - loss: 0.6295 - accuracy: 0.9167\n",
            "Epoch 37/50\n",
            "1/1 [==============================] - 0s 10ms/step - loss: 0.6276 - accuracy: 0.9167\n",
            "Epoch 38/50\n",
            "1/1 [==============================] - 0s 11ms/step - loss: 0.6257 - accuracy: 0.9167\n",
            "Epoch 39/50\n",
            "1/1 [==============================] - 0s 10ms/step - loss: 0.6238 - accuracy: 0.9167\n",
            "Epoch 40/50\n",
            "1/1 [==============================] - 0s 10ms/step - loss: 0.6218 - accuracy: 0.9167\n",
            "Epoch 41/50\n",
            "1/1 [==============================] - 0s 10ms/step - loss: 0.6199 - accuracy: 0.9167\n",
            "Epoch 42/50\n",
            "1/1 [==============================] - 0s 10ms/step - loss: 0.6180 - accuracy: 0.9167\n",
            "Epoch 43/50\n",
            "1/1 [==============================] - 0s 10ms/step - loss: 0.6160 - accuracy: 0.9167\n",
            "Epoch 44/50\n",
            "1/1 [==============================] - 0s 10ms/step - loss: 0.6141 - accuracy: 0.9167\n",
            "Epoch 45/50\n",
            "1/1 [==============================] - 0s 15ms/step - loss: 0.6121 - accuracy: 0.9167\n",
            "Epoch 46/50\n",
            "1/1 [==============================] - 0s 10ms/step - loss: 0.6101 - accuracy: 0.9167\n",
            "Epoch 47/50\n",
            "1/1 [==============================] - 0s 10ms/step - loss: 0.6082 - accuracy: 0.9167\n",
            "Epoch 48/50\n",
            "1/1 [==============================] - 0s 11ms/step - loss: 0.6062 - accuracy: 0.9167\n",
            "Epoch 49/50\n",
            "1/1 [==============================] - 0s 12ms/step - loss: 0.6042 - accuracy: 0.9167\n",
            "Epoch 50/50\n",
            "1/1 [==============================] - 0s 11ms/step - loss: 0.6022 - accuracy: 0.9167\n"
          ]
        },
        {
          "output_type": "execute_result",
          "data": {
            "text/plain": [
              "<keras.src.callbacks.History at 0x7b62c3f11cc0>"
            ]
          },
          "metadata": {},
          "execution_count": 43
        }
      ]
    },
    {
      "cell_type": "code",
      "source": [
        "# Evaluating the model accuracy\n",
        "loss, accuracy = model.evaluate(padded_corpus, labels)\n",
        "print(f'\\nModel Accuracy: {accuracy * 100:.2f}%')\n"
      ],
      "metadata": {
        "colab": {
          "base_uri": "https://localhost:8080/"
        },
        "id": "iLo5SFOKCl45",
        "outputId": "b2d9ab14-a798-40ad-ae21-11b7d2c7d152"
      },
      "execution_count": 44,
      "outputs": [
        {
          "output_type": "stream",
          "name": "stdout",
          "text": [
            "1/1 [==============================] - 0s 130ms/step - loss: 0.6001 - accuracy: 0.9167\n",
            "\n",
            "Model Accuracy: 91.67%\n"
          ]
        }
      ]
    },
    {
      "cell_type": "markdown",
      "source": [
        "Plotting the Training Accuracy and Training Loss"
      ],
      "metadata": {
        "id": "1Mrs0zdlcklA"
      }
    },
    {
      "cell_type": "code",
      "source": [
        "import matplotlib.pyplot as plt\n",
        "\n",
        "# Fit the model and store the training history\n",
        "history = model.fit(padded_corpus, labels, epochs=50, verbose=0)\n",
        "\n",
        "# Ploting training accuracy\n",
        "plt.plot(history.history['accuracy'])\n",
        "plt.title('Model Training Accuracy')\n",
        "plt.xlabel('Epoch')\n",
        "plt.ylabel('Accuracy')\n",
        "plt.show()\n",
        "\n",
        "# Ploting training loss\n",
        "plt.plot(history.history['loss'])\n",
        "plt.title('Model Training Loss')\n",
        "plt.xlabel('Epoch')\n",
        "plt.ylabel('Loss')\n",
        "plt.show()\n"
      ],
      "metadata": {
        "colab": {
          "base_uri": "https://localhost:8080/",
          "height": 927
        },
        "id": "kP0AhbtY-vMT",
        "outputId": "df35f6c8-4175-4ce6-faeb-550534e18cbf"
      },
      "execution_count": 45,
      "outputs": [
        {
          "output_type": "display_data",
          "data": {
            "text/plain": [
              "<Figure size 640x480 with 1 Axes>"
            ],
            "image/png": "[encoded data removed]"
          },
          "metadata": {}
        },
        {
          "output_type": "display_data",
          "data": {
            "text/plain": [
              "<Figure size 640x480 with 1 Axes>"
            ],
            "image/png": "[encoded data removed]"
          },
          "metadata": {}
        }
      ]
    },
    {
      "cell_type": "markdown",
      "source": [
        "### Excersice 2"
      ],
      "metadata": {
        "id": "B29e07SbcxJS"
      }
    },
    {
      "cell_type": "markdown",
      "source": [
        "Exercise 2.\n",
        "\n",
        "1. Load nltk, pandas, re, numpy, and matplotlb.\n",
        "2. Use the Tweets.csv file in Google Drive\n",
        "3. Take a look at the first five rows.\n",
        "4. Plot the shares of airlines mentioned in the data.\n",
        "5. Plot the percentage of positive, negative, and neutral sentiments.\n",
        "6. In a bar chart, show the number of positive, negative, and neutral\n",
        "comments by airline.\n",
        "7. Using Seaborn, show airlines' sentiment confidence.\n",
        "8. Define the features and labels.\n",
        "9. Clean the tweets.\n",
        "10. Vectorize the tweets.\n",
        "11. Create a train and test (20%) dataset.\n",
        "12. Import the RandomClassifier model.\n",
        "13. Define the 'predictions'.\n",
        "14. Generate the confusion matrix, the classification report, and the\n",
        "accuracy score.\n",
        "15. What is your conclusion?"
      ],
      "metadata": {
        "id": "-YjvD_5Sc0D1"
      }
    },
    {
      "cell_type": "markdown",
      "source": [
        "Importing the Necesary Libraries"
      ],
      "metadata": {
        "id": "F2DbdjppdBXc"
      }
    },
    {
      "cell_type": "code",
      "source": [
        "import numpy as np\n",
        "from tensorflow.keras.preprocessing.text import one_hot, Tokenizer\n",
        "from tensorflow.keras.preprocessing.sequence import pad_sequences\n",
        "from tensorflow.keras.models import Sequential\n",
        "from tensorflow.keras.layers import Embedding, Flatten, Dense\n",
        "import pandas as pd"
      ],
      "metadata": {
        "id": "1e53PAmifTva"
      },
      "execution_count": null,
      "outputs": []
    },
    {
      "cell_type": "code",
      "source": [
        "#  loading the Data\n",
        "df = pd.read_csv('Tweets.csv')"
      ],
      "metadata": {
        "id": "dYfWfx4gdHPH"
      },
      "execution_count": 48,
      "outputs": []
    },
    {
      "cell_type": "code",
      "source": [
        "# Checking the  first 5 rows\n",
        "print(df.head())"
      ],
      "metadata": {
        "colab": {
          "base_uri": "https://localhost:8080/"
        },
        "id": "cWyrQu8ydHRm",
        "outputId": "84c72bbf-36f9-4f6b-874b-e8f08e64fb0d"
      },
      "execution_count": 49,
      "outputs": [
        {
          "output_type": "stream",
          "name": "stdout",
          "text": [
            "       tweet_id airline_sentiment  airline_sentiment_confidence  \\\n",
            "0  5.703060e+17           neutral                        1.0000   \n",
            "1  5.703010e+17          positive                        0.3486   \n",
            "2  5.703010e+17           neutral                        0.6837   \n",
            "3  5.703010e+17          negative                        1.0000   \n",
            "4  5.703010e+17          negative                        1.0000   \n",
            "\n",
            "  negativereason  negativereason_confidence         airline  \\\n",
            "0            NaN                        NaN  Virgin America   \n",
            "1            NaN                     0.0000  Virgin America   \n",
            "2            NaN                        NaN  Virgin America   \n",
            "3     Bad Flight                     0.7033  Virgin America   \n",
            "4     Can't Tell                     1.0000  Virgin America   \n",
            "\n",
            "  airline_sentiment_gold        name negativereason_gold  retweet_count  \\\n",
            "0                    NaN     cairdin                 NaN              0   \n",
            "1                    NaN    jnardino                 NaN              0   \n",
            "2                    NaN  yvonnalynn                 NaN              0   \n",
            "3                    NaN    jnardino                 NaN              0   \n",
            "4                    NaN    jnardino                 NaN              0   \n",
            "\n",
            "                                                text tweet_coord  \\\n",
            "0                @VirginAmerica What @dhepburn said.         NaN   \n",
            "1  @VirginAmerica plus you've added commercials t...         NaN   \n",
            "2  @VirginAmerica I didn't today... Must mean I n...         NaN   \n",
            "3  @VirginAmerica it's really aggressive to blast...         NaN   \n",
            "4  @VirginAmerica and it's a really big bad thing...         NaN   \n",
            "\n",
            "     tweet_created tweet_location               user_timezone  \n",
            "0  2/24/2015 11:35            NaN  Eastern Time (US & Canada)  \n",
            "1  2/24/2015 11:15            NaN  Pacific Time (US & Canada)  \n",
            "2  2/24/2015 11:15      Lets Play  Central Time (US & Canada)  \n",
            "3  2/24/2015 11:15            NaN  Pacific Time (US & Canada)  \n",
            "4  2/24/2015 11:14            NaN  Pacific Time (US & Canada)  \n"
          ]
        }
      ]
    },
    {
      "cell_type": "code",
      "source": [
        "# Ploting airline shares\n",
        "airline_shares = df.airline.value_counts().plot(kind='bar')"
      ],
      "metadata": {
        "colab": {
          "base_uri": "https://localhost:8080/",
          "height": 522
        },
        "id": "VeLMd8IAdHTa",
        "outputId": "bfc3b356-f840-453f-ef5d-1fb9f372f889"
      },
      "execution_count": 50,
      "outputs": [
        {
          "output_type": "display_data",
          "data": {
            "text/plain": [
              "<Figure size 640x480 with 1 Axes>"
            ],
            "image/png": "[encoded data removed]"
          },
          "metadata": {}
        }
      ]
    },
    {
      "cell_type": "code",
      "source": [
        "# Plotting sentiment percentages\n",
        "sentiment_pct = df.airline_sentiment.value_counts(normalize=True).mul(100).plot(kind='bar')"
      ],
      "metadata": {
        "colab": {
          "base_uri": "https://localhost:8080/",
          "height": 477
        },
        "id": "_TWudTTcdHVy",
        "outputId": "40a43300-230a-4dd0-9fa5-501f7dffbbd1"
      },
      "execution_count": 51,
      "outputs": [
        {
          "output_type": "display_data",
          "data": {
            "text/plain": [
              "<Figure size 640x480 with 1 Axes>"
            ],
            "image/png": "[encoded data removed]"
          },
          "metadata": {}
        }
      ]
    },
    {
      "cell_type": "code",
      "source": [
        "# Bar chart with sentiment counts by airline\n",
        "sentiment_counts = pd.crosstab(df.airline, df.airline_sentiment).plot(kind='bar')\n"
      ],
      "metadata": {
        "colab": {
          "base_uri": "https://localhost:8080/",
          "height": 537
        },
        "id": "HtMERd0_dHX9",
        "outputId": "1f51ebe0-de4d-41a2-e57d-f9ff6bf11759"
      },
      "execution_count": 52,
      "outputs": [
        {
          "output_type": "display_data",
          "data": {
            "text/plain": [
              "<Figure size 640x480 with 1 Axes>"
            ],
            "image/png": "[encoded data removed]"
          },
          "metadata": {}
        }
      ]
    },
    {
      "cell_type": "code",
      "source": [
        "# Box plots of confidence by airline\n",
        "import seaborn as sns\n",
        "sns.catplot(x='airline', y='airline_sentiment_confidence', data=df, kind='box')"
      ],
      "metadata": {
        "colab": {
          "base_uri": "https://localhost:8080/",
          "height": 523
        },
        "id": "ujux8AH1dHaC",
        "outputId": "bde25912-a9c5-4411-c5ff-d1fa0d7f1e71"
      },
      "execution_count": 53,
      "outputs": [
        {
          "output_type": "execute_result",
          "data": {
            "text/plain": [
              "<seaborn.axisgrid.FacetGrid at 0x7b62b7e11060>"
            ]
          },
          "metadata": {},
          "execution_count": 53
        },
        {
          "output_type": "display_data",
          "data": {
            "text/plain": [
              "<Figure size 500x500 with 1 Axes>"
            ],
            "image/png": "[encoded data removed]"
          },
          "metadata": {}
        }
      ]
    },
    {
      "cell_type": "code",
      "source": [
        "# Defining features and labels\n",
        "X = df['text']\n",
        "y = df['airline_sentiment']"
      ],
      "metadata": {
        "id": "94qU0CaLdHcN"
      },
      "execution_count": 54,
      "outputs": []
    },
    {
      "cell_type": "code",
      "source": [
        "# Cleaning tweets\n",
        "X = X.apply(lambda x: re.sub(r'^RT[\\s]+', '', x))\n",
        "X = X.apply(lambda x: re.sub(r'https?:\\/\\/.*[\\r\\n]*', '', x))\n",
        "X = X.apply(lambda x: re.sub(r'#', '', x))"
      ],
      "metadata": {
        "id": "vWtua7GZdHem"
      },
      "execution_count": 55,
      "outputs": []
    },
    {
      "cell_type": "code",
      "source": [
        "# Vectorizing tweets\n",
        "vectorizer = TfidfVectorizer()\n",
        "X = vectorizer.fit_transform(X)"
      ],
      "metadata": {
        "id": "11uQltwEdHgv"
      },
      "execution_count": 56,
      "outputs": []
    },
    {
      "cell_type": "code",
      "source": [
        "# Creating a train/test split\n",
        "X_train, X_test, y_train, y_test = train_test_split(X, y, test_size=0.2, random_state=42)\n"
      ],
      "metadata": {
        "id": "rrkyr1vLdHjP"
      },
      "execution_count": 57,
      "outputs": []
    },
    {
      "cell_type": "code",
      "source": [
        "# Random Classifier model fit\n",
        "model = MultinomialNB()\n",
        "model.fit(X_train, y_train)\n",
        "# predictions generated\n",
        "predictions = model.predict(X_test)\n"
      ],
      "metadata": {
        "id": "U2vP-25hdHlb"
      },
      "execution_count": 61,
      "outputs": []
    },
    {
      "cell_type": "code",
      "source": [
        "from sklearn.metrics import confusion_matrix, classification_report, accuracy_score\n",
        "\n",
        "# Assuming 'y_test' is the true labels and 'predictions' is the predicted labels\n",
        "\n",
        "# Confusion Matrix\n",
        "conf_matrix = confusion_matrix(y_test, predictions)\n",
        "print(\"Confusion Matrix:\\n\", conf_matrix)\n",
        "\n",
        "# Classification Report\n",
        "class_report = classification_report(y_test, predictions)\n",
        "print(\"\\nClassification Report:\\n\", class_report)\n",
        "\n",
        "# Accuracy Score\n",
        "accuracy = accuracy_score(y_test, predictions)\n",
        "print(\"\\nAccuracy Score:\", accuracy)\n"
      ],
      "metadata": {
        "colab": {
          "base_uri": "https://localhost:8080/"
        },
        "id": "51TYsWQkIjlG",
        "outputId": "97d43e2f-a133-4b6b-9bbf-3d951377b81f"
      },
      "execution_count": 62,
      "outputs": [
        {
          "output_type": "stream",
          "name": "stdout",
          "text": [
            "Confusion Matrix:\n",
            " [[1880    8    1]\n",
            " [ 499   77    4]\n",
            " [ 380   12   67]]\n",
            "\n",
            "Classification Report:\n",
            "               precision    recall  f1-score   support\n",
            "\n",
            "    negative       0.68      1.00      0.81      1889\n",
            "     neutral       0.79      0.13      0.23       580\n",
            "    positive       0.93      0.15      0.25       459\n",
            "\n",
            "    accuracy                           0.69      2928\n",
            "   macro avg       0.80      0.42      0.43      2928\n",
            "weighted avg       0.74      0.69      0.61      2928\n",
            "\n",
            "\n",
            "Accuracy Score: 0.6912568306010929\n"
          ]
        }
      ]
    },
    {
      "cell_type": "markdown",
      "source": [],
      "metadata": {
        "id": "hMVlHKv1bXZ8"
      }
    }
  ]
}