{
  "nbformat": 4,
  "nbformat_minor": 0,
  "metadata": {
    "colab": {
      "provenance": []
    },
    "kernelspec": {
      "name": "python3",
      "display_name": "Python 3"
    },
    "language_info": {
      "name": "python"
    },
    "widgets": {
      "application/vnd.jupyter.widget-state+json": {
        "f124b16896f6403a92e06a15a53217e1": {
          "model_module": "@jupyter-widgets/controls",
          "model_name": "HBoxModel",
          "model_module_version": "1.5.0",
          "state": {
            "_dom_classes": [],
            "_model_module": "@jupyter-widgets/controls",
            "_model_module_version": "1.5.0",
            "_model_name": "HBoxModel",
            "_view_count": null,
            "_view_module": "@jupyter-widgets/controls",
            "_view_module_version": "1.5.0",
            "_view_name": "HBoxView",
            "box_style": "",
            "children": [
              "IPY_MODEL_534f968610e54679a0a9609489a686c0",
              "IPY_MODEL_591e59e93f304969b84399ca1ad37bdd",
              "IPY_MODEL_f0d621c6c4eb4300a052404e8aa3ba06"
            ],
            "layout": "IPY_MODEL_8462616172b244439422f0375fb1af04"
          }
        },
        "534f968610e54679a0a9609489a686c0": {
          "model_module": "@jupyter-widgets/controls",
          "model_name": "HTMLModel",
          "model_module_version": "1.5.0",
          "state": {
            "_dom_classes": [],
            "_model_module": "@jupyter-widgets/controls",
            "_model_module_version": "1.5.0",
            "_model_name": "HTMLModel",
            "_view_count": null,
            "_view_module": "@jupyter-widgets/controls",
            "_view_module_version": "1.5.0",
            "_view_name": "HTMLView",
            "description": "",
            "description_tooltip": null,
            "layout": "IPY_MODEL_b7d3bcc3e195430185a297f6ef97a1fe",
            "placeholder": "​",
            "style": "IPY_MODEL_717c2f7e4224426e8a9462e7e396bfae",
            "value": "config.json: 100%"
          }
        },
        "591e59e93f304969b84399ca1ad37bdd": {
          "model_module": "@jupyter-widgets/controls",
          "model_name": "FloatProgressModel",
          "model_module_version": "1.5.0",
          "state": {
            "_dom_classes": [],
            "_model_module": "@jupyter-widgets/controls",
            "_model_module_version": "1.5.0",
            "_model_name": "FloatProgressModel",
            "_view_count": null,
            "_view_module": "@jupyter-widgets/controls",
            "_view_module_version": "1.5.0",
            "_view_name": "ProgressView",
            "bar_style": "success",
            "description": "",
            "description_tooltip": null,
            "layout": "IPY_MODEL_610ea4db6a5b4d64b654f06f1ae0aabc",
            "max": 776,
            "min": 0,
            "orientation": "horizontal",
            "style": "IPY_MODEL_69649e619733473db6ed0f0c137d42e1",
            "value": 776
          }
        },
        "f0d621c6c4eb4300a052404e8aa3ba06": {
          "model_module": "@jupyter-widgets/controls",
          "model_name": "HTMLModel",
          "model_module_version": "1.5.0",
          "state": {
            "_dom_classes": [],
            "_model_module": "@jupyter-widgets/controls",
            "_model_module_version": "1.5.0",
            "_model_name": "HTMLModel",
            "_view_count": null,
            "_view_module": "@jupyter-widgets/controls",
            "_view_module_version": "1.5.0",
            "_view_name": "HTMLView",
            "description": "",
            "description_tooltip": null,
            "layout": "IPY_MODEL_e188c976cfa24155a7f1febc7ab71028",
            "placeholder": "​",
            "style": "IPY_MODEL_83e56ace333e4b7ea90c45b6c4a9a660",
            "value": " 776/776 [00:00&lt;00:00, 28.5kB/s]"
          }
        },
        "8462616172b244439422f0375fb1af04": {
          "model_module": "@jupyter-widgets/base",
          "model_name": "LayoutModel",
          "model_module_version": "1.2.0",
          "state": {
            "_model_module": "@jupyter-widgets/base",
            "_model_module_version": "1.2.0",
            "_model_name": "LayoutModel",
            "_view_count": null,
            "_view_module": "@jupyter-widgets/base",
            "_view_module_version": "1.2.0",
            "_view_name": "LayoutView",
            "align_content": null,
            "align_items": null,
            "align_self": null,
            "border": null,
            "bottom": null,
            "display": null,
            "flex": null,
            "flex_flow": null,
            "grid_area": null,
            "grid_auto_columns": null,
            "grid_auto_flow": null,
            "grid_auto_rows": null,
            "grid_column": null,
            "grid_gap": null,
            "grid_row": null,
            "grid_template_areas": null,
            "grid_template_columns": null,
            "grid_template_rows": null,
            "height": null,
            "justify_content": null,
            "justify_items": null,
            "left": null,
            "margin": null,
            "max_height": null,
            "max_width": null,
            "min_height": null,
            "min_width": null,
            "object_fit": null,
            "object_position": null,
            "order": null,
            "overflow": null,
            "overflow_x": null,
            "overflow_y": null,
            "padding": null,
            "right": null,
            "top": null,
            "visibility": null,
            "width": null
          }
        },
        "b7d3bcc3e195430185a297f6ef97a1fe": {
          "model_module": "@jupyter-widgets/base",
          "model_name": "LayoutModel",
          "model_module_version": "1.2.0",
          "state": {
            "_model_module": "@jupyter-widgets/base",
            "_model_module_version": "1.2.0",
            "_model_name": "LayoutModel",
            "_view_count": null,
            "_view_module": "@jupyter-widgets/base",
            "_view_module_version": "1.2.0",
            "_view_name": "LayoutView",
            "align_content": null,
            "align_items": null,
            "align_self": null,
            "border": null,
            "bottom": null,
            "display": null,
            "flex": null,
            "flex_flow": null,
            "grid_area": null,
            "grid_auto_columns": null,
            "grid_auto_flow": null,
            "grid_auto_rows": null,
            "grid_column": null,
            "grid_gap": null,
            "grid_row": null,
            "grid_template_areas": null,
            "grid_template_columns": null,
            "grid_template_rows": null,
            "height": null,
            "justify_content": null,
            "justify_items": null,
            "left": null,
            "margin": null,
            "max_height": null,
            "max_width": null,
            "min_height": null,
            "min_width": null,
            "object_fit": null,
            "object_position": null,
            "order": null,
            "overflow": null,
            "overflow_x": null,
            "overflow_y": null,
            "padding": null,
            "right": null,
            "top": null,
            "visibility": null,
            "width": null
          }
        },
        "717c2f7e4224426e8a9462e7e396bfae": {
          "model_module": "@jupyter-widgets/controls",
          "model_name": "DescriptionStyleModel",
          "model_module_version": "1.5.0",
          "state": {
            "_model_module": "@jupyter-widgets/controls",
            "_model_module_version": "1.5.0",
            "_model_name": "DescriptionStyleModel",
            "_view_count": null,
            "_view_module": "@jupyter-widgets/base",
            "_view_module_version": "1.2.0",
            "_view_name": "StyleView",
            "description_width": ""
          }
        },
        "610ea4db6a5b4d64b654f06f1ae0aabc": {
          "model_module": "@jupyter-widgets/base",
          "model_name": "LayoutModel",
          "model_module_version": "1.2.0",
          "state": {
            "_model_module": "@jupyter-widgets/base",
            "_model_module_version": "1.2.0",
            "_model_name": "LayoutModel",
            "_view_count": null,
            "_view_module": "@jupyter-widgets/base",
            "_view_module_version": "1.2.0",
            "_view_name": "LayoutView",
            "align_content": null,
            "align_items": null,
            "align_self": null,
            "border": null,
            "bottom": null,
            "display": null,
            "flex": null,
            "flex_flow": null,
            "grid_area": null,
            "grid_auto_columns": null,
            "grid_auto_flow": null,
            "grid_auto_rows": null,
            "grid_column": null,
            "grid_gap": null,
            "grid_row": null,
            "grid_template_areas": null,
            "grid_template_columns": null,
            "grid_template_rows": null,
            "height": null,
            "justify_content": null,
            "justify_items": null,
            "left": null,
            "margin": null,
            "max_height": null,
            "max_width": null,
            "min_height": null,
            "min_width": null,
            "object_fit": null,
            "object_position": null,
            "order": null,
            "overflow": null,
            "overflow_x": null,
            "overflow_y": null,
            "padding": null,
            "right": null,
            "top": null,
            "visibility": null,
            "width": null
          }
        },
        "69649e619733473db6ed0f0c137d42e1": {
          "model_module": "@jupyter-widgets/controls",
          "model_name": "ProgressStyleModel",
          "model_module_version": "1.5.0",
          "state": {
            "_model_module": "@jupyter-widgets/controls",
            "_model_module_version": "1.5.0",
            "_model_name": "ProgressStyleModel",
            "_view_count": null,
            "_view_module": "@jupyter-widgets/base",
            "_view_module_version": "1.2.0",
            "_view_name": "StyleView",
            "bar_color": null,
            "description_width": ""
          }
        },
        "e188c976cfa24155a7f1febc7ab71028": {
          "model_module": "@jupyter-widgets/base",
          "model_name": "LayoutModel",
          "model_module_version": "1.2.0",
          "state": {
            "_model_module": "@jupyter-widgets/base",
            "_model_module_version": "1.2.0",
            "_model_name": "LayoutModel",
            "_view_count": null,
            "_view_module": "@jupyter-widgets/base",
            "_view_module_version": "1.2.0",
            "_view_name": "LayoutView",
            "align_content": null,
            "align_items": null,
            "align_self": null,
            "border": null,
            "bottom": null,
            "display": null,
            "flex": null,
            "flex_flow": null,
            "grid_area": null,
            "grid_auto_columns": null,
            "grid_auto_flow": null,
            "grid_auto_rows": null,
            "grid_column": null,
            "grid_gap": null,
            "grid_row": null,
            "grid_template_areas": null,
            "grid_template_columns": null,
            "grid_template_rows": null,
            "height": null,
            "justify_content": null,
            "justify_items": null,
            "left": null,
            "margin": null,
            "max_height": null,
            "max_width": null,
            "min_height": null,
            "min_width": null,
            "object_fit": null,
            "object_position": null,
            "order": null,
            "overflow": null,
            "overflow_x": null,
            "overflow_y": null,
            "padding": null,
            "right": null,
            "top": null,
            "visibility": null,
            "width": null
          }
        },
        "83e56ace333e4b7ea90c45b6c4a9a660": {
          "model_module": "@jupyter-widgets/controls",
          "model_name": "DescriptionStyleModel",
          "model_module_version": "1.5.0",
          "state": {
            "_model_module": "@jupyter-widgets/controls",
            "_model_module_version": "1.5.0",
            "_model_name": "DescriptionStyleModel",
            "_view_count": null,
            "_view_module": "@jupyter-widgets/base",
            "_view_module_version": "1.2.0",
            "_view_name": "StyleView",
            "description_width": ""
          }
        },
        "1388be66fc4b48e399a76c98c446598e": {
          "model_module": "@jupyter-widgets/controls",
          "model_name": "HBoxModel",
          "model_module_version": "1.5.0",
          "state": {
            "_dom_classes": [],
            "_model_module": "@jupyter-widgets/controls",
            "_model_module_version": "1.5.0",
            "_model_name": "HBoxModel",
            "_view_count": null,
            "_view_module": "@jupyter-widgets/controls",
            "_view_module_version": "1.5.0",
            "_view_name": "HBoxView",
            "box_style": "",
            "children": [
              "IPY_MODEL_b7c8b9009e98467684c3550e56d8beb6",
              "IPY_MODEL_5f9084b7619044e8815c69bd4d099390",
              "IPY_MODEL_5d8be0be97634b12bf8f625b8bd4a576"
            ],
            "layout": "IPY_MODEL_548baabfe81d4ffea034c2dd0c2a4112"
          }
        },
        "b7c8b9009e98467684c3550e56d8beb6": {
          "model_module": "@jupyter-widgets/controls",
          "model_name": "HTMLModel",
          "model_module_version": "1.5.0",
          "state": {
            "_dom_classes": [],
            "_model_module": "@jupyter-widgets/controls",
            "_model_module_version": "1.5.0",
            "_model_name": "HTMLModel",
            "_view_count": null,
            "_view_module": "@jupyter-widgets/controls",
            "_view_module_version": "1.5.0",
            "_view_name": "HTMLView",
            "description": "",
            "description_tooltip": null,
            "layout": "IPY_MODEL_a264839eaa63432185d00522a00f920a",
            "placeholder": "​",
            "style": "IPY_MODEL_1ba19bd81459464782fa9d9361319e79",
            "value": "model.safetensors: 100%"
          }
        },
        "5f9084b7619044e8815c69bd4d099390": {
          "model_module": "@jupyter-widgets/controls",
          "model_name": "FloatProgressModel",
          "model_module_version": "1.5.0",
          "state": {
            "_dom_classes": [],
            "_model_module": "@jupyter-widgets/controls",
            "_model_module_version": "1.5.0",
            "_model_name": "FloatProgressModel",
            "_view_count": null,
            "_view_module": "@jupyter-widgets/controls",
            "_view_module_version": "1.5.0",
            "_view_name": "ProgressView",
            "bar_style": "success",
            "description": "",
            "description_tooltip": null,
            "layout": "IPY_MODEL_9f589e7489ce4626a559590592a40387",
            "max": 267835640,
            "min": 0,
            "orientation": "horizontal",
            "style": "IPY_MODEL_900c3bfab46e4273aad7422048cb9a92",
            "value": 267835640
          }
        },
        "5d8be0be97634b12bf8f625b8bd4a576": {
          "model_module": "@jupyter-widgets/controls",
          "model_name": "HTMLModel",
          "model_module_version": "1.5.0",
          "state": {
            "_dom_classes": [],
            "_model_module": "@jupyter-widgets/controls",
            "_model_module_version": "1.5.0",
            "_model_name": "HTMLModel",
            "_view_count": null,
            "_view_module": "@jupyter-widgets/controls",
            "_view_module_version": "1.5.0",
            "_view_name": "HTMLView",
            "description": "",
            "description_tooltip": null,
            "layout": "IPY_MODEL_82fd7b6e00ef4ead80cc3fe109c167e2",
            "placeholder": "​",
            "style": "IPY_MODEL_2f7ef432366141519ade438958c85f39",
            "value": " 268M/268M [00:01&lt;00:00, 263MB/s]"
          }
        },
        "548baabfe81d4ffea034c2dd0c2a4112": {
          "model_module": "@jupyter-widgets/base",
          "model_name": "LayoutModel",
          "model_module_version": "1.2.0",
          "state": {
            "_model_module": "@jupyter-widgets/base",
            "_model_module_version": "1.2.0",
            "_model_name": "LayoutModel",
            "_view_count": null,
            "_view_module": "@jupyter-widgets/base",
            "_view_module_version": "1.2.0",
            "_view_name": "LayoutView",
            "align_content": null,
            "align_items": null,
            "align_self": null,
            "border": null,
            "bottom": null,
            "display": null,
            "flex": null,
            "flex_flow": null,
            "grid_area": null,
            "grid_auto_columns": null,
            "grid_auto_flow": null,
            "grid_auto_rows": null,
            "grid_column": null,
            "grid_gap": null,
            "grid_row": null,
            "grid_template_areas": null,
            "grid_template_columns": null,
            "grid_template_rows": null,
            "height": null,
            "justify_content": null,
            "justify_items": null,
            "left": null,
            "margin": null,
            "max_height": null,
            "max_width": null,
            "min_height": null,
            "min_width": null,
            "object_fit": null,
            "object_position": null,
            "order": null,
            "overflow": null,
            "overflow_x": null,
            "overflow_y": null,
            "padding": null,
            "right": null,
            "top": null,
            "visibility": null,
            "width": null
          }
        },
        "a264839eaa63432185d00522a00f920a": {
          "model_module": "@jupyter-widgets/base",
          "model_name": "LayoutModel",
          "model_module_version": "1.2.0",
          "state": {
            "_model_module": "@jupyter-widgets/base",
            "_model_module_version": "1.2.0",
            "_model_name": "LayoutModel",
            "_view_count": null,
            "_view_module": "@jupyter-widgets/base",
            "_view_module_version": "1.2.0",
            "_view_name": "LayoutView",
            "align_content": null,
            "align_items": null,
            "align_self": null,
            "border": null,
            "bottom": null,
            "display": null,
            "flex": null,
            "flex_flow": null,
            "grid_area": null,
            "grid_auto_columns": null,
            "grid_auto_flow": null,
            "grid_auto_rows": null,
            "grid_column": null,
            "grid_gap": null,
            "grid_row": null,
            "grid_template_areas": null,
            "grid_template_columns": null,
            "grid_template_rows": null,
            "height": null,
            "justify_content": null,
            "justify_items": null,
            "left": null,
            "margin": null,
            "max_height": null,
            "max_width": null,
            "min_height": null,
            "min_width": null,
            "object_fit": null,
            "object_position": null,
            "order": null,
            "overflow": null,
            "overflow_x": null,
            "overflow_y": null,
            "padding": null,
            "right": null,
            "top": null,
            "visibility": null,
            "width": null
          }
        },
        "1ba19bd81459464782fa9d9361319e79": {
          "model_module": "@jupyter-widgets/controls",
          "model_name": "DescriptionStyleModel",
          "model_module_version": "1.5.0",
          "state": {
            "_model_module": "@jupyter-widgets/controls",
            "_model_module_version": "1.5.0",
            "_model_name": "DescriptionStyleModel",
            "_view_count": null,
            "_view_module": "@jupyter-widgets/base",
            "_view_module_version": "1.2.0",
            "_view_name": "StyleView",
            "description_width": ""
          }
        },
        "9f589e7489ce4626a559590592a40387": {
          "model_module": "@jupyter-widgets/base",
          "model_name": "LayoutModel",
          "model_module_version": "1.2.0",
          "state": {
            "_model_module": "@jupyter-widgets/base",
            "_model_module_version": "1.2.0",
            "_model_name": "LayoutModel",
            "_view_count": null,
            "_view_module": "@jupyter-widgets/base",
            "_view_module_version": "1.2.0",
            "_view_name": "LayoutView",
            "align_content": null,
            "align_items": null,
            "align_self": null,
            "border": null,
            "bottom": null,
            "display": null,
            "flex": null,
            "flex_flow": null,
            "grid_area": null,
            "grid_auto_columns": null,
            "grid_auto_flow": null,
            "grid_auto_rows": null,
            "grid_column": null,
            "grid_gap": null,
            "grid_row": null,
            "grid_template_areas": null,
            "grid_template_columns": null,
            "grid_template_rows": null,
            "height": null,
            "justify_content": null,
            "justify_items": null,
            "left": null,
            "margin": null,
            "max_height": null,
            "max_width": null,
            "min_height": null,
            "min_width": null,
            "object_fit": null,
            "object_position": null,
            "order": null,
            "overflow": null,
            "overflow_x": null,
            "overflow_y": null,
            "padding": null,
            "right": null,
            "top": null,
            "visibility": null,
            "width": null
          }
        },
        "900c3bfab46e4273aad7422048cb9a92": {
          "model_module": "@jupyter-widgets/controls",
          "model_name": "ProgressStyleModel",
          "model_module_version": "1.5.0",
          "state": {
            "_model_module": "@jupyter-widgets/controls",
            "_model_module_version": "1.5.0",
            "_model_name": "ProgressStyleModel",
            "_view_count": null,
            "_view_module": "@jupyter-widgets/base",
            "_view_module_version": "1.2.0",
            "_view_name": "StyleView",
            "bar_color": null,
            "description_width": ""
          }
        },
        "82fd7b6e00ef4ead80cc3fe109c167e2": {
          "model_module": "@jupyter-widgets/base",
          "model_name": "LayoutModel",
          "model_module_version": "1.2.0",
          "state": {
            "_model_module": "@jupyter-widgets/base",
            "_model_module_version": "1.2.0",
            "_model_name": "LayoutModel",
            "_view_count": null,
            "_view_module": "@jupyter-widgets/base",
            "_view_module_version": "1.2.0",
            "_view_name": "LayoutView",
            "align_content": null,
            "align_items": null,
            "align_self": null,
            "border": null,
            "bottom": null,
            "display": null,
            "flex": null,
            "flex_flow": null,
            "grid_area": null,
            "grid_auto_columns": null,
            "grid_auto_flow": null,
            "grid_auto_rows": null,
            "grid_column": null,
            "grid_gap": null,
            "grid_row": null,
            "grid_template_areas": null,
            "grid_template_columns": null,
            "grid_template_rows": null,
            "height": null,
            "justify_content": null,
            "justify_items": null,
            "left": null,
            "margin": null,
            "max_height": null,
            "max_width": null,
            "min_height": null,
            "min_width": null,
            "object_fit": null,
            "object_position": null,
            "order": null,
            "overflow": null,
            "overflow_x": null,
            "overflow_y": null,
            "padding": null,
            "right": null,
            "top": null,
            "visibility": null,
            "width": null
          }
        },
        "2f7ef432366141519ade438958c85f39": {
          "model_module": "@jupyter-widgets/controls",
          "model_name": "DescriptionStyleModel",
          "model_module_version": "1.5.0",
          "state": {
            "_model_module": "@jupyter-widgets/controls",
            "_model_module_version": "1.5.0",
            "_model_name": "DescriptionStyleModel",
            "_view_count": null,
            "_view_module": "@jupyter-widgets/base",
            "_view_module_version": "1.2.0",
            "_view_name": "StyleView",
            "description_width": ""
          }
        },
        "41bffb5099a54004921e2d4e41e65c00": {
          "model_module": "@jupyter-widgets/controls",
          "model_name": "HBoxModel",
          "model_module_version": "1.5.0",
          "state": {
            "_dom_classes": [],
            "_model_module": "@jupyter-widgets/controls",
            "_model_module_version": "1.5.0",
            "_model_name": "HBoxModel",
            "_view_count": null,
            "_view_module": "@jupyter-widgets/controls",
            "_view_module_version": "1.5.0",
            "_view_name": "HBoxView",
            "box_style": "",
            "children": [
              "IPY_MODEL_36f89a5509954448ab53c0a02d40d65a",
              "IPY_MODEL_0a8ce0bde81443948fefcead7e618418",
              "IPY_MODEL_57a8811d253d48499ba2e6fa9dfe2667"
            ],
            "layout": "IPY_MODEL_0a73faef940b4b878f180bc81d27e9c8"
          }
        },
        "36f89a5509954448ab53c0a02d40d65a": {
          "model_module": "@jupyter-widgets/controls",
          "model_name": "HTMLModel",
          "model_module_version": "1.5.0",
          "state": {
            "_dom_classes": [],
            "_model_module": "@jupyter-widgets/controls",
            "_model_module_version": "1.5.0",
            "_model_name": "HTMLModel",
            "_view_count": null,
            "_view_module": "@jupyter-widgets/controls",
            "_view_module_version": "1.5.0",
            "_view_name": "HTMLView",
            "description": "",
            "description_tooltip": null,
            "layout": "IPY_MODEL_60e3fe8e8a3349dcb9b3edc227f5f0a6",
            "placeholder": "​",
            "style": "IPY_MODEL_964a8906af0c42dcae9ae7062e9dfd1d",
            "value": "tokenizer_config.json: 100%"
          }
        },
        "0a8ce0bde81443948fefcead7e618418": {
          "model_module": "@jupyter-widgets/controls",
          "model_name": "FloatProgressModel",
          "model_module_version": "1.5.0",
          "state": {
            "_dom_classes": [],
            "_model_module": "@jupyter-widgets/controls",
            "_model_module_version": "1.5.0",
            "_model_name": "FloatProgressModel",
            "_view_count": null,
            "_view_module": "@jupyter-widgets/controls",
            "_view_module_version": "1.5.0",
            "_view_name": "ProgressView",
            "bar_style": "success",
            "description": "",
            "description_tooltip": null,
            "layout": "IPY_MODEL_9e2879567ad34a04916bfd1ae891e8e2",
            "max": 258,
            "min": 0,
            "orientation": "horizontal",
            "style": "IPY_MODEL_bcd6e646256841658fe4e0de62d0edb0",
            "value": 258
          }
        },
        "57a8811d253d48499ba2e6fa9dfe2667": {
          "model_module": "@jupyter-widgets/controls",
          "model_name": "HTMLModel",
          "model_module_version": "1.5.0",
          "state": {
            "_dom_classes": [],
            "_model_module": "@jupyter-widgets/controls",
            "_model_module_version": "1.5.0",
            "_model_name": "HTMLModel",
            "_view_count": null,
            "_view_module": "@jupyter-widgets/controls",
            "_view_module_version": "1.5.0",
            "_view_name": "HTMLView",
            "description": "",
            "description_tooltip": null,
            "layout": "IPY_MODEL_4f9edad01e8546aa97e2f2383805b6b3",
            "placeholder": "​",
            "style": "IPY_MODEL_b5a0653cc47d4273acfddaf63fdb7f11",
            "value": " 258/258 [00:00&lt;00:00, 10.7kB/s]"
          }
        },
        "0a73faef940b4b878f180bc81d27e9c8": {
          "model_module": "@jupyter-widgets/base",
          "model_name": "LayoutModel",
          "model_module_version": "1.2.0",
          "state": {
            "_model_module": "@jupyter-widgets/base",
            "_model_module_version": "1.2.0",
            "_model_name": "LayoutModel",
            "_view_count": null,
            "_view_module": "@jupyter-widgets/base",
            "_view_module_version": "1.2.0",
            "_view_name": "LayoutView",
            "align_content": null,
            "align_items": null,
            "align_self": null,
            "border": null,
            "bottom": null,
            "display": null,
            "flex": null,
            "flex_flow": null,
            "grid_area": null,
            "grid_auto_columns": null,
            "grid_auto_flow": null,
            "grid_auto_rows": null,
            "grid_column": null,
            "grid_gap": null,
            "grid_row": null,
            "grid_template_areas": null,
            "grid_template_columns": null,
            "grid_template_rows": null,
            "height": null,
            "justify_content": null,
            "justify_items": null,
            "left": null,
            "margin": null,
            "max_height": null,
            "max_width": null,
            "min_height": null,
            "min_width": null,
            "object_fit": null,
            "object_position": null,
            "order": null,
            "overflow": null,
            "overflow_x": null,
            "overflow_y": null,
            "padding": null,
            "right": null,
            "top": null,
            "visibility": null,
            "width": null
          }
        },
        "60e3fe8e8a3349dcb9b3edc227f5f0a6": {
          "model_module": "@jupyter-widgets/base",
          "model_name": "LayoutModel",
          "model_module_version": "1.2.0",
          "state": {
            "_model_module": "@jupyter-widgets/base",
            "_model_module_version": "1.2.0",
            "_model_name": "LayoutModel",
            "_view_count": null,
            "_view_module": "@jupyter-widgets/base",
            "_view_module_version": "1.2.0",
            "_view_name": "LayoutView",
            "align_content": null,
            "align_items": null,
            "align_self": null,
            "border": null,
            "bottom": null,
            "display": null,
            "flex": null,
            "flex_flow": null,
            "grid_area": null,
            "grid_auto_columns": null,
            "grid_auto_flow": null,
            "grid_auto_rows": null,
            "grid_column": null,
            "grid_gap": null,
            "grid_row": null,
            "grid_template_areas": null,
            "grid_template_columns": null,
            "grid_template_rows": null,
            "height": null,
            "justify_content": null,
            "justify_items": null,
            "left": null,
            "margin": null,
            "max_height": null,
            "max_width": null,
            "min_height": null,
            "min_width": null,
            "object_fit": null,
            "object_position": null,
            "order": null,
            "overflow": null,
            "overflow_x": null,
            "overflow_y": null,
            "padding": null,
            "right": null,
            "top": null,
            "visibility": null,
            "width": null
          }
        },
        "964a8906af0c42dcae9ae7062e9dfd1d": {
          "model_module": "@jupyter-widgets/controls",
          "model_name": "DescriptionStyleModel",
          "model_module_version": "1.5.0",
          "state": {
            "_model_module": "@jupyter-widgets/controls",
            "_model_module_version": "1.5.0",
            "_model_name": "DescriptionStyleModel",
            "_view_count": null,
            "_view_module": "@jupyter-widgets/base",
            "_view_module_version": "1.2.0",
            "_view_name": "StyleView",
            "description_width": ""
          }
        },
        "9e2879567ad34a04916bfd1ae891e8e2": {
          "model_module": "@jupyter-widgets/base",
          "model_name": "LayoutModel",
          "model_module_version": "1.2.0",
          "state": {
            "_model_module": "@jupyter-widgets/base",
            "_model_module_version": "1.2.0",
            "_model_name": "LayoutModel",
            "_view_count": null,
            "_view_module": "@jupyter-widgets/base",
            "_view_module_version": "1.2.0",
            "_view_name": "LayoutView",
            "align_content": null,
            "align_items": null,
            "align_self": null,
            "border": null,
            "bottom": null,
            "display": null,
            "flex": null,
            "flex_flow": null,
            "grid_area": null,
            "grid_auto_columns": null,
            "grid_auto_flow": null,
            "grid_auto_rows": null,
            "grid_column": null,
            "grid_gap": null,
            "grid_row": null,
            "grid_template_areas": null,
            "grid_template_columns": null,
            "grid_template_rows": null,
            "height": null,
            "justify_content": null,
            "justify_items": null,
            "left": null,
            "margin": null,
            "max_height": null,
            "max_width": null,
            "min_height": null,
            "min_width": null,
            "object_fit": null,
            "object_position": null,
            "order": null,
            "overflow": null,
            "overflow_x": null,
            "overflow_y": null,
            "padding": null,
            "right": null,
            "top": null,
            "visibility": null,
            "width": null
          }
        },
        "bcd6e646256841658fe4e0de62d0edb0": {
          "model_module": "@jupyter-widgets/controls",
          "model_name": "ProgressStyleModel",
          "model_module_version": "1.5.0",
          "state": {
            "_model_module": "@jupyter-widgets/controls",
            "_model_module_version": "1.5.0",
            "_model_name": "ProgressStyleModel",
            "_view_count": null,
            "_view_module": "@jupyter-widgets/base",
            "_view_module_version": "1.2.0",
            "_view_name": "StyleView",
            "bar_color": null,
            "description_width": ""
          }
        },
        "4f9edad01e8546aa97e2f2383805b6b3": {
          "model_module": "@jupyter-widgets/base",
          "model_name": "LayoutModel",
          "model_module_version": "1.2.0",
          "state": {
            "_model_module": "@jupyter-widgets/base",
            "_model_module_version": "1.2.0",
            "_model_name": "LayoutModel",
            "_view_count": null,
            "_view_module": "@jupyter-widgets/base",
            "_view_module_version": "1.2.0",
            "_view_name": "LayoutView",
            "align_content": null,
            "align_items": null,
            "align_self": null,
            "border": null,
            "bottom": null,
            "display": null,
            "flex": null,
            "flex_flow": null,
            "grid_area": null,
            "grid_auto_columns": null,
            "grid_auto_flow": null,
            "grid_auto_rows": null,
            "grid_column": null,
            "grid_gap": null,
            "grid_row": null,
            "grid_template_areas": null,
            "grid_template_columns": null,
            "grid_template_rows": null,
            "height": null,
            "justify_content": null,
            "justify_items": null,
            "left": null,
            "margin": null,
            "max_height": null,
            "max_width": null,
            "min_height": null,
            "min_width": null,
            "object_fit": null,
            "object_position": null,
            "order": null,
            "overflow": null,
            "overflow_x": null,
            "overflow_y": null,
            "padding": null,
            "right": null,
            "top": null,
            "visibility": null,
            "width": null
          }
        },
        "b5a0653cc47d4273acfddaf63fdb7f11": {
          "model_module": "@jupyter-widgets/controls",
          "model_name": "DescriptionStyleModel",
          "model_module_version": "1.5.0",
          "state": {
            "_model_module": "@jupyter-widgets/controls",
            "_model_module_version": "1.5.0",
            "_model_name": "DescriptionStyleModel",
            "_view_count": null,
            "_view_module": "@jupyter-widgets/base",
            "_view_module_version": "1.2.0",
            "_view_name": "StyleView",
            "description_width": ""
          }
        },
        "079b290ed0ce4e0d83fa86221daf01c4": {
          "model_module": "@jupyter-widgets/controls",
          "model_name": "HBoxModel",
          "model_module_version": "1.5.0",
          "state": {
            "_dom_classes": [],
            "_model_module": "@jupyter-widgets/controls",
            "_model_module_version": "1.5.0",
            "_model_name": "HBoxModel",
            "_view_count": null,
            "_view_module": "@jupyter-widgets/controls",
            "_view_module_version": "1.5.0",
            "_view_name": "HBoxView",
            "box_style": "",
            "children": [
              "IPY_MODEL_b40ea1fa04b140f29b55cc92cfa501dc",
              "IPY_MODEL_07b5552cfdbd46409929648a8abe4085",
              "IPY_MODEL_476c67892d8c47969185cffaa52ed757"
            ],
            "layout": "IPY_MODEL_7cf5b8afe4ce41e1a8e355e0f027335b"
          }
        },
        "b40ea1fa04b140f29b55cc92cfa501dc": {
          "model_module": "@jupyter-widgets/controls",
          "model_name": "HTMLModel",
          "model_module_version": "1.5.0",
          "state": {
            "_dom_classes": [],
            "_model_module": "@jupyter-widgets/controls",
            "_model_module_version": "1.5.0",
            "_model_name": "HTMLModel",
            "_view_count": null,
            "_view_module": "@jupyter-widgets/controls",
            "_view_module_version": "1.5.0",
            "_view_name": "HTMLView",
            "description": "",
            "description_tooltip": null,
            "layout": "IPY_MODEL_534a6622f08b4526ae9ec49e5682a6d3",
            "placeholder": "​",
            "style": "IPY_MODEL_4ec3c7b8d3bd423f93d90af779383cb5",
            "value": "vocab.txt: 100%"
          }
        },
        "07b5552cfdbd46409929648a8abe4085": {
          "model_module": "@jupyter-widgets/controls",
          "model_name": "FloatProgressModel",
          "model_module_version": "1.5.0",
          "state": {
            "_dom_classes": [],
            "_model_module": "@jupyter-widgets/controls",
            "_model_module_version": "1.5.0",
            "_model_name": "FloatProgressModel",
            "_view_count": null,
            "_view_module": "@jupyter-widgets/controls",
            "_view_module_version": "1.5.0",
            "_view_name": "ProgressView",
            "bar_style": "success",
            "description": "",
            "description_tooltip": null,
            "layout": "IPY_MODEL_86d9f05eaa25418ab429577631d6a26a",
            "max": 231508,
            "min": 0,
            "orientation": "horizontal",
            "style": "IPY_MODEL_d466d31acc33491b9dbe424cb78af222",
            "value": 231508
          }
        },
        "476c67892d8c47969185cffaa52ed757": {
          "model_module": "@jupyter-widgets/controls",
          "model_name": "HTMLModel",
          "model_module_version": "1.5.0",
          "state": {
            "_dom_classes": [],
            "_model_module": "@jupyter-widgets/controls",
            "_model_module_version": "1.5.0",
            "_model_name": "HTMLModel",
            "_view_count": null,
            "_view_module": "@jupyter-widgets/controls",
            "_view_module_version": "1.5.0",
            "_view_name": "HTMLView",
            "description": "",
            "description_tooltip": null,
            "layout": "IPY_MODEL_10682e6e27784dbaa310dbef2aad30e5",
            "placeholder": "​",
            "style": "IPY_MODEL_8a31eecea83b4577971d79697b0dca8f",
            "value": " 232k/232k [00:00&lt;00:00, 9.98MB/s]"
          }
        },
        "7cf5b8afe4ce41e1a8e355e0f027335b": {
          "model_module": "@jupyter-widgets/base",
          "model_name": "LayoutModel",
          "model_module_version": "1.2.0",
          "state": {
            "_model_module": "@jupyter-widgets/base",
            "_model_module_version": "1.2.0",
            "_model_name": "LayoutModel",
            "_view_count": null,
            "_view_module": "@jupyter-widgets/base",
            "_view_module_version": "1.2.0",
            "_view_name": "LayoutView",
            "align_content": null,
            "align_items": null,
            "align_self": null,
            "border": null,
            "bottom": null,
            "display": null,
            "flex": null,
            "flex_flow": null,
            "grid_area": null,
            "grid_auto_columns": null,
            "grid_auto_flow": null,
            "grid_auto_rows": null,
            "grid_column": null,
            "grid_gap": null,
            "grid_row": null,
            "grid_template_areas": null,
            "grid_template_columns": null,
            "grid_template_rows": null,
            "height": null,
            "justify_content": null,
            "justify_items": null,
            "left": null,
            "margin": null,
            "max_height": null,
            "max_width": null,
            "min_height": null,
            "min_width": null,
            "object_fit": null,
            "object_position": null,
            "order": null,
            "overflow": null,
            "overflow_x": null,
            "overflow_y": null,
            "padding": null,
            "right": null,
            "top": null,
            "visibility": null,
            "width": null
          }
        },
        "534a6622f08b4526ae9ec49e5682a6d3": {
          "model_module": "@jupyter-widgets/base",
          "model_name": "LayoutModel",
          "model_module_version": "1.2.0",
          "state": {
            "_model_module": "@jupyter-widgets/base",
            "_model_module_version": "1.2.0",
            "_model_name": "LayoutModel",
            "_view_count": null,
            "_view_module": "@jupyter-widgets/base",
            "_view_module_version": "1.2.0",
            "_view_name": "LayoutView",
            "align_content": null,
            "align_items": null,
            "align_self": null,
            "border": null,
            "bottom": null,
            "display": null,
            "flex": null,
            "flex_flow": null,
            "grid_area": null,
            "grid_auto_columns": null,
            "grid_auto_flow": null,
            "grid_auto_rows": null,
            "grid_column": null,
            "grid_gap": null,
            "grid_row": null,
            "grid_template_areas": null,
            "grid_template_columns": null,
            "grid_template_rows": null,
            "height": null,
            "justify_content": null,
            "justify_items": null,
            "left": null,
            "margin": null,
            "max_height": null,
            "max_width": null,
            "min_height": null,
            "min_width": null,
            "object_fit": null,
            "object_position": null,
            "order": null,
            "overflow": null,
            "overflow_x": null,
            "overflow_y": null,
            "padding": null,
            "right": null,
            "top": null,
            "visibility": null,
            "width": null
          }
        },
        "4ec3c7b8d3bd423f93d90af779383cb5": {
          "model_module": "@jupyter-widgets/controls",
          "model_name": "DescriptionStyleModel",
          "model_module_version": "1.5.0",
          "state": {
            "_model_module": "@jupyter-widgets/controls",
            "_model_module_version": "1.5.0",
            "_model_name": "DescriptionStyleModel",
            "_view_count": null,
            "_view_module": "@jupyter-widgets/base",
            "_view_module_version": "1.2.0",
            "_view_name": "StyleView",
            "description_width": ""
          }
        },
        "86d9f05eaa25418ab429577631d6a26a": {
          "model_module": "@jupyter-widgets/base",
          "model_name": "LayoutModel",
          "model_module_version": "1.2.0",
          "state": {
            "_model_module": "@jupyter-widgets/base",
            "_model_module_version": "1.2.0",
            "_model_name": "LayoutModel",
            "_view_count": null,
            "_view_module": "@jupyter-widgets/base",
            "_view_module_version": "1.2.0",
            "_view_name": "LayoutView",
            "align_content": null,
            "align_items": null,
            "align_self": null,
            "border": null,
            "bottom": null,
            "display": null,
            "flex": null,
            "flex_flow": null,
            "grid_area": null,
            "grid_auto_columns": null,
            "grid_auto_flow": null,
            "grid_auto_rows": null,
            "grid_column": null,
            "grid_gap": null,
            "grid_row": null,
            "grid_template_areas": null,
            "grid_template_columns": null,
            "grid_template_rows": null,
            "height": null,
            "justify_content": null,
            "justify_items": null,
            "left": null,
            "margin": null,
            "max_height": null,
            "max_width": null,
            "min_height": null,
            "min_width": null,
            "object_fit": null,
            "object_position": null,
            "order": null,
            "overflow": null,
            "overflow_x": null,
            "overflow_y": null,
            "padding": null,
            "right": null,
            "top": null,
            "visibility": null,
            "width": null
          }
        },
        "d466d31acc33491b9dbe424cb78af222": {
          "model_module": "@jupyter-widgets/controls",
          "model_name": "ProgressStyleModel",
          "model_module_version": "1.5.0",
          "state": {
            "_model_module": "@jupyter-widgets/controls",
            "_model_module_version": "1.5.0",
            "_model_name": "ProgressStyleModel",
            "_view_count": null,
            "_view_module": "@jupyter-widgets/base",
            "_view_module_version": "1.2.0",
            "_view_name": "StyleView",
            "bar_color": null,
            "description_width": ""
          }
        },
        "10682e6e27784dbaa310dbef2aad30e5": {
          "model_module": "@jupyter-widgets/base",
          "model_name": "LayoutModel",
          "model_module_version": "1.2.0",
          "state": {
            "_model_module": "@jupyter-widgets/base",
            "_model_module_version": "1.2.0",
            "_model_name": "LayoutModel",
            "_view_count": null,
            "_view_module": "@jupyter-widgets/base",
            "_view_module_version": "1.2.0",
            "_view_name": "LayoutView",
            "align_content": null,
            "align_items": null,
            "align_self": null,
            "border": null,
            "bottom": null,
            "display": null,
            "flex": null,
            "flex_flow": null,
            "grid_area": null,
            "grid_auto_columns": null,
            "grid_auto_flow": null,
            "grid_auto_rows": null,
            "grid_column": null,
            "grid_gap": null,
            "grid_row": null,
            "grid_template_areas": null,
            "grid_template_columns": null,
            "grid_template_rows": null,
            "height": null,
            "justify_content": null,
            "justify_items": null,
            "left": null,
            "margin": null,
            "max_height": null,
            "max_width": null,
            "min_height": null,
            "min_width": null,
            "object_fit": null,
            "object_position": null,
            "order": null,
            "overflow": null,
            "overflow_x": null,
            "overflow_y": null,
            "padding": null,
            "right": null,
            "top": null,
            "visibility": null,
            "width": null
          }
        },
        "8a31eecea83b4577971d79697b0dca8f": {
          "model_module": "@jupyter-widgets/controls",
          "model_name": "DescriptionStyleModel",
          "model_module_version": "1.5.0",
          "state": {
            "_model_module": "@jupyter-widgets/controls",
            "_model_module_version": "1.5.0",
            "_model_name": "DescriptionStyleModel",
            "_view_count": null,
            "_view_module": "@jupyter-widgets/base",
            "_view_module_version": "1.2.0",
            "_view_name": "StyleView",
            "description_width": ""
          }
        },
        "0ac0d8771a6d40efad987128b87a70c5": {
          "model_module": "@jupyter-widgets/controls",
          "model_name": "HBoxModel",
          "model_module_version": "1.5.0",
          "state": {
            "_dom_classes": [],
            "_model_module": "@jupyter-widgets/controls",
            "_model_module_version": "1.5.0",
            "_model_name": "HBoxModel",
            "_view_count": null,
            "_view_module": "@jupyter-widgets/controls",
            "_view_module_version": "1.5.0",
            "_view_name": "HBoxView",
            "box_style": "",
            "children": [
              "IPY_MODEL_ea4f90c1aa224d0493db8dfd5a4946fb",
              "IPY_MODEL_eb9b72cf290c4ba58428a5c3e471f33d",
              "IPY_MODEL_805a0080a6d2434486ff93183fa36e7e"
            ],
            "layout": "IPY_MODEL_5dd1b5587a24422e8fa27b1d1d906635"
          }
        },
        "ea4f90c1aa224d0493db8dfd5a4946fb": {
          "model_module": "@jupyter-widgets/controls",
          "model_name": "HTMLModel",
          "model_module_version": "1.5.0",
          "state": {
            "_dom_classes": [],
            "_model_module": "@jupyter-widgets/controls",
            "_model_module_version": "1.5.0",
            "_model_name": "HTMLModel",
            "_view_count": null,
            "_view_module": "@jupyter-widgets/controls",
            "_view_module_version": "1.5.0",
            "_view_name": "HTMLView",
            "description": "",
            "description_tooltip": null,
            "layout": "IPY_MODEL_ee90fe5ef04c473ab10cebc378f3daa9",
            "placeholder": "​",
            "style": "IPY_MODEL_7930ba22bf624fb782bc54f2943f1d88",
            "value": "special_tokens_map.json: 100%"
          }
        },
        "eb9b72cf290c4ba58428a5c3e471f33d": {
          "model_module": "@jupyter-widgets/controls",
          "model_name": "FloatProgressModel",
          "model_module_version": "1.5.0",
          "state": {
            "_dom_classes": [],
            "_model_module": "@jupyter-widgets/controls",
            "_model_module_version": "1.5.0",
            "_model_name": "FloatProgressModel",
            "_view_count": null,
            "_view_module": "@jupyter-widgets/controls",
            "_view_module_version": "1.5.0",
            "_view_name": "ProgressView",
            "bar_style": "success",
            "description": "",
            "description_tooltip": null,
            "layout": "IPY_MODEL_324810321f3e469a8df67f17b5401d34",
            "max": 112,
            "min": 0,
            "orientation": "horizontal",
            "style": "IPY_MODEL_8cf5bafc02dc486dae25041be1e37c82",
            "value": 112
          }
        },
        "805a0080a6d2434486ff93183fa36e7e": {
          "model_module": "@jupyter-widgets/controls",
          "model_name": "HTMLModel",
          "model_module_version": "1.5.0",
          "state": {
            "_dom_classes": [],
            "_model_module": "@jupyter-widgets/controls",
            "_model_module_version": "1.5.0",
            "_model_name": "HTMLModel",
            "_view_count": null,
            "_view_module": "@jupyter-widgets/controls",
            "_view_module_version": "1.5.0",
            "_view_name": "HTMLView",
            "description": "",
            "description_tooltip": null,
            "layout": "IPY_MODEL_359fcc1582cf49fdb7c210085d237ef1",
            "placeholder": "​",
            "style": "IPY_MODEL_c52e8bf9c1304a9fae16a62a64e87021",
            "value": " 112/112 [00:00&lt;00:00, 4.43kB/s]"
          }
        },
        "5dd1b5587a24422e8fa27b1d1d906635": {
          "model_module": "@jupyter-widgets/base",
          "model_name": "LayoutModel",
          "model_module_version": "1.2.0",
          "state": {
            "_model_module": "@jupyter-widgets/base",
            "_model_module_version": "1.2.0",
            "_model_name": "LayoutModel",
            "_view_count": null,
            "_view_module": "@jupyter-widgets/base",
            "_view_module_version": "1.2.0",
            "_view_name": "LayoutView",
            "align_content": null,
            "align_items": null,
            "align_self": null,
            "border": null,
            "bottom": null,
            "display": null,
            "flex": null,
            "flex_flow": null,
            "grid_area": null,
            "grid_auto_columns": null,
            "grid_auto_flow": null,
            "grid_auto_rows": null,
            "grid_column": null,
            "grid_gap": null,
            "grid_row": null,
            "grid_template_areas": null,
            "grid_template_columns": null,
            "grid_template_rows": null,
            "height": null,
            "justify_content": null,
            "justify_items": null,
            "left": null,
            "margin": null,
            "max_height": null,
            "max_width": null,
            "min_height": null,
            "min_width": null,
            "object_fit": null,
            "object_position": null,
            "order": null,
            "overflow": null,
            "overflow_x": null,
            "overflow_y": null,
            "padding": null,
            "right": null,
            "top": null,
            "visibility": null,
            "width": null
          }
        },
        "ee90fe5ef04c473ab10cebc378f3daa9": {
          "model_module": "@jupyter-widgets/base",
          "model_name": "LayoutModel",
          "model_module_version": "1.2.0",
          "state": {
            "_model_module": "@jupyter-widgets/base",
            "_model_module_version": "1.2.0",
            "_model_name": "LayoutModel",
            "_view_count": null,
            "_view_module": "@jupyter-widgets/base",
            "_view_module_version": "1.2.0",
            "_view_name": "LayoutView",
            "align_content": null,
            "align_items": null,
            "align_self": null,
            "border": null,
            "bottom": null,
            "display": null,
            "flex": null,
            "flex_flow": null,
            "grid_area": null,
            "grid_auto_columns": null,
            "grid_auto_flow": null,
            "grid_auto_rows": null,
            "grid_column": null,
            "grid_gap": null,
            "grid_row": null,
            "grid_template_areas": null,
            "grid_template_columns": null,
            "grid_template_rows": null,
            "height": null,
            "justify_content": null,
            "justify_items": null,
            "left": null,
            "margin": null,
            "max_height": null,
            "max_width": null,
            "min_height": null,
            "min_width": null,
            "object_fit": null,
            "object_position": null,
            "order": null,
            "overflow": null,
            "overflow_x": null,
            "overflow_y": null,
            "padding": null,
            "right": null,
            "top": null,
            "visibility": null,
            "width": null
          }
        },
        "7930ba22bf624fb782bc54f2943f1d88": {
          "model_module": "@jupyter-widgets/controls",
          "model_name": "DescriptionStyleModel",
          "model_module_version": "1.5.0",
          "state": {
            "_model_module": "@jupyter-widgets/controls",
            "_model_module_version": "1.5.0",
            "_model_name": "DescriptionStyleModel",
            "_view_count": null,
            "_view_module": "@jupyter-widgets/base",
            "_view_module_version": "1.2.0",
            "_view_name": "StyleView",
            "description_width": ""
          }
        },
        "324810321f3e469a8df67f17b5401d34": {
          "model_module": "@jupyter-widgets/base",
          "model_name": "LayoutModel",
          "model_module_version": "1.2.0",
          "state": {
            "_model_module": "@jupyter-widgets/base",
            "_model_module_version": "1.2.0",
            "_model_name": "LayoutModel",
            "_view_count": null,
            "_view_module": "@jupyter-widgets/base",
            "_view_module_version": "1.2.0",
            "_view_name": "LayoutView",
            "align_content": null,
            "align_items": null,
            "align_self": null,
            "border": null,
            "bottom": null,
            "display": null,
            "flex": null,
            "flex_flow": null,
            "grid_area": null,
            "grid_auto_columns": null,
            "grid_auto_flow": null,
            "grid_auto_rows": null,
            "grid_column": null,
            "grid_gap": null,
            "grid_row": null,
            "grid_template_areas": null,
            "grid_template_columns": null,
            "grid_template_rows": null,
            "height": null,
            "justify_content": null,
            "justify_items": null,
            "left": null,
            "margin": null,
            "max_height": null,
            "max_width": null,
            "min_height": null,
            "min_width": null,
            "object_fit": null,
            "object_position": null,
            "order": null,
            "overflow": null,
            "overflow_x": null,
            "overflow_y": null,
            "padding": null,
            "right": null,
            "top": null,
            "visibility": null,
            "width": null
          }
        },
        "8cf5bafc02dc486dae25041be1e37c82": {
          "model_module": "@jupyter-widgets/controls",
          "model_name": "ProgressStyleModel",
          "model_module_version": "1.5.0",
          "state": {
            "_model_module": "@jupyter-widgets/controls",
            "_model_module_version": "1.5.0",
            "_model_name": "ProgressStyleModel",
            "_view_count": null,
            "_view_module": "@jupyter-widgets/base",
            "_view_module_version": "1.2.0",
            "_view_name": "StyleView",
            "bar_color": null,
            "description_width": ""
          }
        },
        "359fcc1582cf49fdb7c210085d237ef1": {
          "model_module": "@jupyter-widgets/base",
          "model_name": "LayoutModel",
          "model_module_version": "1.2.0",
          "state": {
            "_model_module": "@jupyter-widgets/base",
            "_model_module_version": "1.2.0",
            "_model_name": "LayoutModel",
            "_view_count": null,
            "_view_module": "@jupyter-widgets/base",
            "_view_module_version": "1.2.0",
            "_view_name": "LayoutView",
            "align_content": null,
            "align_items": null,
            "align_self": null,
            "border": null,
            "bottom": null,
            "display": null,
            "flex": null,
            "flex_flow": null,
            "grid_area": null,
            "grid_auto_columns": null,
            "grid_auto_flow": null,
            "grid_auto_rows": null,
            "grid_column": null,
            "grid_gap": null,
            "grid_row": null,
            "grid_template_areas": null,
            "grid_template_columns": null,
            "grid_template_rows": null,
            "height": null,
            "justify_content": null,
            "justify_items": null,
            "left": null,
            "margin": null,
            "max_height": null,
            "max_width": null,
            "min_height": null,
            "min_width": null,
            "object_fit": null,
            "object_position": null,
            "order": null,
            "overflow": null,
            "overflow_x": null,
            "overflow_y": null,
            "padding": null,
            "right": null,
            "top": null,
            "visibility": null,
            "width": null
          }
        },
        "c52e8bf9c1304a9fae16a62a64e87021": {
          "model_module": "@jupyter-widgets/controls",
          "model_name": "DescriptionStyleModel",
          "model_module_version": "1.5.0",
          "state": {
            "_model_module": "@jupyter-widgets/controls",
            "_model_module_version": "1.5.0",
            "_model_name": "DescriptionStyleModel",
            "_view_count": null,
            "_view_module": "@jupyter-widgets/base",
            "_view_module_version": "1.2.0",
            "_view_name": "StyleView",
            "description_width": ""
          }
        }
      }
    }
  },
  "cells": [
    {
      "cell_type": "markdown",
      "source": [
        "## Assignment 9"
      ],
      "metadata": {
        "id": "j54whesa2AoD"
      }
    },
    {
      "cell_type": "markdown",
      "source": [
        "Use the Europe_Covid.txt file from the DATA 690 Data Files\n",
        "\n",
        "Exercise 1.\n",
        " Compute the Jaccard similarity index\n",
        "\n",
        "• Load ‘word_tokenize’ and ‘WordNetLemmatizer’ from nltk, among\n",
        "other libraries\n",
        "\n",
        "• Use these pairs for comparison:\n",
        "o pair1 = [\"What you do defines you\",\"Your deeds define you\"]\n",
        "o pair2 = [\"Once upon a time there lived a king.\", \"Who is your\n",
        "queen?\"]\n",
        "o pair3 = [\"He is desperate\", \"Is he not desperate?\"]\n",
        "• What is the Jaccard similarity index between pair1[0] and pair1[1]?\n",
        "\n",
        "Exercise 2.\n",
        " Compute the Levenshtein distance between \"I cannot believe\n",
        "what he said\" and \"I believe it is not what he said\". What does the result\n",
        "mean?\n",
        "\n",
        "Exercise 3.\n",
        "Compute the most similar words to 'government' and 'curfew'\n",
        "based on the text.\n",
        "\n",
        "Exercise 4.\n",
        " What is the sentiment and subjectivity of the Europe_Covid\n",
        "text?\n",
        "\n",
        "Exercise 5.\n",
        "WordCloud\n",
        "• What are the most frequently used words in the Europe_Covid text?\n",
        "\n",
        "Exercise 6.\n",
        " Summarize the text in 5 sentences using extractive\n",
        "summarization.\n",
        "\n",
        "Exercise 7. Use a zero-shot transformer to determine the following\n",
        "categories: informational, query, advocacy, not informational."
      ],
      "metadata": {
        "id": "4HgRBi9P9aGa"
      }
    },
    {
      "cell_type": "code",
      "execution_count": 22,
      "metadata": {
        "id": "KGDaCVlW9ZIr"
      },
      "outputs": [],
      "source": [
        "# Import the Necessary NLP Libraries\n",
        "import nltk\n",
        "from nltk.corpus import wordnet\n",
        "from nltk.tokenize import word_tokenize\n",
        "from nltk.stem import WordNetLemmatizer\n",
        "import math"
      ]
    },
    {
      "cell_type": "code",
      "source": [
        "text = \"\"\"European countries are reporting record numbers of Covid-19 cases as the continent prepares for the pandemic to intensify through winter.Those affected include Europe's political class. Polish President Andrzej Duda tested positive for Covid-19 on Friday, according to a tweet from Presidential Minister Blazej Spychalski Saturday. Duda said that he was feeling well, was asymptomatic and would continue working in isolation. \"As you can see, I am full of strength. I hope it will stay this way. However, the fact is that I must isolate. Together with my wife, we abide by the rules of isolation in an iron manner,\" he said in a video posted on Twitter on Saturday. \"I would like to apologize to all of those, who have to go through quarantine procedures in connection to meeting with me in recent days ... I hope none of you get sick.\" The Polish President used the video to appeal to people to be especially careful of senior citizens, as they were particularly at risk from Covid-19. Duda's diagnosis comes as the country reported 13,632 new cases Friday, the highest daily tally since the pandemic began. The case tally was more than 50% higher than Monday's 7,482 cases. \"The second wave has hit the entire Europe equally,\" Prime Minister Mateusz Morawiecki said Friday. The five countries with the highest rate of infection worldwide are all in Europe, according to Johns Hopkins University's latest moving averages, as analyzed by CNN.The worst-hit nations are the Czech Republic, Belgium, the Netherlands, Switzerland and France.In all five countries, the number of new infections has surged since the beginning of October. French President Emmanuel Macron warned Friday that his country needs to live with the virus in the longterm. \"When I listen to the scientists, and the Scientific Council, we foresee [living with the virus] at best until next summer,\" Macron said, speaking during a visit to a health center. Macron added that his government aims to impose new coronavirus restrictions in a targeted way. On the same day France reported 42,032 new cases in 24 hours, a new record, according to the French Health Agency. Around 46 million people in the country are subject to a night-time coronavirus curfew in France. The picture in neighboring Spain is less dramatic but the country's daily average remains high, remaining at 299 per million on October 19. Spain's Prime Minister Pedro Sanchez pleaded with the public to limit their mobility and help fight a second wave, during a speech on Friday. \"The next few weeks, months will be tough, very tough,\" Sanchez said, adding that while Spain has officially recorded more than 1 million cases, he estimates the real number is more than 3 million. The Spanish regions of Castilla and Leon and Valencia have announced they are planning to impose a night curfew over the coming days. The region of Andalusia has also requested a curfew for the city of Granada.\"\"\"\n"
      ],
      "metadata": {
        "id": "X_Nt2ng09zJV"
      },
      "execution_count": 2,
      "outputs": []
    },
    {
      "cell_type": "markdown",
      "source": [
        "### Excersice 1\n"
      ],
      "metadata": {
        "id": "NH7zJfdU2kil"
      }
    },
    {
      "cell_type": "code",
      "source": [
        "\n",
        "pair1 = [\"What you do defines you\",\"Your deeds define you\"]\n",
        "pair2 = [\"Once upon a time there lived a king.\", \"Who is your queen?\"]\n",
        "pair3 = [\"He is desperate\", \"Is he not desperate?\"]\n"
      ],
      "metadata": {
        "id": "ZgaFb2d992pN"
      },
      "execution_count": 3,
      "outputs": []
    },
    {
      "cell_type": "code",
      "source": [
        "# Function to compute Jaccard similarity\n",
        "# Finding intersection and union\n",
        "def jaccard_similarity(list1, list2):\n",
        "    intersection = len(list(set(list1).intersection(list2)))\n",
        "    union = (len(list1) + len(list2)) - intersection\n",
        "    return float(intersection) / union\n"
      ],
      "metadata": {
        "id": "ikx6x4i596aA"
      },
      "execution_count": 4,
      "outputs": []
    },
    {
      "cell_type": "code",
      "source": [
        "import nltk\n",
        "nltk.download('punkt')"
      ],
      "metadata": {
        "colab": {
          "base_uri": "https://localhost:8080/"
        },
        "id": "FTb1e8RU-BrV",
        "outputId": "a21ed730-0af3-42ff-fa0f-da87c8ab7b8e"
      },
      "execution_count": 5,
      "outputs": [
        {
          "output_type": "stream",
          "name": "stderr",
          "text": [
            "[nltk_data] Downloading package punkt to /root/nltk_data...\n",
            "[nltk_data]   Unzipping tokenizers/punkt.zip.\n"
          ]
        },
        {
          "output_type": "execute_result",
          "data": {
            "text/plain": [
              "True"
            ]
          },
          "metadata": {},
          "execution_count": 5
        }
      ]
    },
    {
      "cell_type": "code",
      "source": [
        "# Tokenize sentences\n",
        "tokenized_pair1 = [set(word_tokenize(s)) for s in pair1]\n",
        "# Print similarity score\n",
        "print(jaccard_similarity(tokenized_pair1[0], tokenized_pair1[1]))"
      ],
      "metadata": {
        "colab": {
          "base_uri": "https://localhost:8080/"
        },
        "id": "ed56wuxO-F0W",
        "outputId": "9aa76a2f-0492-4613-e9ff-0ac8ec86da9d"
      },
      "execution_count": 6,
      "outputs": [
        {
          "output_type": "stream",
          "name": "stdout",
          "text": [
            "0.14285714285714285\n"
          ]
        }
      ]
    },
    {
      "cell_type": "markdown",
      "source": [
        "###  Exercise 2\n",
        "\n",
        "### Caluclating string Distance"
      ],
      "metadata": {
        "id": "_7ap0U3u4QYi"
      }
    },
    {
      "cell_type": "code",
      "source": [
        "from nltk.metrics import edit_distance\n",
        "# Define strings\n",
        "s1 = \"I cannot believe what he said\"\n",
        "s2 = \"I believe it is not what he said\"\n",
        "\n",
        "# Computing Levenshtein distance\n",
        "distance = edit_distance(s1, s2)\n",
        "print(distance)\n",
        "\n",
        "# The Levenshtein distance is 15. This means the minimum number of edits (insertions, deletions, or substitutions)\n",
        "# required to transform s1 into s2 is 15. The higher the number, the more different the two strings are.\n"
      ],
      "metadata": {
        "colab": {
          "base_uri": "https://localhost:8080/"
        },
        "id": "-0rWU3w--usy",
        "outputId": "ac3cdce7-ced3-4296-df20-7d0fbf5e8dd0"
      },
      "execution_count": 7,
      "outputs": [
        {
          "output_type": "stream",
          "name": "stdout",
          "text": [
            "15\n"
          ]
        }
      ]
    },
    {
      "cell_type": "markdown",
      "source": [
        "### Exercise 3\n",
        "\n",
        "### Find similar words"
      ],
      "metadata": {
        "id": "ImW_c4hf5QzI"
      }
    },
    {
      "cell_type": "code",
      "source": [
        "import nltk\n",
        "nltk.download('wordnet')\n",
        "# Lemmatizing words\n",
        "lemmatizer = WordNetLemmatizer()\n",
        "text_tokens = word_tokenize(text)\n",
        "lemmas = [lemmatizer.lemmatize(w) for w in text_tokens]"
      ],
      "metadata": {
        "colab": {
          "base_uri": "https://localhost:8080/"
        },
        "id": "c5FGILDs-7sF",
        "outputId": "35c02289-2e95-43de-e6a5-5701c90dd948"
      },
      "execution_count": 8,
      "outputs": [
        {
          "output_type": "stream",
          "name": "stderr",
          "text": [
            "[nltk_data] Downloading package wordnet to /root/nltk_data...\n"
          ]
        }
      ]
    },
    {
      "cell_type": "code",
      "source": [
        "from collections import Counter\n",
        "lemma_counts = Counter(lemmas)\n",
        "\n",
        "similar_to_government = wordnet.synsets(\"government\")[0].similar_tos()\n",
        "similar_to_curfew = wordnet.synsets(\"curfew\")[0].similar_tos()"
      ],
      "metadata": {
        "id": "KMrsaUH3_Gqb"
      },
      "execution_count": 9,
      "outputs": []
    },
    {
      "cell_type": "code",
      "source": [
        "#  Print similar words\n",
        "print(similar_to_government)\n",
        "print(similar_to_curfew)"
      ],
      "metadata": {
        "colab": {
          "base_uri": "https://localhost:8080/"
        },
        "id": "PWdQXJLT_aO5",
        "outputId": "cf6f0d0e-2fab-4231-904a-c1721cea2b7b"
      },
      "execution_count": 10,
      "outputs": [
        {
          "output_type": "stream",
          "name": "stdout",
          "text": [
            "[]\n",
            "[]\n"
          ]
        }
      ]
    },
    {
      "cell_type": "markdown",
      "source": [
        "### Excersice 4"
      ],
      "metadata": {
        "id": "xCKF_0YG6uMH"
      }
    },
    {
      "cell_type": "code",
      "source": [
        "\n",
        "from textblob import TextBlob\n",
        "\n",
        "# Creating a text blob\n",
        "blob = TextBlob(text)\n",
        "# Print sentiment\n",
        "print(blob.sentiment)"
      ],
      "metadata": {
        "colab": {
          "base_uri": "https://localhost:8080/"
        },
        "id": "BsF7QPh0_cmc",
        "outputId": "2419aa34-9afe-478b-ae82-69f85c285aea"
      },
      "execution_count": 11,
      "outputs": [
        {
          "output_type": "stream",
          "name": "stdout",
          "text": [
            "Sentiment(polarity=0.04992382294707877, subjectivity=0.3476432095036746)\n"
          ]
        }
      ]
    },
    {
      "cell_type": "markdown",
      "source": [
        "### The sentiment of the Europe_Covid text is Sentiment(polarity=0.049, subjectivity=0.34)\n",
        "#### The polarity is negative indicating an overall positive tone.\n",
        "#### The subjectivity score is low, so the text is more objective."
      ],
      "metadata": {
        "id": "bOqiUFaf95e2"
      }
    },
    {
      "cell_type": "markdown",
      "source": [
        "### Exercise 5\n",
        "\n",
        "### Generate word cloud"
      ],
      "metadata": {
        "id": "WSkgdcgo7BFa"
      }
    },
    {
      "cell_type": "code",
      "source": [
        "\n",
        "from wordcloud import WordCloud\n",
        "import matplotlib.pyplot as plt\n",
        "\n",
        "# Create word cloud\n",
        "text_for_cloud = \" \".join([w for w in lemmas])\n",
        "wordcloud = WordCloud().generate(text_for_cloud)\n",
        "\n",
        "# Display cloud\n",
        "plt.imshow(wordcloud, interpolation='bilinear')\n",
        "plt.axis(\"off\")\n",
        "plt.show()\n",
        "\n",
        "print(lemma_counts.most_common(10))"
      ],
      "metadata": {
        "colab": {
          "base_uri": "https://localhost:8080/",
          "height": 302
        },
        "id": "zNVmeTt5_724",
        "outputId": "56fc5db2-c7d5-4581-962e-c886cc0f2e69"
      },
      "execution_count": 23,
      "outputs": [
        {
          "output_type": "display_data",
          "data": {
            "text/plain": [
              "<Figure size 640x480 with 1 Axes>"
            ],
            "image/png": "[encoded data removed]"
          },
          "metadata": {}
        },
        {
          "output_type": "stream",
          "name": "stdout",
          "text": [
            "[(',', 29), ('the', 27), ('.', 23), ('to', 18), ('a', 15), ('of', 12), ('in', 12), ('The', 8), ('country', 7), ('case', 6)]\n"
          ]
        }
      ]
    },
    {
      "cell_type": "markdown",
      "source": [
        "### Exercise 6\n",
        "\n",
        "### Summarization"
      ],
      "metadata": {
        "id": "YPz871Un7aUh"
      }
    },
    {
      "cell_type": "code",
      "source": [
        "# Tokenize sentences\n",
        "from nltk.tokenize import sent_tokenize\n",
        "sentences = sent_tokenize(text)"
      ],
      "metadata": {
        "id": "s-qUigpzAET_"
      },
      "execution_count": 13,
      "outputs": []
    },
    {
      "cell_type": "code",
      "source": [
        "import heapq\n",
        "import numpy as np\n"
      ],
      "metadata": {
        "id": "knWN9az2C-Ta"
      },
      "execution_count": 14,
      "outputs": []
    },
    {
      "cell_type": "code",
      "source": [
        "def compute_scores(sentences, threshold):\n",
        "    word_freqs = lemma_counts\n",
        "    scores = []\n",
        "    for sentence in sentences:\n",
        "        word_count_in_sentence =(len(word_tokenize(sentence)))\n",
        "        word_count = sum([word_freqs[w] for w in word_tokenize(sentence) if w in word_freqs])\n",
        "        scores.append(((word_count_in_sentence) / (word_count+1)) * 1.0)\n",
        "    return scores"
      ],
      "metadata": {
        "id": "RvHJORmhDC_Q"
      },
      "execution_count": 15,
      "outputs": []
    },
    {
      "cell_type": "code",
      "source": [
        "scores = compute_scores(sentences, 1.3)"
      ],
      "metadata": {
        "id": "hVrWC2BADGWX"
      },
      "execution_count": 16,
      "outputs": []
    },
    {
      "cell_type": "code",
      "source": [
        "ranked_sentence_indexes = []\n",
        "for i in range(5):\n",
        "    ranked_sentence_indexes.append(np.argmax(scores))\n",
        "    scores[ranked_sentence_indexes[-1]] = 0\n",
        ""
      ],
      "metadata": {
        "id": "0GaVT6krDI1w"
      },
      "execution_count": 17,
      "outputs": []
    },
    {
      "cell_type": "code",
      "source": [
        "summary_sentences = [sentences[j] for j in ranked_sentence_indexes]\n",
        "summary = \". \".join(summary_sentences)\n",
        "print(summary)\n",
        "\n",
        "# The summary captures the key information about high infection rates and record cases in Europe.\n"
      ],
      "metadata": {
        "colab": {
          "base_uri": "https://localhost:8080/"
        },
        "id": "To3iFb9BDMai",
        "outputId": "43d62dd8-ebee-4497-b1a0-2a5370c351d8"
      },
      "execution_count": 18,
      "outputs": [
        {
          "output_type": "stream",
          "name": "stdout",
          "text": [
            "The case tally was more than 50% higher than Monday's 7,482 cases.. I hope it will stay this way.. European countries are reporting record numbers of Covid-19 cases as the continent prepares for the pandemic to intensify through winter.Those affected include Europe's political class.. Duda said that he was feeling well, was asymptomatic and would continue working in isolation.. The picture in neighboring Spain is less dramatic but the country's daily average remains high, remaining at 299 per million on October 19.\n"
          ]
        }
      ]
    },
    {
      "cell_type": "markdown",
      "source": [
        "### Exercise 7"
      ],
      "metadata": {
        "id": "s212xCG5_2in"
      }
    },
    {
      "cell_type": "code",
      "source": [
        "# Import Necessary NLP Libraries for Text classification\n",
        "import numpy as np\n",
        "import tensorflow as tf\n",
        "from transformers import pipeline"
      ],
      "metadata": {
        "id": "n2mGkamODOoU"
      },
      "execution_count": 19,
      "outputs": []
    },
    {
      "cell_type": "code",
      "source": [
        "\n",
        "\n",
        "classifier = pipeline(\"zero-shot-classification\", model=\"typeform/distilbert-base-uncased-mnli\")\n",
        "results = classifier([\"informational\", \"query\", \"advocacy\", \"not informational\"], text)\n",
        "\n"
      ],
      "metadata": {
        "colab": {
          "base_uri": "https://localhost:8080/",
          "height": 301,
          "referenced_widgets": [
            "f124b16896f6403a92e06a15a53217e1",
            "534f968610e54679a0a9609489a686c0",
            "591e59e93f304969b84399ca1ad37bdd",
            "f0d621c6c4eb4300a052404e8aa3ba06",
            "8462616172b244439422f0375fb1af04",
            "b7d3bcc3e195430185a297f6ef97a1fe",
            "717c2f7e4224426e8a9462e7e396bfae",
            "610ea4db6a5b4d64b654f06f1ae0aabc",
            "69649e619733473db6ed0f0c137d42e1",
            "e188c976cfa24155a7f1febc7ab71028",
            "83e56ace333e4b7ea90c45b6c4a9a660",
            "1388be66fc4b48e399a76c98c446598e",
            "b7c8b9009e98467684c3550e56d8beb6",
            "5f9084b7619044e8815c69bd4d099390",
            "5d8be0be97634b12bf8f625b8bd4a576",
            "548baabfe81d4ffea034c2dd0c2a4112",
            "a264839eaa63432185d00522a00f920a",
            "1ba19bd81459464782fa9d9361319e79",
            "9f589e7489ce4626a559590592a40387",
            "900c3bfab46e4273aad7422048cb9a92",
            "82fd7b6e00ef4ead80cc3fe109c167e2",
            "2f7ef432366141519ade438958c85f39",
            "41bffb5099a54004921e2d4e41e65c00",
            "36f89a5509954448ab53c0a02d40d65a",
            "0a8ce0bde81443948fefcead7e618418",
            "57a8811d253d48499ba2e6fa9dfe2667",
            "0a73faef940b4b878f180bc81d27e9c8",
            "60e3fe8e8a3349dcb9b3edc227f5f0a6",
            "964a8906af0c42dcae9ae7062e9dfd1d",
            "9e2879567ad34a04916bfd1ae891e8e2",
            "bcd6e646256841658fe4e0de62d0edb0",
            "4f9edad01e8546aa97e2f2383805b6b3",
            "b5a0653cc47d4273acfddaf63fdb7f11",
            "079b290ed0ce4e0d83fa86221daf01c4",
            "b40ea1fa04b140f29b55cc92cfa501dc",
            "07b5552cfdbd46409929648a8abe4085",
            "476c67892d8c47969185cffaa52ed757",
            "7cf5b8afe4ce41e1a8e355e0f027335b",
            "534a6622f08b4526ae9ec49e5682a6d3",
            "4ec3c7b8d3bd423f93d90af779383cb5",
            "86d9f05eaa25418ab429577631d6a26a",
            "d466d31acc33491b9dbe424cb78af222",
            "10682e6e27784dbaa310dbef2aad30e5",
            "8a31eecea83b4577971d79697b0dca8f",
            "0ac0d8771a6d40efad987128b87a70c5",
            "ea4f90c1aa224d0493db8dfd5a4946fb",
            "eb9b72cf290c4ba58428a5c3e471f33d",
            "805a0080a6d2434486ff93183fa36e7e",
            "5dd1b5587a24422e8fa27b1d1d906635",
            "ee90fe5ef04c473ab10cebc378f3daa9",
            "7930ba22bf624fb782bc54f2943f1d88",
            "324810321f3e469a8df67f17b5401d34",
            "8cf5bafc02dc486dae25041be1e37c82",
            "359fcc1582cf49fdb7c210085d237ef1",
            "c52e8bf9c1304a9fae16a62a64e87021"
          ]
        },
        "id": "3eNZoiVdDfIj",
        "outputId": "55f5cf89-48dd-4572-9d6c-6d2beb2f0abf"
      },
      "execution_count": 20,
      "outputs": [
        {
          "output_type": "display_data",
          "data": {
            "text/plain": [
              "config.json:   0%|          | 0.00/776 [00:00<?, ?B/s]"
            ],
            "application/vnd.jupyter.widget-view+json": {
              "version_major": 2,
              "version_minor": 0,
              "model_id": "f124b16896f6403a92e06a15a53217e1"
            }
          },
          "metadata": {}
        },
        {
          "output_type": "stream",
          "name": "stderr",
          "text": [
            "The `xla_device` argument has been deprecated in v4.4.0 of Transformers. It is ignored and you can safely remove it from your `config.json` file.\n",
            "The `xla_device` argument has been deprecated in v4.4.0 of Transformers. It is ignored and you can safely remove it from your `config.json` file.\n"
          ]
        },
        {
          "output_type": "display_data",
          "data": {
            "text/plain": [
              "model.safetensors:   0%|          | 0.00/268M [00:00<?, ?B/s]"
            ],
            "application/vnd.jupyter.widget-view+json": {
              "version_major": 2,
              "version_minor": 0,
              "model_id": "1388be66fc4b48e399a76c98c446598e"
            }
          },
          "metadata": {}
        },
        {
          "output_type": "display_data",
          "data": {
            "text/plain": [
              "tokenizer_config.json:   0%|          | 0.00/258 [00:00<?, ?B/s]"
            ],
            "application/vnd.jupyter.widget-view+json": {
              "version_major": 2,
              "version_minor": 0,
              "model_id": "41bffb5099a54004921e2d4e41e65c00"
            }
          },
          "metadata": {}
        },
        {
          "output_type": "stream",
          "name": "stderr",
          "text": [
            "The `xla_device` argument has been deprecated in v4.4.0 of Transformers. It is ignored and you can safely remove it from your `config.json` file.\n"
          ]
        },
        {
          "output_type": "display_data",
          "data": {
            "text/plain": [
              "vocab.txt:   0%|          | 0.00/232k [00:00<?, ?B/s]"
            ],
            "application/vnd.jupyter.widget-view+json": {
              "version_major": 2,
              "version_minor": 0,
              "model_id": "079b290ed0ce4e0d83fa86221daf01c4"
            }
          },
          "metadata": {}
        },
        {
          "output_type": "display_data",
          "data": {
            "text/plain": [
              "special_tokens_map.json:   0%|          | 0.00/112 [00:00<?, ?B/s]"
            ],
            "application/vnd.jupyter.widget-view+json": {
              "version_major": 2,
              "version_minor": 0,
              "model_id": "0ac0d8771a6d40efad987128b87a70c5"
            }
          },
          "metadata": {}
        },
        {
          "output_type": "stream",
          "name": "stderr",
          "text": [
            "The `xla_device` argument has been deprecated in v4.4.0 of Transformers. It is ignored and you can safely remove it from your `config.json` file.\n",
            "The `xla_device` argument has been deprecated in v4.4.0 of Transformers. It is ignored and you can safely remove it from your `config.json` file.\n"
          ]
        },
        {
          "output_type": "stream",
          "name": "stdout",
          "text": [
            "[{'sequence': 'informational', 'labels': ['the Netherlands', 'and the Scientific Council', '\" Sanchez said', '\" Macron said', 'the number of new infections has surged since the beginning of October. French President Emmanuel Macron warned Friday that his country needs to live with the virus in the longterm. \"When I listen to the scientists', 'I am full of strength. I hope it will stay this way. However', 'Switzerland and France.In all five countries', \"according to the French Health Agency. Around 46 million people in the country are subject to a night-time coronavirus curfew in France. The picture in neighboring Spain is less dramatic but the country's daily average remains high\", 'very tough', 'Belgium', \"according to Johns Hopkins University's latest moving averages\", '\" Prime Minister Mateusz Morawiecki said Friday. The five countries with the highest rate of infection worldwide are all in Europe', 'according to a tweet from Presidential Minister Blazej Spychalski Saturday. Duda said that he was feeling well', \"the highest daily tally since the pandemic began. The case tally was more than 50% higher than Monday's 7\", 'adding that while Spain has officially recorded more than 1 million cases', '632 new cases Friday', '032 new cases in 24 hours', 'months will be tough', '482 cases. \"The second wave has hit the entire Europe equally', 'who have to go through quarantine procedures in connection to meeting with me in recent days ... I hope none of you get sick.\" The Polish President used the video to appeal to people to be especially careful of senior citizens', \"remaining at 299 per million on October 19. Spain's Prime Minister Pedro Sanchez pleaded with the public to limit their mobility and help fight a second wave\", 'during a speech on Friday. \"The next few weeks', \"European countries are reporting record numbers of Covid-19 cases as the continent prepares for the pandemic to intensify through winter.Those affected include Europe's political class. Polish President Andrzej Duda tested positive for Covid-19 on Friday\", '\" he said in a video posted on Twitter on Saturday. \"I would like to apologize to all of those', 'speaking during a visit to a health center. Macron added that his government aims to impose new coronavirus restrictions in a targeted way. On the same day France reported 42', 'the fact is that I must isolate. Together with my wife', 'was asymptomatic and would continue working in isolation. \"As you can see', 'he estimates the real number is more than 3 million. The Spanish regions of Castilla and Leon and Valencia have announced they are planning to impose a night curfew over the coming days. The region of Andalusia has also requested a curfew for the city of Granada.', 'we abide by the rules of isolation in an iron manner', 'as analyzed by CNN.The worst-hit nations are the Czech Republic', 'we foresee [living with the virus] at best until next summer', 'a new record', \"as they were particularly at risk from Covid-19. Duda's diagnosis comes as the country reported 13\"], 'scores': [0.06637706607580185, 0.0609760545194149, 0.04594621807336807, 0.04552793502807617, 0.04390737786889076, 0.04302065074443817, 0.042347848415374756, 0.03964216634631157, 0.037319064140319824, 0.03628795966506004, 0.03095981664955616, 0.03057701140642166, 0.03021395578980446, 0.030088210478425026, 0.029920971021056175, 0.02944239415228367, 0.028523897752165794, 0.027911515906453133, 0.027752138674259186, 0.025289170444011688, 0.025242207571864128, 0.02511553093791008, 0.02510976977646351, 0.02504328265786171, 0.02104697935283184, 0.020436065271496773, 0.01947244070470333, 0.019461050629615784, 0.01628824509680271, 0.016182463616132736, 0.014089379459619522, 0.010637717321515083, 0.009843409061431885]}, {'sequence': 'query', 'labels': ['and the Scientific Council', 'the Netherlands', 'very tough', 'was asymptomatic and would continue working in isolation. \"As you can see', 'Switzerland and France.In all five countries', '032 new cases in 24 hours', 'I am full of strength. I hope it will stay this way. However', 'the number of new infections has surged since the beginning of October. French President Emmanuel Macron warned Friday that his country needs to live with the virus in the longterm. \"When I listen to the scientists', \"according to the French Health Agency. Around 46 million people in the country are subject to a night-time coronavirus curfew in France. The picture in neighboring Spain is less dramatic but the country's daily average remains high\", \"according to Johns Hopkins University's latest moving averages\", '\" Macron said', \"the highest daily tally since the pandemic began. The case tally was more than 50% higher than Monday's 7\", '\" Sanchez said', 'adding that while Spain has officially recorded more than 1 million cases', '\" Prime Minister Mateusz Morawiecki said Friday. The five countries with the highest rate of infection worldwide are all in Europe', 'months will be tough', 'Belgium', '482 cases. \"The second wave has hit the entire Europe equally', \"European countries are reporting record numbers of Covid-19 cases as the continent prepares for the pandemic to intensify through winter.Those affected include Europe's political class. Polish President Andrzej Duda tested positive for Covid-19 on Friday\", 'speaking during a visit to a health center. Macron added that his government aims to impose new coronavirus restrictions in a targeted way. On the same day France reported 42', 'during a speech on Friday. \"The next few weeks', '\" he said in a video posted on Twitter on Saturday. \"I would like to apologize to all of those', 'the fact is that I must isolate. Together with my wife', 'he estimates the real number is more than 3 million. The Spanish regions of Castilla and Leon and Valencia have announced they are planning to impose a night curfew over the coming days. The region of Andalusia has also requested a curfew for the city of Granada.', \"remaining at 299 per million on October 19. Spain's Prime Minister Pedro Sanchez pleaded with the public to limit their mobility and help fight a second wave\", 'who have to go through quarantine procedures in connection to meeting with me in recent days ... I hope none of you get sick.\" The Polish President used the video to appeal to people to be especially careful of senior citizens', 'as analyzed by CNN.The worst-hit nations are the Czech Republic', 'according to a tweet from Presidential Minister Blazej Spychalski Saturday. Duda said that he was feeling well', '632 new cases Friday', 'we abide by the rules of isolation in an iron manner', 'a new record', 'we foresee [living with the virus] at best until next summer', \"as they were particularly at risk from Covid-19. Duda's diagnosis comes as the country reported 13\"], 'scores': [0.07386612147092819, 0.073693186044693, 0.05470597743988037, 0.05171940475702286, 0.050570517778396606, 0.04662460833787918, 0.04413757845759392, 0.04149777069687843, 0.03755420446395874, 0.03306463733315468, 0.0328250490128994, 0.030355291441082954, 0.029566163197159767, 0.029139311984181404, 0.027408497408032417, 0.02543940767645836, 0.024538112804293633, 0.022458622232079506, 0.022313857451081276, 0.021791202947497368, 0.021262897178530693, 0.021252868697047234, 0.020963871851563454, 0.0202935878187418, 0.02004888840019703, 0.018437478691339493, 0.018348632380366325, 0.017933614552021027, 0.01769394427537918, 0.015477525070309639, 0.012003028765320778, 0.01163014117628336, 0.011383948847651482]}, {'sequence': 'advocacy', 'labels': ['the Netherlands', 'and the Scientific Council', '\" Macron said', 'Switzerland and France.In all five countries', 'very tough', '\" Sanchez said', 'I am full of strength. I hope it will stay this way. However', 'was asymptomatic and would continue working in isolation. \"As you can see', 'Belgium', \"according to the French Health Agency. Around 46 million people in the country are subject to a night-time coronavirus curfew in France. The picture in neighboring Spain is less dramatic but the country's daily average remains high\", 'the number of new infections has surged since the beginning of October. French President Emmanuel Macron warned Friday that his country needs to live with the virus in the longterm. \"When I listen to the scientists', \"according to Johns Hopkins University's latest moving averages\", \"the highest daily tally since the pandemic began. The case tally was more than 50% higher than Monday's 7\", '482 cases. \"The second wave has hit the entire Europe equally', 'months will be tough', '\" Prime Minister Mateusz Morawiecki said Friday. The five countries with the highest rate of infection worldwide are all in Europe', 'adding that while Spain has officially recorded more than 1 million cases', 'according to a tweet from Presidential Minister Blazej Spychalski Saturday. Duda said that he was feeling well', '032 new cases in 24 hours', 'during a speech on Friday. \"The next few weeks', \"European countries are reporting record numbers of Covid-19 cases as the continent prepares for the pandemic to intensify through winter.Those affected include Europe's political class. Polish President Andrzej Duda tested positive for Covid-19 on Friday\", 'speaking during a visit to a health center. Macron added that his government aims to impose new coronavirus restrictions in a targeted way. On the same day France reported 42', 'a new record', 'who have to go through quarantine procedures in connection to meeting with me in recent days ... I hope none of you get sick.\" The Polish President used the video to appeal to people to be especially careful of senior citizens', 'he estimates the real number is more than 3 million. The Spanish regions of Castilla and Leon and Valencia have announced they are planning to impose a night curfew over the coming days. The region of Andalusia has also requested a curfew for the city of Granada.', '\" he said in a video posted on Twitter on Saturday. \"I would like to apologize to all of those', \"remaining at 299 per million on October 19. Spain's Prime Minister Pedro Sanchez pleaded with the public to limit their mobility and help fight a second wave\", '632 new cases Friday', 'as analyzed by CNN.The worst-hit nations are the Czech Republic', 'we abide by the rules of isolation in an iron manner', 'the fact is that I must isolate. Together with my wife', 'we foresee [living with the virus] at best until next summer', \"as they were particularly at risk from Covid-19. Duda's diagnosis comes as the country reported 13\"], 'scores': [0.09248238056898117, 0.07051870971918106, 0.061566099524497986, 0.05857360363006592, 0.04592738300561905, 0.04588933661580086, 0.04281438887119293, 0.042055368423461914, 0.03638191148638725, 0.03516295552253723, 0.03410786762833595, 0.028293007984757423, 0.027827156707644463, 0.02678232081234455, 0.02519630268216133, 0.02454034797847271, 0.024258757010102272, 0.023967863991856575, 0.021471980959177017, 0.020621469244360924, 0.02057574689388275, 0.020103346556425095, 0.019880695268511772, 0.019321968778967857, 0.018245836719870567, 0.017996974289417267, 0.017216317355632782, 0.016986962407827377, 0.014573746360838413, 0.013803535141050816, 0.013612192124128342, 0.010418491438031197, 0.008824958465993404]}, {'sequence': 'not informational', 'labels': ['I am full of strength. I hope it will stay this way. However', 'was asymptomatic and would continue working in isolation. \"As you can see', \"according to the French Health Agency. Around 46 million people in the country are subject to a night-time coronavirus curfew in France. The picture in neighboring Spain is less dramatic but the country's daily average remains high\", 'the Netherlands', 'we abide by the rules of isolation in an iron manner', 'the number of new infections has surged since the beginning of October. French President Emmanuel Macron warned Friday that his country needs to live with the virus in the longterm. \"When I listen to the scientists', '\" Prime Minister Mateusz Morawiecki said Friday. The five countries with the highest rate of infection worldwide are all in Europe', \"remaining at 299 per million on October 19. Spain's Prime Minister Pedro Sanchez pleaded with the public to limit their mobility and help fight a second wave\", \"the highest daily tally since the pandemic began. The case tally was more than 50% higher than Monday's 7\", '\" he said in a video posted on Twitter on Saturday. \"I would like to apologize to all of those', 'very tough', 'as analyzed by CNN.The worst-hit nations are the Czech Republic', 'and the Scientific Council', \"European countries are reporting record numbers of Covid-19 cases as the continent prepares for the pandemic to intensify through winter.Those affected include Europe's political class. Polish President Andrzej Duda tested positive for Covid-19 on Friday\", 'during a speech on Friday. \"The next few weeks', 'a new record', 'speaking during a visit to a health center. Macron added that his government aims to impose new coronavirus restrictions in a targeted way. On the same day France reported 42', 'months will be tough', '\" Sanchez said', 'according to a tweet from Presidential Minister Blazej Spychalski Saturday. Duda said that he was feeling well', 'Belgium', 'adding that while Spain has officially recorded more than 1 million cases', 'Switzerland and France.In all five countries', 'he estimates the real number is more than 3 million. The Spanish regions of Castilla and Leon and Valencia have announced they are planning to impose a night curfew over the coming days. The region of Andalusia has also requested a curfew for the city of Granada.', 'who have to go through quarantine procedures in connection to meeting with me in recent days ... I hope none of you get sick.\" The Polish President used the video to appeal to people to be especially careful of senior citizens', 'the fact is that I must isolate. Together with my wife', '632 new cases Friday', '\" Macron said', 'we foresee [living with the virus] at best until next summer', '032 new cases in 24 hours', \"as they were particularly at risk from Covid-19. Duda's diagnosis comes as the country reported 13\", '482 cases. \"The second wave has hit the entire Europe equally', \"according to Johns Hopkins University's latest moving averages\"], 'scores': [0.06250935792922974, 0.055305544286966324, 0.05320413038134575, 0.05167507752776146, 0.04569581151008606, 0.043084532022476196, 0.03646332398056984, 0.03537193685770035, 0.03360139578580856, 0.03338557109236717, 0.0332273431122303, 0.031135383993387222, 0.02960439771413803, 0.02849268727004528, 0.027701228857040405, 0.027171127498149872, 0.026685617864131927, 0.026395345106720924, 0.025731399655342102, 0.02446689084172249, 0.024353068321943283, 0.024247344583272934, 0.02411259524524212, 0.023849252611398697, 0.023609915748238564, 0.02173677831888199, 0.021399199962615967, 0.020210102200508118, 0.020047664642333984, 0.01947793923318386, 0.017399566248059273, 0.01475674007087946, 0.01389176957309246]}]\n"
          ]
        }
      ]
    },
    {
      "cell_type": "code",
      "source": [
        "print(results)\n",
        "# Printing top predicted label"
      ],
      "metadata": {
        "colab": {
          "base_uri": "https://localhost:8080/"
        },
        "id": "3yyW1Vr8DuuX",
        "outputId": "6f042436-a706-4640-ce4c-c87d66f0417e"
      },
      "execution_count": 21,
      "outputs": [
        {
          "output_type": "stream",
          "name": "stdout",
          "text": [
            "[{'sequence': 'informational', 'labels': ['the Netherlands', 'and the Scientific Council', '\" Sanchez said', '\" Macron said', 'the number of new infections has surged since the beginning of October. French President Emmanuel Macron warned Friday that his country needs to live with the virus in the longterm. \"When I listen to the scientists', 'I am full of strength. I hope it will stay this way. However', 'Switzerland and France.In all five countries', \"according to the French Health Agency. Around 46 million people in the country are subject to a night-time coronavirus curfew in France. The picture in neighboring Spain is less dramatic but the country's daily average remains high\", 'very tough', 'Belgium', \"according to Johns Hopkins University's latest moving averages\", '\" Prime Minister Mateusz Morawiecki said Friday. The five countries with the highest rate of infection worldwide are all in Europe', 'according to a tweet from Presidential Minister Blazej Spychalski Saturday. Duda said that he was feeling well', \"the highest daily tally since the pandemic began. The case tally was more than 50% higher than Monday's 7\", 'adding that while Spain has officially recorded more than 1 million cases', '632 new cases Friday', '032 new cases in 24 hours', 'months will be tough', '482 cases. \"The second wave has hit the entire Europe equally', 'who have to go through quarantine procedures in connection to meeting with me in recent days ... I hope none of you get sick.\" The Polish President used the video to appeal to people to be especially careful of senior citizens', \"remaining at 299 per million on October 19. Spain's Prime Minister Pedro Sanchez pleaded with the public to limit their mobility and help fight a second wave\", 'during a speech on Friday. \"The next few weeks', \"European countries are reporting record numbers of Covid-19 cases as the continent prepares for the pandemic to intensify through winter.Those affected include Europe's political class. Polish President Andrzej Duda tested positive for Covid-19 on Friday\", '\" he said in a video posted on Twitter on Saturday. \"I would like to apologize to all of those', 'speaking during a visit to a health center. Macron added that his government aims to impose new coronavirus restrictions in a targeted way. On the same day France reported 42', 'the fact is that I must isolate. Together with my wife', 'was asymptomatic and would continue working in isolation. \"As you can see', 'he estimates the real number is more than 3 million. The Spanish regions of Castilla and Leon and Valencia have announced they are planning to impose a night curfew over the coming days. The region of Andalusia has also requested a curfew for the city of Granada.', 'we abide by the rules of isolation in an iron manner', 'as analyzed by CNN.The worst-hit nations are the Czech Republic', 'we foresee [living with the virus] at best until next summer', 'a new record', \"as they were particularly at risk from Covid-19. Duda's diagnosis comes as the country reported 13\"], 'scores': [0.06637706607580185, 0.0609760545194149, 0.04594621807336807, 0.04552793502807617, 0.04390737786889076, 0.04302065074443817, 0.042347848415374756, 0.03964216634631157, 0.037319064140319824, 0.03628795966506004, 0.03095981664955616, 0.03057701140642166, 0.03021395578980446, 0.030088210478425026, 0.029920971021056175, 0.02944239415228367, 0.028523897752165794, 0.027911515906453133, 0.027752138674259186, 0.025289170444011688, 0.025242207571864128, 0.02511553093791008, 0.02510976977646351, 0.02504328265786171, 0.02104697935283184, 0.020436065271496773, 0.01947244070470333, 0.019461050629615784, 0.01628824509680271, 0.016182463616132736, 0.014089379459619522, 0.010637717321515083, 0.009843409061431885]}, {'sequence': 'query', 'labels': ['and the Scientific Council', 'the Netherlands', 'very tough', 'was asymptomatic and would continue working in isolation. \"As you can see', 'Switzerland and France.In all five countries', '032 new cases in 24 hours', 'I am full of strength. I hope it will stay this way. However', 'the number of new infections has surged since the beginning of October. French President Emmanuel Macron warned Friday that his country needs to live with the virus in the longterm. \"When I listen to the scientists', \"according to the French Health Agency. Around 46 million people in the country are subject to a night-time coronavirus curfew in France. The picture in neighboring Spain is less dramatic but the country's daily average remains high\", \"according to Johns Hopkins University's latest moving averages\", '\" Macron said', \"the highest daily tally since the pandemic began. The case tally was more than 50% higher than Monday's 7\", '\" Sanchez said', 'adding that while Spain has officially recorded more than 1 million cases', '\" Prime Minister Mateusz Morawiecki said Friday. The five countries with the highest rate of infection worldwide are all in Europe', 'months will be tough', 'Belgium', '482 cases. \"The second wave has hit the entire Europe equally', \"European countries are reporting record numbers of Covid-19 cases as the continent prepares for the pandemic to intensify through winter.Those affected include Europe's political class. Polish President Andrzej Duda tested positive for Covid-19 on Friday\", 'speaking during a visit to a health center. Macron added that his government aims to impose new coronavirus restrictions in a targeted way. On the same day France reported 42', 'during a speech on Friday. \"The next few weeks', '\" he said in a video posted on Twitter on Saturday. \"I would like to apologize to all of those', 'the fact is that I must isolate. Together with my wife', 'he estimates the real number is more than 3 million. The Spanish regions of Castilla and Leon and Valencia have announced they are planning to impose a night curfew over the coming days. The region of Andalusia has also requested a curfew for the city of Granada.', \"remaining at 299 per million on October 19. Spain's Prime Minister Pedro Sanchez pleaded with the public to limit their mobility and help fight a second wave\", 'who have to go through quarantine procedures in connection to meeting with me in recent days ... I hope none of you get sick.\" The Polish President used the video to appeal to people to be especially careful of senior citizens', 'as analyzed by CNN.The worst-hit nations are the Czech Republic', 'according to a tweet from Presidential Minister Blazej Spychalski Saturday. Duda said that he was feeling well', '632 new cases Friday', 'we abide by the rules of isolation in an iron manner', 'a new record', 'we foresee [living with the virus] at best until next summer', \"as they were particularly at risk from Covid-19. Duda's diagnosis comes as the country reported 13\"], 'scores': [0.07386612147092819, 0.073693186044693, 0.05470597743988037, 0.05171940475702286, 0.050570517778396606, 0.04662460833787918, 0.04413757845759392, 0.04149777069687843, 0.03755420446395874, 0.03306463733315468, 0.0328250490128994, 0.030355291441082954, 0.029566163197159767, 0.029139311984181404, 0.027408497408032417, 0.02543940767645836, 0.024538112804293633, 0.022458622232079506, 0.022313857451081276, 0.021791202947497368, 0.021262897178530693, 0.021252868697047234, 0.020963871851563454, 0.0202935878187418, 0.02004888840019703, 0.018437478691339493, 0.018348632380366325, 0.017933614552021027, 0.01769394427537918, 0.015477525070309639, 0.012003028765320778, 0.01163014117628336, 0.011383948847651482]}, {'sequence': 'advocacy', 'labels': ['the Netherlands', 'and the Scientific Council', '\" Macron said', 'Switzerland and France.In all five countries', 'very tough', '\" Sanchez said', 'I am full of strength. I hope it will stay this way. However', 'was asymptomatic and would continue working in isolation. \"As you can see', 'Belgium', \"according to the French Health Agency. Around 46 million people in the country are subject to a night-time coronavirus curfew in France. The picture in neighboring Spain is less dramatic but the country's daily average remains high\", 'the number of new infections has surged since the beginning of October. French President Emmanuel Macron warned Friday that his country needs to live with the virus in the longterm. \"When I listen to the scientists', \"according to Johns Hopkins University's latest moving averages\", \"the highest daily tally since the pandemic began. The case tally was more than 50% higher than Monday's 7\", '482 cases. \"The second wave has hit the entire Europe equally', 'months will be tough', '\" Prime Minister Mateusz Morawiecki said Friday. The five countries with the highest rate of infection worldwide are all in Europe', 'adding that while Spain has officially recorded more than 1 million cases', 'according to a tweet from Presidential Minister Blazej Spychalski Saturday. Duda said that he was feeling well', '032 new cases in 24 hours', 'during a speech on Friday. \"The next few weeks', \"European countries are reporting record numbers of Covid-19 cases as the continent prepares for the pandemic to intensify through winter.Those affected include Europe's political class. Polish President Andrzej Duda tested positive for Covid-19 on Friday\", 'speaking during a visit to a health center. Macron added that his government aims to impose new coronavirus restrictions in a targeted way. On the same day France reported 42', 'a new record', 'who have to go through quarantine procedures in connection to meeting with me in recent days ... I hope none of you get sick.\" The Polish President used the video to appeal to people to be especially careful of senior citizens', 'he estimates the real number is more than 3 million. The Spanish regions of Castilla and Leon and Valencia have announced they are planning to impose a night curfew over the coming days. The region of Andalusia has also requested a curfew for the city of Granada.', '\" he said in a video posted on Twitter on Saturday. \"I would like to apologize to all of those', \"remaining at 299 per million on October 19. Spain's Prime Minister Pedro Sanchez pleaded with the public to limit their mobility and help fight a second wave\", '632 new cases Friday', 'as analyzed by CNN.The worst-hit nations are the Czech Republic', 'we abide by the rules of isolation in an iron manner', 'the fact is that I must isolate. Together with my wife', 'we foresee [living with the virus] at best until next summer', \"as they were particularly at risk from Covid-19. Duda's diagnosis comes as the country reported 13\"], 'scores': [0.09248238056898117, 0.07051870971918106, 0.061566099524497986, 0.05857360363006592, 0.04592738300561905, 0.04588933661580086, 0.04281438887119293, 0.042055368423461914, 0.03638191148638725, 0.03516295552253723, 0.03410786762833595, 0.028293007984757423, 0.027827156707644463, 0.02678232081234455, 0.02519630268216133, 0.02454034797847271, 0.024258757010102272, 0.023967863991856575, 0.021471980959177017, 0.020621469244360924, 0.02057574689388275, 0.020103346556425095, 0.019880695268511772, 0.019321968778967857, 0.018245836719870567, 0.017996974289417267, 0.017216317355632782, 0.016986962407827377, 0.014573746360838413, 0.013803535141050816, 0.013612192124128342, 0.010418491438031197, 0.008824958465993404]}, {'sequence': 'not informational', 'labels': ['I am full of strength. I hope it will stay this way. However', 'was asymptomatic and would continue working in isolation. \"As you can see', \"according to the French Health Agency. Around 46 million people in the country are subject to a night-time coronavirus curfew in France. The picture in neighboring Spain is less dramatic but the country's daily average remains high\", 'the Netherlands', 'we abide by the rules of isolation in an iron manner', 'the number of new infections has surged since the beginning of October. French President Emmanuel Macron warned Friday that his country needs to live with the virus in the longterm. \"When I listen to the scientists', '\" Prime Minister Mateusz Morawiecki said Friday. The five countries with the highest rate of infection worldwide are all in Europe', \"remaining at 299 per million on October 19. Spain's Prime Minister Pedro Sanchez pleaded with the public to limit their mobility and help fight a second wave\", \"the highest daily tally since the pandemic began. The case tally was more than 50% higher than Monday's 7\", '\" he said in a video posted on Twitter on Saturday. \"I would like to apologize to all of those', 'very tough', 'as analyzed by CNN.The worst-hit nations are the Czech Republic', 'and the Scientific Council', \"European countries are reporting record numbers of Covid-19 cases as the continent prepares for the pandemic to intensify through winter.Those affected include Europe's political class. Polish President Andrzej Duda tested positive for Covid-19 on Friday\", 'during a speech on Friday. \"The next few weeks', 'a new record', 'speaking during a visit to a health center. Macron added that his government aims to impose new coronavirus restrictions in a targeted way. On the same day France reported 42', 'months will be tough', '\" Sanchez said', 'according to a tweet from Presidential Minister Blazej Spychalski Saturday. Duda said that he was feeling well', 'Belgium', 'adding that while Spain has officially recorded more than 1 million cases', 'Switzerland and France.In all five countries', 'he estimates the real number is more than 3 million. The Spanish regions of Castilla and Leon and Valencia have announced they are planning to impose a night curfew over the coming days. The region of Andalusia has also requested a curfew for the city of Granada.', 'who have to go through quarantine procedures in connection to meeting with me in recent days ... I hope none of you get sick.\" The Polish President used the video to appeal to people to be especially careful of senior citizens', 'the fact is that I must isolate. Together with my wife', '632 new cases Friday', '\" Macron said', 'we foresee [living with the virus] at best until next summer', '032 new cases in 24 hours', \"as they were particularly at risk from Covid-19. Duda's diagnosis comes as the country reported 13\", '482 cases. \"The second wave has hit the entire Europe equally', \"according to Johns Hopkins University's latest moving averages\"], 'scores': [0.06250935792922974, 0.055305544286966324, 0.05320413038134575, 0.05167507752776146, 0.04569581151008606, 0.043084532022476196, 0.03646332398056984, 0.03537193685770035, 0.03360139578580856, 0.03338557109236717, 0.0332273431122303, 0.031135383993387222, 0.02960439771413803, 0.02849268727004528, 0.027701228857040405, 0.027171127498149872, 0.026685617864131927, 0.026395345106720924, 0.025731399655342102, 0.02446689084172249, 0.024353068321943283, 0.024247344583272934, 0.02411259524524212, 0.023849252611398697, 0.023609915748238564, 0.02173677831888199, 0.021399199962615967, 0.020210102200508118, 0.020047664642333984, 0.01947793923318386, 0.017399566248059273, 0.01475674007087946, 0.01389176957309246]}]\n"
          ]
        }
      ]
    },
    {
      "cell_type": "code",
      "source": [],
      "metadata": {
        "id": "j5BuOkg3nNmU"
      },
      "execution_count": null,
      "outputs": []
    }
  ]
}