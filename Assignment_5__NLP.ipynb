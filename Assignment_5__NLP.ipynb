{
  "nbformat": 4,
  "nbformat_minor": 0,
  "metadata": {
    "colab": {
      "provenance": []
    },
    "kernelspec": {
      "name": "python3",
      "display_name": "Python 3"
    },
    "language_info": {
      "name": "python"
    }
  },
  "cells": [
    {
      "cell_type": "markdown",
      "source": [
        "# Sai Baba Bheemishetty\n",
        "US53017"
      ],
      "metadata": {
        "id": "n6KxeS3blGD7"
      }
    },
    {
      "cell_type": "markdown",
      "source": [
        "# Excersice 1\n",
        "Use the ‘spaceX_DP.txt’ file in DATA 690 Data Files.\n",
        "\n",
        "• Import 'spacy' for stopwords and 'string' for punctuation.\n",
        "\n",
        "• Tokenize the 'SpaceX.txt' corpus.\n",
        "\n",
        "• Build 'word frequency'. Make sure you have removed the stopwords.\n",
        "\n",
        "• Determine the maximum frequency as 'word_frequencies[word]=\n",
        "(word_frequencies[word]/maximum_frequency).\n",
        "\n",
        "• Tokenize the sentences. Generate the sentence_scores. Score every sentence\n",
        "based on number of words.\n",
        "\n",
        "• Import nlargest from heapq and provide 'summarized_sentences'.\n",
        "\n",
        "• Convert sentences from spacy to strings and join all sentences.\n",
        "\n",
        "• Provide a summary once you have converted spacy outputs to strings.\n",
        "\n",
        "• Determine the length of the summary.\n",
        "\n",
        "• Determine the length of the original text.\n",
        "\n",
        "• Use spacy and textrank to summarize the text.\n",
        "\n",
        "• Print the summary in 5 sentences."
      ],
      "metadata": {
        "id": "IHuCTxDll8Bt"
      }
    },
    {
      "cell_type": "code",
      "execution_count": 3,
      "metadata": {
        "id": "w7q3CNA2p7Ig"
      },
      "outputs": [],
      "source": [
        "# 1. Importing the necessary Libraries\n",
        "import spacy\n",
        "from spacy.lang.en.stop_words import STOP_WORDS\n",
        "from string import punctuation\n",
        "from heapq import nlargest"
      ]
    },
    {
      "cell_type": "code",
      "source": [
        "# Load spaCy model\n",
        "nlp = spacy.load('en_core_web_sm')"
      ],
      "metadata": {
        "id": "2Ck2tyvdq5Rh"
      },
      "execution_count": 4,
      "outputs": []
    },
    {
      "cell_type": "code",
      "source": [
        "#  2. Tokenize corpus\n",
        "doc = nlp(open('spaceX_DP.txt').read())\n",
        "tokens = [token.text for token in doc]"
      ],
      "metadata": {
        "id": "MImze39Pq_Gv"
      },
      "execution_count": 5,
      "outputs": []
    },
    {
      "cell_type": "code",
      "source": [
        "# 3. Remove stopwords and punctuation\n",
        "word_frequencies = {}\n",
        "for word in tokens:\n",
        "    if word not in STOP_WORDS and word not in punctuation:\n",
        "        if word not in word_frequencies.keys():\n",
        "            word_frequencies[word] = 1\n",
        "        else:\n",
        "            word_frequencies[word] += 1"
      ],
      "metadata": {
        "id": "6Ja2mpNRrCFu"
      },
      "execution_count": 6,
      "outputs": []
    },
    {
      "cell_type": "code",
      "source": [
        "# 4. Normalize word frequencies\n",
        "maximum_frequency = max(word_frequencies.values())\n",
        "for word in word_frequencies.keys():\n",
        "    word_frequencies[word] = word_frequencies[word]/maximum_frequency\n"
      ],
      "metadata": {
        "id": "stiy4U8lrGrD"
      },
      "execution_count": 7,
      "outputs": []
    },
    {
      "cell_type": "code",
      "source": [
        "# 5.  Tokenize sentences\n",
        "sentences = [sent for sent in doc.sents]"
      ],
      "metadata": {
        "id": "sw9oeuJHrTD6"
      },
      "execution_count": 8,
      "outputs": []
    },
    {
      "cell_type": "code",
      "source": [
        "# Score sentences based on word frequencies\n",
        "sentence_scores = {}\n",
        "for sent in sentences:\n",
        "    for word in sent:\n",
        "        if word.text in word_frequencies.keys():\n",
        "            if sent not in sentence_scores.keys():\n",
        "                sentence_scores[sent] = word_frequencies[word.text]\n",
        "            else:\n",
        "                sentence_scores[sent] += word_frequencies[word.text]\n"
      ],
      "metadata": {
        "id": "cWmQus7ZrVdY"
      },
      "execution_count": 9,
      "outputs": []
    },
    {
      "cell_type": "code",
      "source": [
        "# Extract top 5 sentences\n",
        "summarized_sentences = nlargest(5, sentence_scores, key=sentence_scores.get)\n",
        "summarized_sentences\n"
      ],
      "metadata": {
        "id": "kfvyBp7LrYvf",
        "colab": {
          "base_uri": "https://localhost:8080/"
        },
        "outputId": "48a234ae-2320-497d-d15c-d7f408558c07"
      },
      "execution_count": 10,
      "outputs": [
        {
          "output_type": "execute_result",
          "data": {
            "text/plain": [
              "[However, the regulatory agency that is was supposed to be guiding this environmental impact process, the FAA, allowed SpaceX.”Five years after the FAA issued its Final Environmental Impact Statement, the agency issued a 23-page “Written Re-Evaluation of the 2014 Final Environmental Impact Statement for the SpaceX Texas Launch Site,” on May 21, 2019, that acknowledged SpaceX had switched from the Falcon program to the Starship project that included a new “experimental test program.”,\n",
              " According to a new SpaceX job posting spotted by Business Insider (that has since been removed from the site), the SpaceX Village will be the company’s “private spaceport with eyes on Mars” and “an epic place to live and work.”,\n",
              " In its July 17 response, the FAA said SpaceX has proposed operation of the Starship/Super Heavy launch vehicle at Boca Chica, but to do so the company “must obtain an experimental permit or launch license from the FAA Office of Commercial Space Transportation.”,\n",
              " Environmental organizations spotlight inadequate oversight by FAA of SpaceX’s Boca Chica testing facility, call for an EIS In a letter sent to the Federal Aviation Administratio(FAA), environmental groups are calling on the agency to require a new Environmental Impact Statement (EIS) that fully details the impact of the SpaceX Boca Chica testing and launch site.,\n",
              " The metamorphosis of this facility, which sits on tender tidal flats and feet from sand dunes where sea turtles lay eggs, has largely gone unnoticed and under the radar in this border community where environmentalists say they are strapped between fighting the construction of Donald Trump’s border wall through the region, and the development of three new liquefied natural gas facilities at the deepwater Port of Brownsville just 5 miles from SpaceX. More hangars and buildings have been built 1.5 miles from the test launch pad, where SpaceX has its administrative offices, and more and more cars line the sand dunes across from the complex, and unless one travels often the 21-mile stretch of Highway 4, also known as Boca Chica Highway, that leads to the beach and passes by the SpaceX complex, it might not be so noticeable.]"
            ]
          },
          "metadata": {},
          "execution_count": 10
        }
      ]
    },
    {
      "cell_type": "code",
      "source": [
        "# Join summarized sentences\n",
        "final_summary = [sent.text for sent in summarized_sentences]\n",
        "summary = ' '.join(final_summary)\n"
      ],
      "metadata": {
        "id": "gsPEKPVWrbrx"
      },
      "execution_count": 21,
      "outputs": []
    },
    {
      "cell_type": "code",
      "source": [
        "# Print summary\n",
        "print(summary)"
      ],
      "metadata": {
        "id": "xLCLEArZreDV",
        "colab": {
          "base_uri": "https://localhost:8080/"
        },
        "outputId": "08e6c71f-46b3-4163-aaba-0d1834456d65"
      },
      "execution_count": 12,
      "outputs": [
        {
          "output_type": "stream",
          "name": "stdout",
          "text": [
            "However, the regulatory agency that is was supposed to be guiding this environmental impact process, the FAA, allowed SpaceX.”Five years after the FAA issued its Final Environmental Impact Statement, the agency issued a 23-page “Written Re-Evaluation of the 2014 Final Environmental Impact Statement for the SpaceX Texas Launch Site,” on May 21, 2019, that acknowledged SpaceX had switched from the Falcon program to the Starship project that included a new “experimental test program.” According to a new SpaceX job posting spotted by Business Insider (that has since been removed from the site), the SpaceX Village will be the company’s “private spaceport with eyes on Mars” and “an epic place to live and work.” In its July 17 response, the FAA said SpaceX has proposed operation of the Starship/Super Heavy launch vehicle at Boca Chica, but to do so the company “must obtain an experimental permit or launch license from the FAA Office of Commercial Space Transportation.” Environmental organizations spotlight inadequate oversight by FAA of SpaceX’s Boca Chica testing facility, call for an EIS In a letter sent to the Federal Aviation Administratio(FAA), environmental groups are calling on the agency to require a new Environmental Impact Statement (EIS) that fully details the impact of the SpaceX Boca Chica testing and launch site. The metamorphosis of this facility, which sits on tender tidal flats and feet from sand dunes where sea turtles lay eggs, has largely gone unnoticed and under the radar in this border community where environmentalists say they are strapped between fighting the construction of Donald Trump’s border wall through the region, and the development of three new liquefied natural gas facilities at the deepwater Port of Brownsville just 5 miles from SpaceX. More hangars and buildings have been built 1.5 miles from the test launch pad, where SpaceX has its administrative offices, and more and more cars line the sand dunes across from the complex, and unless one travels often the 21-mile stretch of Highway 4, also known as Boca Chica Highway, that leads to the beach and passes by the SpaceX complex, it might not be so noticeable.\n"
          ]
        }
      ]
    },
    {
      "cell_type": "code",
      "source": [
        "print(\"Summary Length:\", len(summary))\n",
        "print(\"Text Length:\", len(text))"
      ],
      "metadata": {
        "colab": {
          "base_uri": "https://localhost:8080/"
        },
        "id": "XjTEOF_Bohvg",
        "outputId": "3dd86b9f-7206-4e32-b11b-585cfc96a20f"
      },
      "execution_count": 20,
      "outputs": [
        {
          "output_type": "stream",
          "name": "stdout",
          "text": [
            "Summary Length: 2172\n",
            "Text Length: 121215\n"
          ]
        }
      ]
    },
    {
      "cell_type": "markdown",
      "source": [
        "# Excersice 2\n",
        "\n",
        "What is the overall sentiment of the ‘spaceX.txt’ text? Provide the compound, negative,\n",
        "neutral, and positive metrics. Is the text more ‘subjective’ or more ‘objective’?"
      ],
      "metadata": {
        "id": "Nj4hLbnWmZ9r"
      }
    },
    {
      "cell_type": "code",
      "source": [
        "#Import TextBlob module\n",
        "from textblob import TextBlob\n",
        "# Read in the text file\n",
        "with open('spaceX_DP.txt', 'r') as f:\n",
        "    text = f.read()\n",
        "# Create a TextBlob object\n",
        "blob = TextBlob(text)\n",
        "# Get the sentiment properties\n",
        "sentiment = blob.sentiment\n",
        "# Extract sentiment metrics\n",
        "compound = sentiment.polarity\n",
        "negative = sentiment.subjectivity\n",
        "neutral = 0.5\n",
        "positive = 1 - negative - neutral"
      ],
      "metadata": {
        "id": "eQ2f_bg5rhpN"
      },
      "execution_count": 13,
      "outputs": []
    },
    {
      "cell_type": "code",
      "source": [
        "# Print the results\n",
        "print(\"Sentiment Analysis Results:\")\n",
        "print(\"Compound: \", compound)\n",
        "print(\"Negative: \", negative)\n",
        "print(\"Neutral: \", neutral)\n",
        "print(\"Positive: \", positive)\n",
        "\n",
        "if negative < 0.5:\n",
        "    print(\"The text is more OBJECTIVE\")\n",
        "else:\n",
        "    print(\"The text is more SUBJECTIVE\")"
      ],
      "metadata": {
        "id": "m8pV-Oeorl9Z",
        "colab": {
          "base_uri": "https://localhost:8080/"
        },
        "outputId": "5c0516cf-33f6-4446-dd89-41745b643069"
      },
      "execution_count": 14,
      "outputs": [
        {
          "output_type": "stream",
          "name": "stdout",
          "text": [
            "Sentiment Analysis Results:\n",
            "Compound:  0.07778410274128203\n",
            "Negative:  0.4412223159089057\n",
            "Neutral:  0.5\n",
            "Positive:  0.058777684091094295\n",
            "The text is more OBJECTIVE\n"
          ]
        }
      ]
    },
    {
      "cell_type": "code",
      "source": [],
      "metadata": {
        "id": "EEJWaj4N2Ecx"
      },
      "execution_count": 14,
      "outputs": []
    }
  ]
}