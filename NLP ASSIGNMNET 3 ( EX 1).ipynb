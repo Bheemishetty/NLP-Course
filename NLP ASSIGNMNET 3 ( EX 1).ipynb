{
 "cells": [
  {
   "cell_type": "markdown",
   "id": "dab454a6",
   "metadata": {},
   "source": [
    "# NLP ASSIGNMENT 3"
   ]
  },
  {
   "cell_type": "markdown",
   "id": "44fcd2cc",
   "metadata": {},
   "source": [
    "### Exercise 1\n",
    "\n",
    "1. Use the train.tsv dataset at https://www.kaggle.com/c/sentiment-analysis-on-\n",
    "movie-reviews/data\n",
    "\n",
    "2. Take a look at the data and get info about the data\n",
    "3. Count the number of expressed sentiments by category\n",
    "4. Provide a histogram of sentiments by category\n",
    "5. Generate document term matrix by using scikit-learn's CountVectorizer. Tokenize\n",
    "and remove symbols and numbers\n",
    "6. Split dataset (the test dataset represents 30% of the total data).\n",
    "7. Import the MultinomialNB module and create a Multinomial Naive Bayes\n",
    "classifier object using MultinomialNB() function. Compute the model accuracy.\n",
    "8. TF-IDF(Term Frequency-Inverse Document Frequency) normalizes the\n",
    "document term matrix. It is the product of TF and IDF. Word with high tf-idf in a\n",
    "document, it is most of the times occurred in given documents and must be\n",
    "absent in the other documents. So, the words must be a signature word. Use\n",
    "TfidfVectorizer() for 'Phrase'.\n",
    "9. Split dataset by using function train_test_split(). You need to pass basically 3\n",
    "parameters features, target, and test_set size. Additionally, you can use\n",
    "random_state to select records randomly.\n",
    "10.Build the Text Classification Model using TF-IDF.\n",
    "11.First, import the MultinomialNB module and create the Multinomial Naive Bayes\n",
    "classifier object using MultinomialNB() function.\n",
    "12.Then, fit your model on a train set using fit() and perform prediction on the test\n",
    "set using predict()."
   ]
  },
  {
   "cell_type": "code",
   "execution_count": 1,
   "id": "773e291f",
   "metadata": {},
   "outputs": [],
   "source": [
    "## Importing the necessacery libraries\n",
    "import pandas as pd\n",
    "from sklearn.feature_extraction.text import CountVectorizer, TfidfTransformer\n",
    "from sklearn.naive_bayes import MultinomialNB\n",
    "from sklearn.model_selection import train_test_split\n",
    "import matplotlib.pyplot as plt"
   ]
  },
  {
   "cell_type": "code",
   "execution_count": 2,
   "id": "58660309",
   "metadata": {},
   "outputs": [],
   "source": [
    "# Load data\n",
    "df = pd.read_csv('train.tsv', sep='\\t')"
   ]
  },
  {
   "cell_type": "code",
   "execution_count": 20,
   "id": "aad86d54",
   "metadata": {},
   "outputs": [
    {
     "name": "stdout",
     "output_type": "stream",
     "text": [
      "<class 'pandas.core.frame.DataFrame'>\n",
      "RangeIndex: 156060 entries, 0 to 156059\n",
      "Data columns (total 4 columns):\n",
      " #   Column      Non-Null Count   Dtype \n",
      "---  ------      --------------   ----- \n",
      " 0   PhraseId    156060 non-null  int64 \n",
      " 1   SentenceId  156060 non-null  int64 \n",
      " 2   Phrase      156060 non-null  object\n",
      " 3   Sentiment   156060 non-null  int64 \n",
      "dtypes: int64(3), object(1)\n",
      "memory usage: 4.8+ MB\n",
      "None\n"
     ]
    }
   ],
   "source": [
    "# Explore data \n",
    "print(df.info())"
   ]
  },
  {
   "cell_type": "code",
   "execution_count": 5,
   "id": "f3333259",
   "metadata": {},
   "outputs": [
    {
     "name": "stdout",
     "output_type": "stream",
     "text": [
      "   PhraseId  SentenceId                                             Phrase  \\\n",
      "0         1           1  A series of escapades demonstrating the adage ...   \n",
      "1         2           1  A series of escapades demonstrating the adage ...   \n",
      "2         3           1                                           A series   \n",
      "3         4           1                                                  A   \n",
      "4         5           1                                             series   \n",
      "\n",
      "   Sentiment  \n",
      "0          1  \n",
      "1          2  \n",
      "2          2  \n",
      "3          2  \n",
      "4          2  \n",
      "2    79582\n",
      "3    32927\n",
      "1    27273\n",
      "4     9206\n",
      "0     7072\n",
      "Name: Sentiment, dtype: int64\n"
     ]
    }
   ],
   "source": [
    "# Print the top 5 rows in data set\n",
    "print(df.head())\n",
    "print(df.Sentiment.value_counts()) "
   ]
  },
  {
   "cell_type": "code",
   "execution_count": 19,
   "id": "9dc90093",
   "metadata": {},
   "outputs": [
    {
     "data": {
      "text/plain": [
       "2    79582\n",
       "3    32927\n",
       "1    27273\n",
       "4     9206\n",
       "0     7072\n",
       "Name: Sentiment, dtype: int64"
      ]
     },
     "execution_count": 19,
     "metadata": {},
     "output_type": "execute_result"
    }
   ],
   "source": [
    "# Counting sentiments\n",
    "Sentiment_counts = df.Sentiment.value_counts()\n",
    "Sentiment_counts"
   ]
  },
  {
   "cell_type": "code",
   "execution_count": 8,
   "id": "7f852767",
   "metadata": {},
   "outputs": [
    {
     "data": {
      "text/plain": [
       "Text(0, 0.5, 'Frequency')"
      ]
     },
     "execution_count": 8,
     "metadata": {},
     "output_type": "execute_result"
    },
    {
     "data": {
      "image/png": "[encoded data removed]",
      "text/plain": [
       "<Figure size 432x288 with 1 Axes>"
      ]
     },
     "metadata": {
      "needs_background": "light"
     },
     "output_type": "display_data"
    }
   ],
   "source": [
    "# Ploting histogram\n",
    "Sentiment_counts.plot(kind='bar')\n",
    "plt.title(\"Sentiment Counts\")\n",
    "plt.xlabel(\"Sentiment\")\n",
    "plt.ylabel(\"Frequency\")"
   ]
  },
  {
   "cell_type": "code",
   "execution_count": 10,
   "id": "df821e41",
   "metadata": {},
   "outputs": [
    {
     "data": {
      "text/plain": [
       "CountVectorizer(tokenizer=<function <lambda> at 0x000001C29A93A700>)"
      ]
     },
     "execution_count": 10,
     "metadata": {},
     "output_type": "execute_result"
    }
   ],
   "source": [
    "# Creating document term matrix\n",
    "count_vectorizer = CountVectorizer(tokenizer=lambda x: x.split()) \n",
    "dtm = count_vectorizer.fit_transform(df['Phrase'])\n",
    "count_vectorizer"
   ]
  },
  {
   "cell_type": "code",
   "execution_count": 12,
   "id": "4d518dea",
   "metadata": {},
   "outputs": [],
   "source": [
    "# Spliting the data into test and train\n",
    "X_train, X_test, y_train, y_test = train_test_split(dtm, df['Sentiment'], test_size=0.3, random_state=42)"
   ]
  },
  {
   "cell_type": "code",
   "execution_count": 13,
   "id": "c6298052",
   "metadata": {},
   "outputs": [
    {
     "name": "stdout",
     "output_type": "stream",
     "text": [
      "Accuracy: 0.6108334401298646\n"
     ]
    }
   ],
   "source": [
    "# Multinomial Naive Bayes model\n",
    "nb = MultinomialNB()\n",
    "nb.fit(X_train, y_train)\n",
    "print(\"Accuracy:\", nb.score(X_test, y_test))\n"
   ]
  },
  {
   "cell_type": "code",
   "execution_count": 14,
   "id": "2cda90a3",
   "metadata": {},
   "outputs": [],
   "source": [
    "# TF-IDF vectors\n",
    "tfidf = TfidfTransformer()\n",
    "X_train_tfidf = tfidf.fit_transform(X_train)\n"
   ]
  },
  {
   "cell_type": "code",
   "execution_count": 15,
   "id": "1a2a1bac",
   "metadata": {},
   "outputs": [],
   "source": [
    "# Spliting the dataset for TF-IDF vectors\n",
    "X_train_tfidf, X_test_tfidf, y_train, y_test = train_test_split(X_train_tfidf, y_train, test_size=0.3, random_state=42)\n"
   ]
  },
  {
   "cell_type": "code",
   "execution_count": 16,
   "id": "1890fdda",
   "metadata": {},
   "outputs": [
    {
     "data": {
      "text/plain": [
       "MultinomialNB()"
      ]
     },
     "execution_count": 16,
     "metadata": {},
     "output_type": "execute_result"
    }
   ],
   "source": [
    "# creatinhg a Multinomial NB  classifier with TF-IDF\n",
    "nb_tfidf = MultinomialNB()\n",
    "nb_tfidf.fit(X_train_tfidf, y_train) \n"
   ]
  },
  {
   "cell_type": "code",
   "execution_count": 18,
   "id": "da43dcd4",
   "metadata": {},
   "outputs": [
    {
     "name": "stdout",
     "output_type": "stream",
     "text": [
      "TF-IDF Accuracy: 0.5789521862508773\n"
     ]
    }
   ],
   "source": [
    "# Test model Acuracy\n",
    "from sklearn.metrics import accuracy_score\n",
    "predictions = nb_tfidf.predict(X_test_tfidf)\n",
    "print(\"TF-IDF Accuracy:\", accuracy_score(y_test, predictions))"
   ]
  },
  {
   "cell_type": "code",
   "execution_count": null,
   "id": "d61be6ec",
   "metadata": {},
   "outputs": [],
   "source": []
  }
 ],
 "metadata": {
  "kernelspec": {
   "display_name": "Python 3 (ipykernel)",
   "language": "python",
   "name": "python3"
  },
  "language_info": {
   "codemirror_mode": {
    "name": "ipython",
    "version": 3
   },
   "file_extension": ".py",
   "mimetype": "text/x-python",
   "name": "python",
   "nbconvert_exporter": "python",
   "pygments_lexer": "ipython3",
   "version": "3.9.12"
  }
 },
 "nbformat": 4,
 "nbformat_minor": 5
}
