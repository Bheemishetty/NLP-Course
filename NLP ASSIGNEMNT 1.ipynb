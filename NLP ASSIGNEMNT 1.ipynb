{
 "cells": [
  {
   "cell_type": "markdown",
   "id": "9e1e7501",
   "metadata": {},
   "source": [
    "1. Which of the following is not an application of NLP?\n",
    "\n",
    "a. Image labeling\n",
    "\n",
    "b. Poetry generation\n",
    "\n",
    "c. Sentimental analysis\n",
    "\n",
    "d. E-mail classification"
   ]
  },
  {
   "cell_type": "markdown",
   "id": "89384ace",
   "metadata": {},
   "source": [
    "## Image labeling"
   ]
  },
  {
   "cell_type": "markdown",
   "id": "b6b4ba75",
   "metadata": {},
   "source": [
    "2. Which of the following is not an NLP task?\n",
    "\n",
    "a. Tokenization\n",
    "\n",
    "b. Stop word removal\n",
    "\n",
    "c. Part-of-speech tagging\n",
    "\n",
    "d. Image segmentation"
   ]
  },
  {
   "cell_type": "markdown",
   "id": "5ea2b96b",
   "metadata": {},
   "source": [
    "##  Image segmentation"
   ]
  },
  {
   "cell_type": "markdown",
   "id": "91b0712b",
   "metadata": {},
   "source": [
    "3. Which of the following is not a disadvantage of rule-based approaches for NLP?\n",
    "\n",
    "a. Not flexible\n",
    "\n",
    "b. Not scalable\n",
    "\n",
    "c. Requires huge dataset\n",
    "\n",
    "d. None of the above"
   ]
  },
  {
   "cell_type": "markdown",
   "id": "5ac9a906",
   "metadata": {},
   "source": [
    "##  Requires huge dataset"
   ]
  },
  {
   "cell_type": "markdown",
   "id": "8fdea9d6",
   "metadata": {},
   "source": [
    "4. What are the two major types of NLP approaches?"
   ]
  },
  {
   "cell_type": "markdown",
   "id": "77d97107",
   "metadata": {},
   "source": [
    "## The two major types of NLP approaches are rule-based and machine learning-based."
   ]
  },
  {
   "cell_type": "markdown",
   "id": "af312ff4",
   "metadata": {},
   "source": [
    "5. Use TextBlob to translate a sentence in English into French, Mandarin, and\n",
    "Hindi?\n",
    "\n",
    "a. Import TextBlob\n",
    "\n",
    "b. Languages are coded as ‘fr’, ‘zh-CN’, ‘hi’\n",
    "\n",
    "c. Translate the following sentence “Who knew translation could be fun” into\n",
    "French, Mandarin, and Hindi"
   ]
  },
  {
   "cell_type": "code",
   "execution_count": 1,
   "id": "f20c6282",
   "metadata": {},
   "outputs": [
    {
     "name": "stdout",
     "output_type": "stream",
     "text": [
      "Requirement already satisfied: textblob in c:\\users\\babas\\anaconda3\\lib\\site-packages (0.17.1)\n",
      "Requirement already satisfied: nltk>=3.1 in c:\\users\\babas\\anaconda3\\lib\\site-packages (from textblob) (3.7)\n",
      "Requirement already satisfied: regex>=2021.8.3 in c:\\users\\babas\\anaconda3\\lib\\site-packages (from nltk>=3.1->textblob) (2022.3.15)\n",
      "Requirement already satisfied: joblib in c:\\users\\babas\\anaconda3\\lib\\site-packages (from nltk>=3.1->textblob) (1.1.0)\n",
      "Requirement already satisfied: click in c:\\users\\babas\\anaconda3\\lib\\site-packages (from nltk>=3.1->textblob) (8.0.4)\n",
      "Requirement already satisfied: tqdm in c:\\users\\babas\\anaconda3\\lib\\site-packages (from nltk>=3.1->textblob) (4.64.0)\n",
      "Requirement already satisfied: colorama in c:\\users\\babas\\anaconda3\\lib\\site-packages (from click->nltk>=3.1->textblob) (0.4.4)\n",
      "Note: you may need to restart the kernel to use updated packages.\n"
     ]
    }
   ],
   "source": [
    "pip install textblob"
   ]
  },
  {
   "cell_type": "code",
   "execution_count": 4,
   "id": "e94dac4d",
   "metadata": {},
   "outputs": [],
   "source": [
    "# Import TextBlob\n",
    "from textblob import TextBlob"
   ]
  },
  {
   "cell_type": "code",
   "execution_count": 5,
   "id": "0cf4f11b",
   "metadata": {},
   "outputs": [],
   "source": [
    "# define the languages\n",
    "languages = ['fr', 'zh-CN', 'hi']"
   ]
  },
  {
   "cell_type": "code",
   "execution_count": 7,
   "id": "08f8bebb",
   "metadata": {},
   "outputs": [],
   "source": [
    "# loading the sentence\n",
    "sentence = \"Who knew translation could be fun\""
   ]
  },
  {
   "cell_type": "code",
   "execution_count": 8,
   "id": "09963bda",
   "metadata": {},
   "outputs": [
    {
     "name": "stdout",
     "output_type": "stream",
     "text": [
      "fr: Qui savait que la traduction pouvait être amusante\n",
      "zh-CN: 谁知道翻译可能很有趣\n",
      "hi: कौन जानता था कि अनुवाद मजेदार हो सकता है\n"
     ]
    }
   ],
   "source": [
    "# Initialize a counter and set a maximum number of translations\n",
    "counter = 0\n",
    "max_translations = len(languages)\n",
    "\n",
    "# Translate the sentence into each language using a while loop\n",
    "while counter < max_translations:\n",
    "    language = languages[counter]\n",
    "    translation = TextBlob(sentence).translate(from_lang=\"en\", to=language)\n",
    "    print('{}: {}'.format(language, translation))\n",
    "    counter += 1"
   ]
  },
  {
   "cell_type": "code",
   "execution_count": null,
   "id": "75844084",
   "metadata": {},
   "outputs": [],
   "source": []
  }
 ],
 "metadata": {
  "kernelspec": {
   "display_name": "Python 3 (ipykernel)",
   "language": "python",
   "name": "python3"
  },
  "language_info": {
   "codemirror_mode": {
    "name": "ipython",
    "version": 3
   },
   "file_extension": ".py",
   "mimetype": "text/x-python",
   "name": "python",
   "nbconvert_exporter": "python",
   "pygments_lexer": "ipython3",
   "version": "3.9.12"
  }
 },
 "nbformat": 4,
 "nbformat_minor": 5
}
