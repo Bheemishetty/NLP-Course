{
  "nbformat": 4,
  "nbformat_minor": 0,
  "metadata": {
    "colab": {
      "provenance": []
    },
    "kernelspec": {
      "name": "python3",
      "display_name": "Python 3"
    },
    "language_info": {
      "name": "python"
    }
  },
  "cells": [
    {
      "cell_type": "markdown",
      "source": [
        "## Sai Baba Bheemishetty\n",
        "US53017"
      ],
      "metadata": {
        "id": "AYKlHlRwWUB1"
      }
    },
    {
      "cell_type": "markdown",
      "source": [
        "### Exercise 1.\n",
        " Sentiment Analysis\n",
        "This exercise will allow you to use PyTorch. Refer to the DATA 690 Resources.\n",
        "1. Import the required libraries.\n",
        "2. Load the dataset containing a set of 1,000 product reviews from Amazon, which are\n",
        "paired with a label of 0 (for negative reviews) or 1 (for positive reviews). Get the data at\n",
        "https://archive.ics.uci.edu/ml/datasets/Sentiment+Labelled+Sentences.\n",
        "3. Separate the data into two variables: one containing the reviews and the other containing\n",
        "the labels. Remove the punctuation from the reviews.\n",
        "4. Create a variable containing the vocabulary of the entire set of reviews.\n",
        "5. Additionally, create a dictionary that maps each word to an integer, where the words will\n",
        "be the keys and the integers will be the values.\n",
        "6. Encode the review data by replacing each word in a review for its paired integer.\n",
        "7. Create a class containing the architecture of the network.\n",
        "8. Make sure that you include an embedding layer. Initialize the model using 64 embedding\n",
        "dimensions and 128 neurons for 3 LSTM layers.\n",
        "9. Define the loss function, an optimization algorithm, and the number of epochs to train for.\n",
        "For example, you can use binary cross-entropy loss as the loss function, the Adam\n",
        "optimizer, and train for 10 epochs.\n",
        "10. Create a for loop that goes through the different epochs and through every single\n",
        "review individually. For each review, perform a prediction, calculate the loss function, and\n",
        "update the parameters of the network. Additionally, calculate the accuracy of the network\n",
        "over that training data.\n",
        "11. Plot the progress of the loss function and accuracy over time."
      ],
      "metadata": {
        "id": "WbRx3DPPWUOZ"
      }
    },
    {
      "cell_type": "markdown",
      "source": [],
      "metadata": {
        "id": "I6yA1DQoahL2"
      }
    },
    {
      "cell_type": "code",
      "source": [
        "#1. Importing all the Libraries and Packages\n",
        "\n",
        "import torch\n",
        "import torch.nn as nn\n",
        "import torch.optim as optim\n",
        "import torchvision.transforms as transforms\n",
        "from torch.utils.data import DataLoader, TensorDataset, Dataset\n",
        "import numpy as np  # For numerical operations\n",
        "import pandas as pd  # For data manipulation\n",
        "from torch.nn.utils.rnn import pad_sequence\n",
        "from sklearn.model_selection import train_test_split  # For data splitting\n",
        "import matplotlib.pyplot as plt"
      ],
      "metadata": {
        "id": "icdNVXSa50IU"
      },
      "execution_count": 108,
      "outputs": []
    },
    {
      "cell_type": "markdown",
      "source": [
        "Load the dataset containing a set of 1,000 product reviews from Amazon"
      ],
      "metadata": {
        "id": "J4V0HjmdWUSR"
      }
    },
    {
      "cell_type": "code",
      "source": [
        "import pandas as pd\n",
        "import string\n",
        "\n",
        "# Load the dataset\n",
        "data = 'amazon_cells_labelled.txt'\n",
        "column_names = ['review', 'label']\n",
        "df = pd.read_csv(data, sep='\\t', header=None, names=column_names)"
      ],
      "metadata": {
        "id": "hpUoPxhT_dkS"
      },
      "execution_count": 71,
      "outputs": []
    },
    {
      "cell_type": "code",
      "source": [
        "print(df.head())"
      ],
      "metadata": {
        "colab": {
          "base_uri": "https://localhost:8080/"
        },
        "id": "VCAKFaKU_ix1",
        "outputId": "e8e17576-7e7a-4c05-9124-4f2446112dfe"
      },
      "execution_count": 72,
      "outputs": [
        {
          "output_type": "stream",
          "name": "stdout",
          "text": [
            "                                              review  label\n",
            "0  So there is no way for me to plug it in here i...      0\n",
            "1                        Good case, Excellent value.      1\n",
            "2                             Great for the jawbone.      1\n",
            "3  Tied to charger for conversations lasting more...      0\n",
            "4                                  The mic is great.      1\n"
          ]
        }
      ]
    },
    {
      "cell_type": "code",
      "source": [
        "# Step 3: Remove punctuation and split the data into reviews and labels.\n",
        "def remove_punctuation(text):\n",
        "    return text.translate(str.maketrans('', '', string.punctuation))\n"
      ],
      "metadata": {
        "id": "KpLfvEUK_s8i"
      },
      "execution_count": 73,
      "outputs": []
    },
    {
      "cell_type": "code",
      "source": [
        "df['review'] = df['review'].apply(remove_punctuation)\n",
        "reviews = df['review'].values\n",
        "labels = df['label'].values"
      ],
      "metadata": {
        "id": "ahXPOsuvAITw"
      },
      "execution_count": 74,
      "outputs": []
    },
    {
      "cell_type": "code",
      "source": [
        "df['review']"
      ],
      "metadata": {
        "colab": {
          "base_uri": "https://localhost:8080/"
        },
        "id": "Lypu9QvKAdx0",
        "outputId": "6629d6a7-0983-4f67-b370-e04897a67a77"
      },
      "execution_count": 75,
      "outputs": [
        {
          "output_type": "execute_result",
          "data": {
            "text/plain": [
              "0      So there is no way for me to plug it in here i...\n",
              "1                              Good case Excellent value\n",
              "2                                  Great for the jawbone\n",
              "3      Tied to charger for conversations lasting more...\n",
              "4                                       The mic is great\n",
              "                             ...                        \n",
              "995    The screen does get smudged easily because it ...\n",
              "996    What a piece of junk I lose more calls on this...\n",
              "997                          Item Does Not Match Picture\n",
              "998    The only thing that disappoint me is the infra...\n",
              "999    You can not answer calls with the unit never w...\n",
              "Name: review, Length: 1000, dtype: object"
            ]
          },
          "metadata": {},
          "execution_count": 75
        }
      ]
    },
    {
      "cell_type": "code",
      "source": [
        "df['label']"
      ],
      "metadata": {
        "colab": {
          "base_uri": "https://localhost:8080/"
        },
        "id": "CAESG7evAd1N",
        "outputId": "c0e10f36-5e9f-4934-d8ff-4383cab5a961"
      },
      "execution_count": 76,
      "outputs": [
        {
          "output_type": "execute_result",
          "data": {
            "text/plain": [
              "0      0\n",
              "1      1\n",
              "2      1\n",
              "3      0\n",
              "4      1\n",
              "      ..\n",
              "995    0\n",
              "996    0\n",
              "997    0\n",
              "998    0\n",
              "999    0\n",
              "Name: label, Length: 1000, dtype: int64"
            ]
          },
          "metadata": {},
          "execution_count": 76
        }
      ]
    },
    {
      "cell_type": "code",
      "source": [
        "# step 4 Create a vocabulary of the entire set of reviews\n",
        "from collections import Counter\n",
        "\n",
        "# Concatenate all the reviews into a single string\n",
        "all_reviews_text = ' '.join(reviews)\n",
        "\n",
        "# Tokenize the text into words\n",
        "words = all_reviews_text.split()\n",
        "\n",
        "# Create a Counter to count word frequencies\n",
        "word_freq = Counter(words)\n",
        "\n",
        "# Create a vocabulary list containing unique words\n",
        "vocabulary = list(word_freq.keys())\n",
        "\n",
        "# Print the size of the vocabulary\n",
        "print(\"Vocabulary Size:\", len(vocabulary))\n",
        "\n",
        "# Optionally, you can print the first few words in the vocabulary\n",
        "print(\"First Few Words in Vocabulary:\", vocabulary[:10])\n"
      ],
      "metadata": {
        "colab": {
          "base_uri": "https://localhost:8080/"
        },
        "id": "YT0btjQTTk3G",
        "outputId": "e03c3c75-ec68-46f5-c57f-a332159b7d16"
      },
      "execution_count": 77,
      "outputs": [
        {
          "output_type": "stream",
          "name": "stdout",
          "text": [
            "Vocabulary Size: 2220\n",
            "First Few Words in Vocabulary: ['So', 'there', 'is', 'no', 'way', 'for', 'me', 'to', 'plug', 'it']\n"
          ]
        }
      ]
    },
    {
      "cell_type": "code",
      "source": [
        "print(all_reviews_text)"
      ],
      "metadata": {
        "colab": {
          "base_uri": "https://localhost:8080/"
        },
        "id": "8MAKhfcOUihL",
        "outputId": "7dcb9063-aa0b-405e-fc15-bd1b73a9375c"
      },
      "execution_count": 78,
      "outputs": [
        {
          "output_type": "stream",
          "name": "stdout",
          "text": [
            "So there is no way for me to plug it in here in the US unless I go by a converter Good case Excellent value Great for the jawbone Tied to charger for conversations lasting more than 45 minutesMAJOR PROBLEMS The mic is great I have to jiggle the plug to get it to line up right to get decent volume If you have several dozen or several hundred contacts then imagine the fun of sending each of them one by one If you are Razr owneryou must have this Needless to say I wasted my money What a waste of money and time And the sound quality is great He was very impressed when going from the original battery to the extended battery If the two were seperated by a mere 5 ft I started to notice excessive static and garbled sound from the headset Very good quality though The design is very odd as the ear clip is not very comfortable at all Highly recommend for any one who has a blue tooth phone I advise EVERYONE DO NOT BE FOOLED So Far So Good Works great It clicks into place in a way that makes you wonder how long that mechanism would last I went on Motorolas website and followed all directions but could not get it to pair again I bought this to use with my Kindle Fire and absolutely loved it The commercials are the most misleading I have yet to run this new battery below two bars and thats three days without charging I bought it for my mother and she had a problem with the battery Great Pocket PC  phone combination Ive owned this phone for 7 months now and can say that its the best mobile phone Ive had I didnt think that the instructions provided were helpful to me People couldnt hear me talk and I had to pull out the earphone and talk on the phone Doesnt hold charge This is a simple little phone to use but the breakage is unacceptible This product is ideal for people like me whose ears are very sensitive It is unusable in a moving car at freeway speed I have two more years left in this contract and I hate this phone Car charger as well as AC charger are included to make sure you never run out of juiceHighy recommended You need at least 3 mins to get to your phone book from the time you first turn on the phoneBattery life is short It has kept up very well Poor Talk Time Performance The case is great and works fine with the 680 worthless product It has a great camera thats 2MP and the pics are nice and clear with great picture quality I was not impressed by this product Nice headset priced right I only hear garbage for audio Excellent bluetooth headset It has all the features I want Who in their right mind is gonna buy this battery AFTER ARGUING WITH VERIZON REGARDING THE DROPPED CALLS WE RETURNED THE PHONES AFTER TWO DAYS This case seems well made Disappointed with battery Not loud enough and doesnt turn on like it should good protection and does not make phone too bulky A usable keyboard actually turns a PDA into a realworld useful machine instead of just a neat gadget This phone is pretty sturdy and Ive never had any large problems with it I love this thing Everything about it is fine and reasonable for the price ie VERY DISAPPOINTED I even dropped this phone into a stream and it was submerged for 15 seconds and it still works great I have been very happy with the 510 and have had NO complaints from any one regarding my sound quality on their end The buttons for on and off are bad Essentially you can forget Microsofts tech support I really recommend this faceplates since it looks very nice elegant and cool These headphones were a great find  and I think they are perhaps the best purchase Ive made in the last several years  seriously Buy a different phone  but not this You have to hold the phone at a particular angle for the other party to hear you clearly The one big drawback of the MP3 player is that the buttons on the phones front cover that let you pause and skip songs lock out after a few seconds A week later after I activated it it suddenly died It feels more comfortable than most headsets because I wear glasses and that gets in the way sometimes Great for iPODs too This device is great in several situations1 Mic Doesnt work Even in my BMW 3 series which is fairly quiet I have trouble hearing what the other person is saying Great choice Nice docking station for home or work This is a beautiful phone Love this product Do Not Buy for D807wrongly advertised for D807 This is a great little item I love this phone  It is very handy and has a lot of features  I purchased this and within 2 days it was no longer working I wear it everyday and it holds up very well Not a good bargain Well packaged arrived on time and works as intended The battery runs down quickly This item worked great but it broke after 6 months of use The headsets are easy to use and everyone loves them This phone works great The construction of the headsets is poor Product was excellent and works better than the verizon one and Boy was it cheaper The phone loads super For a product that costs as much as this one does I expect it to work far better and with greater ease than this thing does Made very sturdy Worked great The ear buds only play music in one ear Dont waste your money Will order from them again If you plan to use this in a car forget about it I found this product to be waaay too big Best Ive found so far  Ive tried 2 other bluetooths and this one has the best quality for both me and the listener as well as ease of using Im very disappointed with my decision Integrated seamlessly with the Motorola RAZR phone Buyer Beware you could flush money right down the toilet Definitely a bargain The price was very good and with the free shipping and all it was a good purchase I received my supposedly new motorola 375 and apparently there was not a match between the phone and the charger ProsGood camera  very nice pictures  also has cool styles like black and white and more Thats a huge design flaw unless Im not using it correctly which I dont think is the case I love my 350 headset My Jabra350 bluetooth headset is great the reception is very good and the ear piece is a comfortable fit The camera although rated at an impressive 13 megapixels renders images that fall well below expectations of such a relatively high resolution I purcashed this for the car charger and it does not work Sound quality on both end is excellent I use headset to call my wife and ask my wife to use headset to call me 2 This phone is slim and light and the display is beautiful its a little geeky but i think thats its sex on toast and it rocks and oozes sex right down to its battery embedded sleek stylish leather case Great product fast shipping Absolutely great The keyboard is a nice compromise between a full QWERTY and the basic cell phone number keypad i got this phone around the end of may and im completely unhappy with it It is very comfortable on the ear It has been a winner for us Setup couldnt have been simpler Ive tried several different earpieces for my cell phone and this Jabra one is the first one Ive found that fits my ear comfortably Could not get strong enough signal Iam very pleased with my purchase Bad Quality Gets the job done Great audio Basically the service was very bad it did not work in my cell phone plug i am very up set with the charger Ive only had my bluetooth for a few weeks but I really like it The BT headset was such a disapoinment It is so small and you dont even realize that it is there after a while of getting used to it The accompanied software is almost brilliant Headset works great  was packaged nicely to avoid any damage I definitly recommend BuyerBe Very Careful The majority of the Logitech earbud headsets failed Very good stuff for the price My headset works just peachykeen In my house I was getting dropped coverage upstairs and no coverage in my basement Voice recognition is tremendous What a waste During several different 2 minute calls I experienced 5 drops and it was in an area that had 5 bars I was not happy with this item very disappointed The phone takes FOREVER to charge like 2 to 5 hours literally I got this phone on reccomendation from a relative and Im glad I did What a waste of time Its reception is very very poor Items stated as included from the description ARE NOT INCLUDED After 3 months screen just went black all of a sudden I Was Hoping for More Audio Quality is poor very poor I had absolutely no problem with this headset linking to my 8530 Blackberry Curve I know that sounds funny but to me it seemed like sketchy technology that wouldnt work wellWell this one works great Ive bought 5 wired headphones that sound better than these This phone is very fast with sending any kind of messages and web browsing is significantly faster than previous phones i have used Nice quality build unlike some cheap s out there This item is fantastic and works perfectly And I just love the colors W810i is just SUPERB All I can do is whine on the Internet so here it goesThe more I use the thing the less I like it Great charger This is essentially a communications tool that does not communicate Works like a charm it work the same as the one I got with the phone I still maintain that monkeys shouldnt make headphones we just obviously dont share enough DNA to copy the design over to humans Great Value Doesnt work at all I bougth it for my L7c and its not working The look of it is very sharp and the screen is nice and clear with great graphics doesnt last long One thing I hate is the mode set button at the side EXCELLENT SERVICE Thank you for wasting my money How can that beThe audio quality is poor The iGo chargers and tips are really great The file browser offers all the options that one needsHandsfree is great Superb Phone on a Great Network I connected my wifes bluetoothMotorola HS850 to my phone and it worked like a charm whether the phone was in my pocket or the case I put the latest OS on it v115g and it now likes to slow to a crawl and lock up every once in a while It only recognizes the Phone as its storage device If you like a loud buzzing to override all your conversations then this phone is for you Dont buy this product Ive had this bluetoooth headset for some time now and still not comfortable with the way it fits on the ear The sound quality is good and functionality is awesome I have this phone and it is a thorn in my side I really abhor it I recently had problems where I could not stay connected for more than 10 minutes before being disconnected Incredible Design Flaw Great phone Waste of 13 bucks But when I check voice mail at night the keypad backlight turns off a few seconds into the first message and then Im lost The replacement died in a few weeks Any ring toneOverall good phone to buy Lately they have been extremely nice and helpful on the phone I have had problems wit hit dropping signal and more Not impressed Light weight I hardly notice it is there Youll love how thin it is Bad Choice The pleather case doesnt fit useless phone simply deaf The color is even prettier than I thought it would be and the graphics are incredibly sharp All in all I think it was a good investment It makes very strange ticking noises before it ends the call The best electronics of the available FM Transmitters Battery lasts only a few hours great headset very impressed  H500 The 12 mega pixel camera being a part of a phone is reasonably good7 Ive had this for nearly 2 years and it has worked great for me Good transmit audio We are sending it back I did not bother contacting the company for few dollar product but I learned the lesson that I should not have bought this form online anyway If you hate earbugs avoid this phone by all means Great price also The range is very decent Ive been able to roam around my house with the phone in the living room with no receptionsound quality issues fast service I would highly recommend this I would recommend this I also didnt like the on button it felt like it would crack with use WORST PHONE EVER Im still infatuated with this phone Freezes frequently4 Its kind of embarrassing to use because of how it looks and mostly its embarrassing how childlike the company is Simple lightweight and great fit All in all Id expected a better consumer experience from Motorola Theres a horrible tick sound in the background on all my calls that I have never experienced before These are certainly very comfortable and functionality is decent I usually dont like headbands but this one is very lightweight  doesnt mess up my hair Im a bit disappointed I have had this phone for over a year now and I will tell you its not that great I ordered this for sony Ericsson W810i but I think it only worked once thats when I first used it The battery is completely useless to me What a big waste of time Dont waste your  on this one Great sound and service Really pleased with this product so far One of my favorite purchases ever best bluetooth on the market Authentic leather with nice shine and comfort I recommend you this case  I was very excited to get this headset because I thought it was really cute Do not make the same mistake as me Big Disappointment with calendar sync the phone was unusable and was not new Worst Customer Service Ever No additional ear gels provided and no instructions whatsoever It defeats the purpose of a bluetooth headset Worth every penny Excellent wallet type phone case Nice headphones for the price and they work great Internet is excrutiatingly slow It is very comfortable to wear as well which is probably the most important aspect about using a case Its fits like a glove and is strong secure and durable O my gosh the best phone I have ever had Its very attractive and appears to be of good quality I love all the features and form factor This product had a strong rubberpetroleum smell that was unbearable after a while and caused me to return it poor quality and service The cable looks so thin and flimsy it is scary Great Earpiece Excellent hands free tool Great for using with your home stereo Good product  incredible value Only had this a month but its worked flawlessly so far Works great Absolutel junk THAT one didnt work either Battery life is real good Returned 8 hours later Its a great item Dont waste your money Love this headset Not only will it drain your player but may also potentially fry it Worked perfectly Unreliable  Im giving up I gave it 5 stars because of the sound quality Avoid this one if you can Reversible plug works great I wasted my little money with this earpiece Very good phone Best of all is the rotating feature very helpful Comfort for our whole family Good product good seller I love this bluetooth First of all it doesnt wear well I am very impressed with this headset from Plantronics I got it because it was so small and adorable Great phone I wouldnt recommend buying this product Piece of Junk Poorly contstruct hinge This item is great installed it let it charged up overnite and it has been working good every since with no problems Great Phone Dont buy it Excellent Phone DO NOT PURCHASE THIS PHONE The voice recognition thru the handset is excellent This is hands down the best phone Ive ever had Works great when my cat attacked the phone he scratched the protective strip instead of destroying the screen This one works and was priced right Customer service was terrible Battery life still not long enough in Motorola Razor V3i Sending it back Now I know that I made a wise decision Someone shouldve invented this sooner Good price Everything worked on the first tryThe device was certainly engineered in a clever way and the construction feels good I received it quickly and it works great Has been working great As many people complained I found this headsets microphone was very weak My 5year old Nokia 2160 from Tracfone holds the charge a lot better than this They do not care about the consumer one bit This is a good battery and it got here really fast The instruction manual is lacking Also its slim enough to fit into my alarm clock docking station without removing the case Phone now holds charge like it did when it was new The battery is unreliable as well as the service use antena Its uncomfortable and the sound quality is quite poor compared with the phone Razr or with my previous wired headset that plugged into an LG We have gotten a lot of compliments on it This is definitely a must have if your state does not allow cell phone usage while driving I want my money back I love this device I am also very happy with the price I ordered this product first and was unhappy with it immediately The Ngage is still lacking in earbuds I was able to do voice dialing in the car with no problem I have 23 bars on my cell phone when I am home but you cant not hear anything good item low price Howeverthe riingtones are not the best and neither are the games The plug did not work very well AMAZON SUCKS Rip off Over charge shipping VERY comfortable The battery is working well as a replacement for the original that came with the phone over 2 years ago The reception is excellent It fits comfortably in either ear the sound is clear and loud and the charge lasts a couple of days very clear quality sound and you dont have to mess with the sound on your iPod since you have the sound buttons on the headset 1 long lasting battery you dont have to recharge it as frequentyly as some of the flip phones2 Obviously there is a problem with the adhesive Very disappointing It was an inexpensive piece but I would still have expected better quality It is practically useless and did not add any kind of boost to my reception after I bought it Excellent sound quality Was not happy A PIECE OF JUNK THAT BROKE AFTER BEING ON MY PHONE FOR 2 DAYS New Battery works great in phone Worst customer service Ive dropped my phone more times than I can say even on concrete and my phone is still great knock on wood Reception is terrible and full of static Good audio quality This little device has transformed my organizational capability and made my life a whole lot easier I was sitting in my vehicle with the cradle on my belt and the headset lost signal Were JERKS on the phone Works like a charm Works as advertised Comfortable Nice Range Good Battery Life Their network coverage in Los Angeles is horrible Excellent starter wireless headset The loudspeaker option is great the bumpers with the lights is very  appealing The only thing that I think could improve is the sound leaks out from the headset First off the reception sucks I have never had more than 2 bars ever The phone gets EXTREMELY HOT The microphone also works well but according to people I have called it applifies everything Nice design and quality Also if your phone is dropped this case is not going to save it specially when dropped face down It is light easy to use and has very clear reception and transmission bad fit way too big It definitely was not as good as my S11 awesome device Waste of money I had ordered a motorola data cable got a very well finished and working product Love This Phone I was looking for this headset for a long time and now that Ive got it I couldnt be happier Ill be drivng along and my headset starts ringing for no reason Display is excellent and camera is as good as any from that year Battery life is also great The worst phone Ive ever had Only had it for a few months Not a good item It worked for a while then started having problems in my auto reverse tape player This is so embarassing and also my ears hurt if I try to push the ear plug into my ear Protects the phone on all sides This is a VERY average phone with bad battery life that operates on a weak network Clear Skype Calls Long Battery Life Long Range Soyo technology sucks Great Hands Free Device you can even take self portraits with the outside exterior display very cool Same problem as others have mentioned After trying many many handsfree gadgets this is the one that finally works well Magical Help The worst piece of crap ever along with the Verizon customer service Poor sound quality The best phone in market  It worked very well The company shipped my product very promptly and it works well Exactly what I wanted The picture resolution is far below what other comparablypriced phones are offering today This is a great deal Excellent product I am very satisfied with the purchase I highly recommend these and encourage people to give them a try Better than youd expect Using all earpieces left or right this thing will not stay on my ear Great product and price Sounds good reasonably priced and effective Its that simple  Still Waiting Im sure this item would work well if I ever recieve it what a disappointment Very prompt service Excellent product for the price Very pleased with this headset dont waste your money and time I especially love the long battery life Its so stupid to have to keep buying new chargers car chargers cradles headphones and car kits every time a new phone comes out Works great Plantronics Bluetooth Excelent Buy I came over from Verizon because cingulair has nicer cell phones the first thing I noticed was the really bad service Ill be looking for a new earpiece I highly recommend this device to everyone Jawbone Era is awesome too We received a WHITE colored battery that goes DEAD after a couple hoursTHe original used to last a week  but still lasts longer than thereplacement After a year the battery went completely dead on my headset I have used several phone in two years but this one is the best An Awesome New Look For Fall 2000 This is the first phone Ive had that has been so cheaply made Att is not clear sound is very distorted and you have to yell when you talk The plastic breaks really easy on this clip Price is good too Dont make the same mistake I did Oh and I forgot to also mention the weird color effect it has on your phone Im using it with an iriver SPINN with case and it fits fine Also the area where my unit broke Im not too fond of the magnetic strap Overall I am psyched to have a phone which has all my appointments and contacts in and gets great reception every thing on phone work perfectly she like it Another note about this phones appearance is that it really looks rather bland especially in the all black model ITS REALLY EASY My Sanyo has survived dozens of drops on blacktop without ill effect Fantastic earphones It finds my cell phone right away when I enter the car Low Quality I highly recommend this modest priced cellular phone But it does get better reception and clarity than any phone Ive had before Warning  Stay away I wish I could return the unit and get back my money Awsome Device Works Great I used to talk on it for 1  1 12 hours and the battery would be literally drained and dying If you dont find it too bad as again the unit comes with one earpad onlyI would not recommend this to anyone Very Displeased I might have gotten a defect but I would not risk buying it again because of the built quality alone They made this case too small and is very difficult to install Restored my phone to like new performance I would recommend purchasing the Jabra JX10 series 2 which works flawlessly with my Moto Q go figure I searched the Internet and found this one to be the best value Does not fit Very happy with this product The screen size is big key pad lit well enough and the camera quality is excellent for a camera phone Theres really nothing bad I can say about this headset im glad i found this product on amazon it is hard to find it wasnt high priced Portable and it works My colleague  I now get great receptionA little expensive but performance is great I even fully charged it before I went to bed and turned off blue tooth and wifi and noticed that it only had 20  left in the morning Ive also had problems with the phone reading the memory card in which I always turn it on and then off again Not good when wearing a hat or sunglasses Timely shipment and quality product Nice solid keyboard Very well made and fits my Surefire GX2 perfectly Horrible phone BT50 battery junk We would recommend these to others Cant get the software to work with my computer Disappointed poor voice clarity The battery works great No buyers remorse on this one Very disappointed in AccessoryOne I find this inexcusable and so will probably be returning this phone and perhaps changing carriers Looks great and is strong I have had TMobile service for 2 or 3 years now and I am pretty happy with it The update procedure is difficult and cumbersome Disappointment I hate anything that goes in my ear Great software for Motorolas The delivery was on time Very easy to use Uncomfortable In the Ear Dont use with LG VX9900 EnV The volume switch rocketed out of the unit to a destination unknown It holds a charge for a long time is reasonably comfortable under longwearing conditions and the quality of sound is tremendous Id like to return it The keyboard is really worthwhile in usefulness and is sturdy enough I dont expect any problems Verizons bills however are difficult to understand even though their pricing plans are simple After charging overnight these batteries work great You wont regret it I love this phone A Disappointment Its not user friendly Unfortunately the ability to actually know you are receiving a call is a rather important feature and this phone is pitiful in that respect Then I exchanged for the same phone even that had the same problem This results in the phone being either stuck at max volume or mute This PDA rocks It is super charged up for use as a small hybrid palmtopcameracellphone and excels in those roles I would definitely recommend the Jabra BT250v for those who are looking for comfort clarity and a great price I had Verizon 2 years ago and really liked their service Pretty piece of junk Plug was the wrong size Works as described Save your money Ive had this item for 11 months now Bad Purchase WELL IM SATISFIED The bose noise cancelling is amazing which is very important for a NYC commuter This battery is an excellent bargain Defective crap I would have given no star if I was able I wear glasses and it fits fine with them The sound quality for the device is unacceptableUnless you are in a really quiet area you almost hear nothing I would not recommend this item to anyone The holster that arrived did not match the photo in the ad greatno problems at all As an earlier review noted plug in this charger and nothing happens This frog phone charm is adorable and very eye catching You never know if you pushed it hard enough or the right number of times for the function you want or not The sound is clear and the people I talk to on it are amazed at the quality too I got the aluminum case for my new Palm VX and it worked really wellit has protected my handheld perfectly so far very good product well made Mobile Phone Tools are a must have I am very impressed with the job that Motorola did on the sturdiness of this phone I received my orders well within the shipping timeframe everything was in good working order and overall I am very excited to have this source The phone is sturdy and waterproof I am not impressed with this and i would not recommend this item to anyone My only complaint is the standard sound volume is a little low even when turned up to 5of 5 Thanks again to Amazon for having the things I need for a good price I ended up sliding it on the edge of my pants or back pockets instead I had to go to a store and bought a new NOKIA phone which is working great Works great REALLY UGLY horrible had to switch 3 times The noise shield is incrediable No real improvement Razr Battery  Good buy Keep up the good work Amazon They refuse to refund or replace Unfortunately its easy to accidentally activate them with the gentletouch buttons if you accidentally touch the phone to your face while listening So I basically threw my money out the window for nothing Great case and price All it took was one drop from about 6 inches above the kitchen counter and it was crackedI am not impressed and I am not laughing Bluetooth range is good  a few days ago I left my phone in the trunk got a call and carried the conversation without a hitch Small sleek impressive looking practical setup with ample storage in place The eargels channel the sound directly into your ear and seem to increase the sound volume and clarity none of the new ones have ever quite worked properly I am glad I purchased it Ive missed numerous calls because of this reason Perhaps my phone is defective but people cannot hear me when I use this Dont buy this product sucked most of the stuff does not work with my phone No shifting no bubbling no peeling not even a scratch NOTHINGI couldnt be more happier with my new one for the Droid Worst software ever used If I could give this zero stars I would Trying to make a call on these is an exercise in frustration The case is a flimsy piece of plastic and has no front or side protection whatsoever I own a Jabra Earset and was very happy with it but the sound quality especially outgoing on this is better I love the camera its really pretty good quality Thank you for such great service Its a total package The seller is very understanding and patient I would definitely buy from them again I give Wirefly 1 starI will contact CingularATT and inform them of this practice Its AGGRAVATING Great product for the price I have purchased these for both family and friends and all enjoy their clarity and ease of use Virgin Wireless rocks and so does this cheap little phone None of it works just dont buy it Muddy low quality sound and the casing around the wires insert was poorly super glued and slid off Please dont waste your money All in all Im quite satisfied with this purchase If you are looking for a good quality Motorola Headset keep looking this isnt it Yet Plantronincs continues to use the same flawed charger design Disapointing Results Cumbersome design Great it was new packaged nice works good no problems and it came in less time then I expected Great Product Its A PIECE OF CRAP My experience was terrible This was my fourth bluetooth headset and while it was much more comfortable than my last Jabra which I HATED This fixes all the problems Worst ever I am very happy Ive had no trouble accessing the Internet downloading ringtones or performing any of the functions I can barely ever hear on it and am constantly saying what The battery life is highly unacceptable That company is a joke It does everything the description said it would Due to this happening on every call I was forced to stop using this headset It works great with a car charger especially if you cannot plug in two adapters at the same time Verizon tech support walked my through a few procedures none of which worked and I ended up having to do a hard reset wiping out all my data Voice Quality Signal Strength Dropped Calls It plays louder than any other speaker of this size the price is so low that most would think the quality is lacking however its not Better than expected It feels poorly constructed the menus are difficult to navigate and the buttons are so recessed that it is difficult to push them Battery is holding up well Also difficult to put onId recommend avoiding this product I only used it two days and it wasnt always easy to hear with I got the car charger and not even after a week the charger was brokenI went to plug it in and it started smoking Sprint  terrible customer service Linked to my phone without effort THey are so cool Easy to use Better Than New What possesed me to get this junk I have no idea Piece of trash A pretty good product This is a great phone For the price on Amazon it is an excellent product which I would highly recommend Their Research and Development division obviously knows what theyre doing The real killer is the volume and of course it breaking Those phones are working just fine now I am more than happy with this product Poor Construction This is infuriating Overall I would recommend this phone over the new Walkman Sprint charges for this service It is cheap and it feel and look just as cheap It fits my ear well and is comfortable on It doesnt work in Europe or Asia clipping this to your belt will deffinitely make you feel like 50 cents upandcoming I like design and look of Jabra behing the ear headsets and 5020 is pretty comfortible to wear 24 hours a day without pain in the ear I was amazed at the quick arrival of the two original lg cell phone batteries and and at a fraction of the price the worst phone from samsungcrap this crappy Samsung E715 is the worst i have ever seeen the charger worked for about a week and then completely stopped charging my phone Poor product However I needed some better instructions You need two hands to operate the screenThis software interface is decade old and cannot compete with new software designs Worked very well paired with a Treo 700w and as a Skype headset on my PC using a USB Bluetooth transceiver Steer clear of this product and go with the genuine Palm replacementr pens which come in a threepack DO NOT BUY DO NOT BUYIT SUCKS This is a great product sure beats using your fingers Plus I seriously do not believe it is worth its steep price point All the other cases Ive tried normally fall apart after a few months but this one seems to be in for the long haul Very Dissapointing Performance Dont make the same mistake that I did and please dont buy this phone This phone might well be the worst Ive ever had in any brand Case was more or less an extra that I originally put on but later discarded because it scratched my ear I recommend iGo to anyone with different brand cell phonesmp3 players in the family Dont bother  go to the store I posted more detailed comments under the grey or black phone but i have the Fire Red and its a great color I did not have any problem with this item and would order it again if needed You get what you pay for I guess Not only did the software do a great job of this I could also make my own ringtones form my existing CDs without an internet connection im surprised this is a good quality car charger and theres not much reviews about it These are fabulous However BT headsets are currently not good for real time games like firstperson shooters since the audio delay messes me up I used bitpim a free program you can find on the internetto transfer data to the phoneThe price of the cable was excellent Disappointing accessory from a good manufacturer Performed awful  muffled tinny incoming sound and severe echo for those on the other end of the call Very windresistant Obviously they have a terrible customer service so you get what you pay for They do not last forever but is not overly expensive to replaceEasy to operate and the sound is much better than others I have tried I contacted the company and they told me that although the unit was still under warranty if I couldnt produce my receipt I was out of luck Linksys should have some way to exchange a bad phone for a refurb unit or something Phone is sturdy as all nokia bar phones are Great phone When I placed my treo into the case not only was it NOT snug but there was A LOT of extra room on the sides Im pleased Battery is terrible I found the product to be easy to set up and use The earpiece on this is too large or too heavyit keeps falling out of my ear Utter crap Sound quality is TERRIBLE The charger arrived within the promised timeframe but it did not work No ear loop needed its tiny and the sound is great Finally after three or four times the spring of the latch broke and I could not use it any longer on the visor The handsfree part works fine but then the car tries to download the address book and the Treo rebootsOverall I still rate this device high Talk about USELESS customer service It felt too light and tinny This does not fit the Palm Tungsten E2 and it broke the first time I tried to plug it in Im happy about this purchase good quality and low price I love the look and feel of Samsung flipphones Its welldesigned and very sharp  the blue is a very nice color Does everything it should and more I could not recommend these more Nice Sound Looks good in the picture but this case was a huge disappointment Much less than the jawbone I was going to replace it with Setup went very smoothly its extremely slow and takes forever to do anything with it A must study for anyone interested in the worst sins of industrial design The first thing that happened was that the tracking was off It is well made easy to access the phone and has a handy detachable belt clip Then I had to continue pairing it periodically since it somehow kept dropping Cant upload ringtones from a third party Bluetooth does not work phone locks up screens just flash up and now it just makes calls randomly while in my pocket locked Truly awful It works fine on my Motorola 325 cellphone and a lot better than the wornout battery did The volume for the ringer is REAL good you have choices how loud And none of the tones is acceptable camera color balance is AWFUL This product is clearly not ready for prime time I dont care how cool it looks if you cant tell a call is coming in its worthless I love the ringtones because they are so upbeat Chinese Forgeries Abound Easy to pair with my Samsung Cell The instructions didnt explain that a microphone jack could be used i would advise to not purchase this item it never worked very well Too bad you have to pay up to  a month for the service Works well The nokia CA42 USB cable did not work with my phone Clear crisp sound I have to use the smallest earpieces provided but it stays on pretty well The biggest complaint I have is the battery drains superfast The design might be ergonomic in theory but I could not stand having these in my ear Do NOT buy if you want to use the holster The phone can also take great pictures and even video clips It doesnt make you look cool Because both ears are occupied background is not distracting at all Comfortable fit  you need your headset to be comfortable for at least an hour at a time if not for an entire day Also the phone doesnt seem to accept anything except CBR mp3s preferably ripped by Windows Media Player You cant beat the price on these  Comes with a strong light that you can use to light up your camera shots and even flash SOS signals seriously lightweight and works well So just beware I love this cable  it allows me to connect any miniUSB device to my PC So anyone near you will hear part of your conversation This is cool because most cases are just open there allowing the screen to get all scratched up I bought this phone as a replacement for my StarTac and have regretted it since Appears to actually outperform the original battery from China that came with my V325i Cant store anything but phone numbers to SIM It lasts less than 3o minutes if I actually try to use the phoneMy wife has the same phone with the same problem Poor quality jabra ear gels R the best Not worth it The phone crashed completely and now I have to get it replaced It quit working after Id used it for about 18 months so I just purchased another one because this is the best headset Ive ever owned Unfortunately it will not recharge my iPhone 4s despite connecting it from multiple power sources iMac external battery wall outlet etc It was a great phone if you simply want a small flip phone  look elsewhere as the extra bells  whistles are mediocre Good value works fine  power via USB car or wall outlet My phone doesnt slide around my car now and the grip prevents my phone from slipping out of my hand This is simply the BEST bluetooth headset for sound quality Think it over when you plan to own this oneThis sure is the last MOTO phone for me In the span of an hour I had two people exclaim Whoa  is that the new phone on TV I have always used corded headsets and the freedom from the wireless is very helpful This case has passed the one year mark and while it shows signs of wear it is 100 functional Other than that the leather is nice and soft the fit is very tight the cut out for the face is a good shape It has everything I need and I couldnt ask for more After receiving and using the product for just 2 days it broke This product is great it makes working a lot easier I can go to the copier while waiting on hold for something None of the three sizes they sent with the headset would stay in my ears TMobile has the best customer service anywhere Arrived quickly and much less expensive than others being sold We have tried 2 units and they both failed within 2 months Pros Provides good protection and looks classy too Krussel Always good The tracfonewebsite is user friendly and makes it easy toactivate etc The design is very good4 I great reception all the time I would highly recommend this product Couldnt use the unit with sunglasses not good in Texas It dit not work most of the time with my Nokia 5320 Bought mainly for the charger which broke soon after purchasing If you like a loud buzzing to override all your conversations then this phone is for you Fantastic buy and will get again for whatever my next phone is stay away from this store be careful This BlueAnt Supertooth handsfree phone speaker is AWESOME Does not fit  Item arrived quickly and works great with my Metro PCS Samsung SCHr450 slider phone and Sony Premium Sound in ear plugs It is light has plenty of battery capacity and is very confortable to wear for somewhat extended periods of time disappointing Blue Ant is easy to use Cheap but hey it works Was pleasantly suprised given the low cost of this item The camera on the phone may be used as a dustpan when indoors Id rather be using a disposable then this Then a few days later the a puff of smoke came out of the phone while in use Its very convenient and simple to use  gets job done  makes the car ride so much smoother The nano stated itMy son was dissapointed The sound quality is excellent as well Its the best headset I have used Would not reccommend They have been around for years and carries the highest quality of antiglare screen protector that I have found to date Just what I wanted This particular model would not work with my Motorola Q smartphone wont work right or atleast for me in addition it feels amp looks as if the phone is all lightweight cheap plastic But now that it is out of warranty the same problems reoccureBottom line put your money somewhere else Cingular will not support it I really wanted the Plantronics 510 to be the right one but it has too many issues for meThe good Great product Crisp and Clear AFter the first charge kept going dead after 12 minutes VERY cheap plastic creaks like an old wooden floor I get absolutely horrible reception in my apartment where with other phones I have not had this problem The reception has been generally good Excellent sound battery life and inconspicuous to boot Great bluetooth I highly recommend this case WORTHWHILE This is a great deal After my phone got to be about a year old its been slowly breaking despite much care on my part I am sorry I made this purchase I bought these hoping I could make my Bluetooth headset fit better but these things made it impossible to wear Treo and TMobile refused to replace it again and forced me to buy another phone without any kind of upgrade discount It was horrible I dont think it would hold it too securly on your belt This allows the possibility of double booking for the same date and time after the first They work about 2 weeks then break It is simple to use and I like it Its a great tool for entertainment communication and data managementOh be sure to use ActiveSync 42 for optimal data synchronization results I cant use this case because the smell is disgusting NOT WHAT I WANTED I own 2 of these cases and would order another Great Phone I bought this battery with a coupon from Amazon and Im very happy with my purchase The internet access was fine it the rare instance that it worked Perfect for the PS3 Five star Plus plus A good quality bargain I bought this after I bought a cheapy from Big Lots that sounded awful and people on the other end couldnt hear me 50 Down the drain I tried talking real loud but shouting on the telephone gets old and I was still told it wasnt great Good  works fine For the price this was a great deal Great price too If there is a wind it is completely useless Yes its shiny on front side  and I love it Does Not Work At first I thought I was grtting a good deal at 744 until I plugged it into my phone V3c Razr The reception through this headset is excellent 2 thumbs up to this seller I have a Verizon LG phone and they work well together good reception and range that exceeds 20 feet line of sight Improper description I had to return it 1 It Works  2 It is Comfortable Battery chargelife is quite long The Jabra EarGels fit my ears very well Battery has no life I checked everywhere and there is no feature for it which is really disappointing Product is exactly as described Gets a signal when other Verizon phones wont Doesnt do the job I would recommend it Plan on ordering from them again and again That being said for a phone the camera is very nice many cool effects to play with and video is decent as well I have been very satisfied with this cell phone from day one They keep getting better and better this is my third one and Ive had numerous Palms too Awkward to use and unreliable The shipping time was also very quick Not as good as I had hoped Good case Doesnt Work Really good product Unfortunately it did not work All three broke within two months of use dont buy it My father has the V265 and the battery is dying However the ear pads come off easily and after only one week I lost one The calls drop the phone comes on and off at will the screen goes black and the worst of all it stops ringing intermittently Horrible horrible protector I dont like this Nokia either Reaching for the bottom row is uncomfortable and the send and end keys are not where I expect them to be3 I have bought this Nokia cell phone a few weeks ago and it was a nightmare It would take too long to describe how bad my customer service experience has been with Amazon the only VERY DISAPPOINTING thing was there was NO SPEAKERPHONE Terrible My car will not accept this cassette Product is useless since it does not have enough charging current to charge the 2 cellphones I was planning to use it with Its not what it says it is Stay Away From the Q Used and dirty Very unreliable service from Tmobile  Not good enough for the price I bought two of them and neither will charge It looks very nice This is an excellent tool especially when paired with your phones autoanswer I have read others reviews here but I havent had any problem with it These products cover up the important light sensor above the ear outlet Comfortable in my hand Just does not work Poor Reliability It works If I take a picture the battery drops a bar and starts beeping letting me know its dieing Terrible product and waste of money Last time buying from you It was a waste of my money So far it has worked like a charm I have only had it for a few weeks but so far so good But in any case the best part is you can download these pictures to your laptop using IR or even send pictures from your laptop to the phone Would recommend this item Its been my choice headset for yearsGreat sound good volume good noise cancellation Nice case feels good in your hands The item received was Counterfeit Just really good So far probably the best BT headset I have ever had Works fine I received my headset in good time and was happy with it I was very pleased to see that I could replace my well travled swivel holster for my Blackberry flip My sister has one also and she loves it Good Quality This is by far the worst purchase Ive made on Amazon Excellent dualpurpose headset Excellent Does not work for listening to music with the cingular 8125 It seems completely secure both holding on to my belt and keeping the iPhone inside The bottowm lineanother worthless cheap gimmick from Sprint Having trouble with volume The only good thing was that it fits comfortably on small ears WARNING  DO NOT BUY I am pairing this with my iphone and I could not be happier with it so far When it opens the battery connection is broken and the device is turned off I didnt want the clip going over the top of my ear causing discomfort Best headset ever Dont trust their website and dont expect any helpful support It was that loudGlad to say that the Plantronics 510 maintains a flawless connection to my cell and with no static during normal use The speaker is of low quality so as making the ring tones sound very cheap Fits comfortably came with three sizes of earbud tips Excellent product for the price Bad Reception This product is very High quality Chinese CRAP It was quite comfortable in the ear Great phone Dont buy this product  It fails Everything about this product is wrongFirst The pairing of the two devices was so easy it barely took a couple minutes before I started making calls with the voice dialing feature This was utterly confusing at first which caused me to lose a couple of very very important contacts Terrible phone holder The cutouts and buttons are placed perfectly I love being able to use one headset for both by landline and cell Problem is that the ear loops are made of weak material and break easily Not nearly as good looking as the AMAZON picture makes it look But despite these few flaws this case is of exceptional quality and well worth the additional costs of owning an official OEM product How stupid is that I can hear while Im driving in the car and usually dont even have to put it on its loudest setting Seller shipped quickly and much cheaper than the competitors Good show Samsung So I bought about 10 of these and saved alot of money It always cuts out and makes a beep beep beep sound then says signal failed Couldnt figure it out My phone sounded OK  not great  OK but my wifes phone was almost totally unintelligible she couldnt understand a word being said on it So I had to take the battery out of the phone put it all back together and then restart it While I managed to bend the leaf spring back in place the metal now has enough stress that it will break on the next drop Leopard Print is wonderfully wild Works for me Saggy floppy piece of junk much better than the hard plastic cases It also had a new problem Happy so far cool phone Works good Motorola finally got the voice quality of a bluetooth headset right It looses connection to the phone even when it is within a couple feet between the two but it is great i would really recommend it Makes it easier to keep up with my bluetooth when Im not wearing it As I said abovePRETTY USELESS Never got it This pair of headphones is the worst that I have ever had soundwise  down the drain because of a weak snap Does not charge the Cingular ATT 8525 phone You get extra minutes so that you can carry out the call and not get cut off However after about a year the fliptop started to get loose and wobbly and eventually my screen went black and I couldnt receive and place calls I kept catching the cable on the seat and I had to pull the phone out to turn it on an off The headset fulfills my requirements so I am happy with my purchase Logitech Bluetooth Headset is a 10 I like the fact that it rests lightly against your ear rather than inside A lot of websites have been rating this a very good phone and so do I I have tried these cables with my computer and my iPod and it works just fine The mic there is a joke and the volume is quite low Im returning them I does not maintain a connection with the computer while it is on my lap It is easy to turn on and off when you are in the car and the volume controls are quite accessable I have had mine for about a year and this Christmas I bought some for the rest of the family Otherwise easy to install and use clear sound nice leather I had to purchase a different case It is a joy to use Very much disappointed with this company Very satisifed with that It didnt charge for me This is the phone to get for 2005 I just bought my S710a and all I can say is WOW Buttons are too small Just reading on the specs alone makes you say WOW Love it Great armband I really like this product over the Motorola because it is allot clearer on the ear piece and the mic However the keypads are so tinny that I sometimes reach the wrong buttons I exchanged the sony ericson z500a for this and Im pretty happy with that decision I was very impressed with the price of the cases Also makes it easier to hold on to I use this product in a motor control center where there is a lot of high voltage humming from the equipment and it works great Its pretty easy I cannot make calls at certain places however my girl was complain that some time the phone doesnt wake up like normal phone does Beautiful styling though This company charge me a restocking fee and still not given me my refund back Im trying to return it for a refund I plugged it in only to find out not a darn thing worked Excellent product Earbud piece breaks easily Lousy product This phone tries very hard to do everything but fails at its very ability to be a phone It is the best charger I have seen on the market yet SWEETEST PHONE Oh the charger seems to work fine It fits so securely that the ear hook does not even need to be used and the sound is better directed through your ear canal Not enough volume Echo ProblemVery unsatisfactory you could only take 2 videos at a time and the quality was very poor dont waste your money I am going to have to be the first to negatively review this product Adapter does not provide enough charging current There was so much hype over this phone that I assumed it was the best my mistake You also cannot take pictures with it in the case because the lense is covered Phone falls out easily It didnt work people can not hear me when I talk The text messaging feature is really tricky to use Im really disappointed all I have now is a charger that doesnt work Painful on the ear Lasted one day and then blew up disappointed Kind of flops around The screen does get smudged easily because it touches your ear and face What a piece of junk I lose more calls on this phone Item Does Not Match Picture The only thing that disappoint me is the infra red port irda You can not answer calls with the unit never worked once\n"
          ]
        }
      ]
    },
    {
      "cell_type": "code",
      "source": [
        "print(word_freq)"
      ],
      "metadata": {
        "colab": {
          "base_uri": "https://localhost:8080/"
        },
        "id": "trmiziLaUo4O",
        "outputId": "8107306a-ba89-4629-deb4-bc9976852916"
      },
      "execution_count": 79,
      "outputs": [
        {
          "output_type": "stream",
          "name": "stdout",
          "text": [
            "Counter({'the': 414, 'and': 307, 'I': 306, 'is': 243, 'it': 219, 'a': 208, 'to': 196, 'this': 152, 'phone': 148, 'my': 130, 'of': 117, 'for': 116, 'with': 111, 'The': 97, 'not': 93, 'on': 88, 'was': 87, 'in': 85, 'very': 81, 'that': 76, 'have': 73, 'great': 66, 'It': 62, 'good': 61, 'you': 58, 'This': 53, 'product': 51, 'had': 48, 'quality': 44, 'headset': 44, 'as': 42, 'are': 41, 'but': 41, 'use': 41, 'one': 38, 'sound': 37, 'well': 36, 'ear': 34, 'all': 34, 'battery': 33, 'has': 33, 'from': 32, 'would': 32, 'your': 32, 'works': 32, 'work': 32, 'so': 32, 'Great': 31, 'like': 30, 'me': 28, 'case': 28, 'Ive': 28, 'than': 27, 'up': 26, 'time': 26, 'recommend': 26, 'price': 26, 'be': 26, 'or': 23, 'at': 23, 'its': 23, 'get': 22, 'out': 22, 'really': 22, '2': 21, 'service': 21, 'when': 20, 'only': 20, 'too': 20, 'Im': 20, 'am': 20, 'no': 19, 'charger': 19, 'money': 19, 'any': 19, 'can': 19, 'best': 19, 'does': 19, 'dont': 19, 'Its': 19, 'more': 18, 'about': 18, 'an': 18, 'Very': 17, 'new': 17, 'car': 17, 'just': 17, 'even': 17, 'after': 17, 'because': 17, 'item': 17, 'worked': 17, 'ever': 17, 'if': 17, 'bought': 16, 'now': 16, 'love': 16, 'better': 16, 'also': 16, 'did': 16, 'these': 16, 'Works': 15, 'could': 15, 'first': 15, 'Not': 15, 'been': 15, 'which': 15, 'used': 15, 'Good': 14, 'Excellent': 14, 'then': 14, 'buy': 14, 'happy': 14, 'off': 14, 'few': 14, 'easy': 14, 'will': 14, 'there': 13, 'them': 13, 'two': 13, 'comfortable': 13, 'charge': 13, 'fine': 13, 'nice': 13, 'made': 13, 'enough': 13, 'thing': 13, 'still': 13, 'reception': 13, 'cell': 13, 'got': 13, 'while': 13, 'right': 12, 'volume': 12, 'If': 12, 'waste': 12, 'again': 12, 'hear': 12, 'make': 12, 'camera': 12, 'purchase': 12, 'excellent': 12, 'far': 12, 'Dont': 12, 'My': 12, 'fit': 12, 'same': 12, 'Battery': 12, 'problem': 11, 'bluetooth': 11, 'doesnt': 11, 'problems': 11, 'device': 11, 'working': 11, 'much': 11, 'using': 11, 'do': 11, 'So': 10, 'plug': 10, 'design': 10, 'into': 10, 'makes': 10, 'long': 10, 'You': 10, 'life': 10, 'A': 10, 'bad': 10, 'other': 10, 'phones': 10, 'what': 10, 'call': 10, 'i': 10, 'fits': 10, 'calls': 10, 'Phone': 10, 'impressed': 9, 'NOT': 9, 'months': 9, 'think': 9, 'couldnt': 9, 'people': 9, 'clear': 9, 'Nice': 9, 'cool': 9, 'they': 9, 'wear': 9, 'poor': 9, 'Motorola': 9, 'piece': 9, 'screen': 9, 'over': 9, 'worst': 9, 'by': 8, 'without': 8, 'little': 8, 'years': 8, 'pretty': 8, 'looks': 8, 'headsets': 8, 'lot': 8, 'found': 8, 'tried': 8, 'cheap': 8, 'back': 8, 'highly': 8, 'low': 8, 'unit': 8, 'way': 7, 'several': 7, 'say': 7, '5': 7, 'how': 7, 'last': 7, 'went': 7, 'most': 7, 'days': 7, 'didnt': 7, 'never': 7, 'buttons': 7, 'since': 7, 'broke': 7, 'both': 7, 'disappointed': 7, 'light': 7, 'completely': 7, 'Jabra': 7, 'small': 7, 'software': 7, 'some': 7, 'All': 7, 'look': 7, 'being': 7, 'company': 7, 'year': 7, 'They': 7, 'quite': 7, 'customer': 7, 'looking': 7, 'take': 7, 'Does': 7, 'go': 6, 'What': 6, 'going': 6, 'talk': 6, 'ears': 6, 'need': 6, 'Poor': 6, 'audio': 6, 'want': 6, 'their': 6, 'loud': 6, 'end': 6, 'headphones': 6, 'find': 6, 'within': 6, 'down': 6, 'received': 6, 'black': 6, 'around': 6, 'After': 6, 'perfectly': 6, 'less': 6, 'put': 6, 'every': 6, 'before': 6, 'voice': 6, 'horrible': 6, 'cable': 6, 'junk': 6, 'terrible': 6, 'Also': 6, 'came': 6, 'everything': 6, 'Verizon': 6, 'Bluetooth': 6, 'anyone': 6, 'difficult': 6, 'Amazon': 6, 'original': 5, 'started': 5, 'DO': 5, 'three': 5, 'charging': 5, 'helpful': 5, 'Doesnt': 5, 'hold': 5, 'simple': 5, 'sure': 5, '3': 5, 'turn': 5, 'picture': 5, 'priced': 5, 'sturdy': 5, 'VERY': 5, 'dropped': 5, 'different': 5, 'big': 5, 'week': 5, 'feels': 5, 'gets': 5, 'quickly': 5, 'expect': 5, 'shipping': 5, 'pictures': 5, 'strong': 5, 'signal': 5, 'pleased': 5, 'Quality': 5, 'job': 5, 'weeks': 5, 'hours': 5, 'know': 5, 'charm': 5, 'where': 5, 'minutes': 5, 'But': 5, 'useless': 5, 'color': 5, 'part': 5, 'We': 5, 'No': 5, 'important': 5, 'return': 5, 'real': 5, 'feature': 5, 'many': 5, 'old': 5, 'anything': 5, 'couple': 5, '1': 5, 'belt': 5, 'data': 5, 'others': 5, 'especially': 5, 'plastic': 5, 'clarity': 5, 'hard': 5, 'cannot': 5, 'Samsung': 5, 'However': 5, 'cases': 5, 'connection': 5, 'easily': 5, 'here': 4, 'value': 4, 'decent': 4, 'Razr': 4, 'must': 4, 'clip': 4, 'place': 4, 'bars': 4, 'thats': 4, 'she': 4, 'instructions': 4, 'left': 4, 'hate': 4, 'kept': 4, 'seems': 4, 'should': 4, 'keyboard': 4, 'actually': 4, 'support': 4, 'These': 4, 'later': 4, 'Love': 4, 'purchased': 4, 'holds': 4, 'bargain': 4, 'arrived': 4, 'Product': 4, 'For': 4, 'order': 4, 'high': 4, 'Sound': 4, 'leather': 4, 'fast': 4, 'comfortably': 4, 'Bad': 4, 'kind': 4, 'Internet': 4, 'tool': 4, 'side': 4, 'stay': 4, 'lasts': 4, 'able': 4, 'PHONE': 4, 'lightweight': 4, 'Id': 4, 'expected': 4, 'mistake': 4, 'Worst': 4, 'hands': 4, 'either': 4, 'family': 4, 'Plantronics': 4, 'buying': 4, 'weak': 4, 'Nokia': 4, 'definitely': 4, 'cant': 4, 'ago': 4, 'times': 4, 'easier': 4, 'Comfortable': 4, 'face': 4, 'having': 4, 'deal': 4, 'keep': 4, 'rather': 4, 'nothing': 4, 'always': 4, 'Unfortunately': 4, 'store': 4, 'replace': 4, 'own': 4, 'ringtones': 4, 'said': 4, 'day': 4, 'extra': 4, 'Just': 4, 'conversations': 3, 'mic': 3, 'line': 3, 'contacts': 3, 'sending': 3, 'And': 3, 'were': 3, 'static': 3, 'though': 3, 'blue': 3, 'pair': 3, 'absolutely': 3, 'below': 3, 'PC': 3, 'provided': 3, 'worthless': 3, 'features': 3, 'AFTER': 3, 'protection': 3, 'instead': 3, 'Everything': 3, 'seconds': 3, '510': 3, 'seriously': 3, 'Buy': 3, 'player': 3, 'front': 3, 'trouble': 3, 'home': 3, 'Do': 3, 'longer': 3, 'packaged': 3, 'super': 3, 'ease': 3, 'Worked': 3, 'Best': 3, 'decision': 3, 'free': 3, 'between': 3, 'such': 3, 'wife': 3, 'rocks': 3, 'may': 3, 'im': 3, 'earpieces': 3, 'set': 3, 'BT': 3, 'getting': 3, 'almost': 3, 'Headset': 3, 'failed': 3, 'In': 3, 'coverage': 3, 'drops': 3, 'area': 3, 'glad': 3, 'description': 3, 'Was': 3, 'sharp': 3, 'chargers': 3, 'slow': 3, 'once': 3, 'awesome': 3, '10': 3, 'lost': 3, 'replacement': 3, 'simply': 3, 'thought': 3, '12': 3, 'reasonably': 3, 'form': 3, 'range': 3, 'experience': 3, 'ordered': 3, 'market': 3, 'Disappointment': 3, 'probably': 3, 'drain': 3, 'earpiece': 3, 'seller': 3, 'charged': 3, 'scratched': 3, 'As': 3, 'microphone': 3, 'care': 3, 'lacking': 3, 'unreliable': 3, 'plugged': 3, 'LG': 3, 'flip': 3, 'disappointing': 3, 'New': 3, 'happier': 3, 'try': 3, 'Clear': 3, 'handsfree': 3, 'crap': 3, 'wanted': 3, 'satisfied': 3, 'give': 3, 'Better': 3, 'comes': 3, 'goes': 3, 'away': 3, 'might': 3, 'Q': 3, 'size': 3, 'wasnt': 3, 'expensive': 3, 'turned': 3, 'Cant': 3, 'computer': 3, 'TMobile': 3, 'under': 3, 'however': 3, 'wont': 3, 'Then': 3, 'those': 3, 'noise': 3, 'given': 3, 'holster': 3, 'Palm': 3, 'refund': 3, 'drop': 3, 'none': 3, 'through': 3, 'speaker': 3, 'Sprint': 3, 'feel': 3, 'needed': 3, 'Treo': 3, 'USB': 3, 'worth': 3, 'pay': 3, 'awful': 3, 'tinny': 3, 'pairing': 3, 'another': 3, 'despite': 3, 'outlet': 3, 'break': 3, 'Terrible': 3, 'beep': 3, 'unless': 2, 'jawbone': 2, 'lasting': 2, 'wasted': 2, 'extended': 2, 'notice': 2, 'who': 2, 'tooth': 2, 'advise': 2, 'Motorolas': 2, 'website': 2, 'Fire': 2, 'yet': 2, 'run': 2, 'owned': 2, 'pull': 2, 'unusable': 2, 'included': 2, 'least': 2, 'book': 2, 'Talk': 2, 'Performance': 2, 'THE': 2, 'DAYS': 2, 'Disappointed': 2, 'turns': 2, 'PDA': 2, 'large': 2, 'NO': 2, 'forget': 2, 'tech': 2, 'perhaps': 2, 'particular': 2, 'party': 2, 'clearly': 2, 'cover': 2, 'let': 2, 'lock': 2, 'died': 2, 'glasses': 2, 'sometimes': 2, 'series': 2, 'quiet': 2, 'saying': 2, 'choice': 2, 'docking': 2, 'station': 2, 'beautiful': 2, 'advertised': 2, 'handy': 2, '6': 2, 'everyone': 2, 'loves': 2, 'construction': 2, 'cheaper': 2, 'costs': 2, 'play': 2, 'music': 2, 'plan': 2, 'motorola': 2, 'match': 2, 'huge': 2, 'although': 2, 'impressive': 2, '13': 2, 'fall': 2, 'resolution': 2, 'ask': 2, 'slim': 2, 'display': 2, 'sex': 2, 'sleek': 2, 'full': 2, 'number': 2, 'keypad': 2, 'unhappy': 2, 'Setup': 2, 'Gets': 2, 'done': 2, 'avoid': 2, 'Logitech': 2, 'earbud': 2, 'stuff': 2, 'house': 2, 'Voice': 2, 'recognition': 2, 'tremendous': 2, 'experienced': 2, 'takes': 2, 'literally': 2, 'stated': 2, 'Blackberry': 2, 'technology': 2, 'wouldnt': 2, 'wired': 2, 'previous': 2, 'W810i': 2, 'maintain': 2, 'obviously': 2, 'graphics': 2, 'One': 2, 'button': 2, 'Thank': 2, 'How': 2, 'iGo': 2, 'tips': 2, 'connected': 2, 'wifes': 2, 'pocket': 2, 'storage': 2, 'buzzing': 2, 'override': 2, 'functionality': 2, 'Waste': 2, 'ring': 2, 'extremely': 2, 'dropping': 2, 'thin': 2, 'nearly': 2, 'bother': 2, 'room': 2, 'issues': 2, 'felt': 2, 'embarrassing': 2, 'consumer': 2, 'Theres': 2, 'background': 2, 'certainly': 2, 'usually': 2, 'mess': 2, 'bit': 2, 'tell': 2, 'sony': 2, 'Really': 2, 'comfort': 2, 'excited': 2, 'Big': 2, 'Customer': 2, 'additional': 2, 'gels': 2, 'whatsoever': 2, 'secure': 2, 'smell': 2, 'caused': 2, 'flimsy': 2, 'Only': 2, 'month': 2, 'flawlessly': 2, 'THAT': 2, 'stars': 2, 'whole': 2, 'First': 2, 'adorable': 2, 'Piece': 2, 'uncomfortable': 2, 'gotten': 2, 'driving': 2, 'dialing': 2, 'neither': 2, 'games': 2, 'AMAZON': 2, 'SUCKS': 2, 'iPod': 2, 'recharge': 2, 'Obviously': 2, 'PIECE': 2, 'OF': 2, 'Reception': 2, 'Range': 2, 'Life': 2, 'Their': 2, 'network': 2, 'wireless': 2, 'sucks': 2, 'Ill': 2, 'along': 2, 'starts': 2, 'ringing': 2, 'reason': 2, 'push': 2, 'sides': 2, 'Skype': 2, 'Calls': 2, 'Long': 2, 'Device': 2, 'trying': 2, 'finally': 2, 'shipped': 2, 'disappointment': 2, 'stupid': 2, 'noticed': 2, 'dead': 2, 'breaks': 2, 'Oh': 2, 'effect': 2, 'Overall': 2, 'model': 2, 'REALLY': 2, 'Fantastic': 2, 'Stay': 2, 'dying': 2, 'alone': 2, 'install': 2, 'performance': 2, 'purchasing': 2, 'figure': 2, '20': 2, 'reading': 2, 'wearing': 2, 'sunglasses': 2, 'Horrible': 2, 'returning': 2, 'Looks': 2, 'switch': 2, 'understand': 2, 'batteries': 2, 'user': 2, 'friendly': 2, 'ability': 2, 'receiving': 2, 'exchanged': 2, 'results': 2, 'wrong': 2, 'described': 2, 'star': 2, 'review': 2, 'catching': 2, 'amazed': 2, 'timeframe': 2, 'complaint': 2, 'things': 2, 'ended': 2, 'accidentally': 2, 'listening': 2, 'took': 2, 'above': 2, 'conversation': 2, 'seem': 2, 'numerous': 2, 'None': 2, 'poorly': 2, 'CRAP': 2, 'barely': 2, 'That': 2, 'joke': 2, 'forced': 2, 'holding': 2, 'Easy': 2, 'breaking': 2, '50': 2, 'quick': 2, 'operate': 2, 'paired': 2, 'come': 2, 'BUY': 2, 'Plus': 2, 'brand': 2, 'internet': 2, 'reviews': 2, 'forever': 2, 'told': 2, 'warranty': 2, 'something': 2, 'nokia': 2, 'bar': 2, 'When': 2, 'placed': 2, 'spring': 2, 'tries': 2, 'download': 2, 'USELESS': 2, 'access': 2, 'third': 2, 'flash': 2, 'tones': 2, 'Chinese': 2, 'video': 2, 'hour': 2, 'accept': 2, 'allows': 2, 'iPhone': 2, 'power': 2, 'wall': 2, 'etc': 2, 'hand': 2, 'cut': 2, 'sizes': 2, 'Couldnt': 2, 'next': 2, 'Item': 2, 'Would': 2, 'protector': 2, 'date': 2, 'Cingular': 2, 'sounded': 2, 'Work': 2, 'together': 2, 'feet': 2, 'send': 2, 'current': 2, 'says': 2, 'laptop': 2, 'inside': 2, 'normal': 2, 'making': 2, 'fails': 2, 'lose': 2, 'OK': 2, 'WOW': 2, 'US': 1, 'converter': 1, 'Tied': 1, '45': 1, 'minutesMAJOR': 1, 'PROBLEMS': 1, 'jiggle': 1, 'dozen': 1, 'hundred': 1, 'imagine': 1, 'fun': 1, 'each': 1, 'owneryou': 1, 'Needless': 1, 'He': 1, 'seperated': 1, 'mere': 1, 'ft': 1, 'excessive': 1, 'garbled': 1, 'odd': 1, 'Highly': 1, 'EVERYONE': 1, 'BE': 1, 'FOOLED': 1, 'Far': 1, 'clicks': 1, 'wonder': 1, 'mechanism': 1, 'followed': 1, 'directions': 1, 'Kindle': 1, 'loved': 1, 'commercials': 1, 'misleading': 1, 'mother': 1, 'Pocket': 1, 'combination': 1, '7': 1, 'mobile': 1, 'People': 1, 'earphone': 1, 'breakage': 1, 'unacceptible': 1, 'ideal': 1, 'whose': 1, 'sensitive': 1, 'moving': 1, 'freeway': 1, 'speed': 1, 'contract': 1, 'Car': 1, 'AC': 1, 'juiceHighy': 1, 'recommended': 1, 'mins': 1, 'phoneBattery': 1, 'short': 1, 'Time': 1, '680': 1, '2MP': 1, 'pics': 1, 'garbage': 1, 'Who': 1, 'mind': 1, 'gonna': 1, 'ARGUING': 1, 'WITH': 1, 'VERIZON': 1, 'REGARDING': 1, 'DROPPED': 1, 'CALLS': 1, 'WE': 1, 'RETURNED': 1, 'PHONES': 1, 'TWO': 1, 'bulky': 1, 'usable': 1, 'realworld': 1, 'useful': 1, 'machine': 1, 'neat': 1, 'gadget': 1, 'reasonable': 1, 'ie': 1, 'DISAPPOINTED': 1, 'stream': 1, 'submerged': 1, '15': 1, 'complaints': 1, 'regarding': 1, 'Essentially': 1, 'Microsofts': 1, 'faceplates': 1, 'elegant': 1, 'angle': 1, 'drawback': 1, 'MP3': 1, 'pause': 1, 'skip': 1, 'songs': 1, 'activated': 1, 'suddenly': 1, 'iPODs': 1, 'situations1': 1, 'Mic': 1, 'Even': 1, 'BMW': 1, 'fairly': 1, 'hearing': 1, 'person': 1, 'D807wrongly': 1, 'D807': 1, 'everyday': 1, 'Well': 1, 'intended': 1, 'runs': 1, 'verizon': 1, 'Boy': 1, 'loads': 1, 'greater': 1, 'Made': 1, 'buds': 1, 'Will': 1, 'waaay': 1, 'bluetooths': 1, 'listener': 1, 'Integrated': 1, 'seamlessly': 1, 'RAZR': 1, 'Buyer': 1, 'Beware': 1, 'flush': 1, 'toilet': 1, 'Definitely': 1, 'supposedly': 1, '375': 1, 'apparently': 1, 'ProsGood': 1, 'styles': 1, 'white': 1, 'Thats': 1, 'flaw': 1, 'correctly': 1, '350': 1, 'Jabra350': 1, 'rated': 1, 'megapixels': 1, 'renders': 1, 'images': 1, 'expectations': 1, 'relatively': 1, 'purcashed': 1, 'geeky': 1, 'toast': 1, 'oozes': 1, 'embedded': 1, 'stylish': 1, 'Absolutely': 1, 'compromise': 1, 'QWERTY': 1, 'basic': 1, 'winner': 1, 'us': 1, 'simpler': 1, 'Could': 1, 'Iam': 1, 'Basically': 1, 'disapoinment': 1, 'realize': 1, 'accompanied': 1, 'brilliant': 1, 'nicely': 1, 'damage': 1, 'definitly': 1, 'BuyerBe': 1, 'Careful': 1, 'majority': 1, 'peachykeen': 1, 'upstairs': 1, 'basement': 1, 'During': 1, 'minute': 1, 'FOREVER': 1, 'reccomendation': 1, 'relative': 1, 'Items': 1, 'ARE': 1, 'INCLUDED': 1, 'sudden': 1, 'Hoping': 1, 'More': 1, 'Audio': 1, 'linking': 1, '8530': 1, 'Curve': 1, 'sounds': 1, 'funny': 1, 'seemed': 1, 'sketchy': 1, 'wellWell': 1, 'messages': 1, 'web': 1, 'browsing': 1, 'significantly': 1, 'faster': 1, 'build': 1, 'unlike': 1, 's': 1, 'fantastic': 1, 'colors': 1, 'SUPERB': 1, 'whine': 1, 'goesThe': 1, 'essentially': 1, 'communications': 1, 'communicate': 1, 'monkeys': 1, 'shouldnt': 1, 'we': 1, 'share': 1, 'DNA': 1, 'copy': 1, 'humans': 1, 'Value': 1, 'bougth': 1, 'L7c': 1, 'mode': 1, 'EXCELLENT': 1, 'SERVICE': 1, 'wasting': 1, 'beThe': 1, 'file': 1, 'browser': 1, 'offers': 1, 'options': 1, 'needsHandsfree': 1, 'Superb': 1, 'Network': 1, 'bluetoothMotorola': 1, 'HS850': 1, 'whether': 1, 'latest': 1, 'OS': 1, 'v115g': 1, 'likes': 1, 'crawl': 1, 'recognizes': 1, 'bluetoooth': 1, 'thorn': 1, 'abhor': 1, 'recently': 1, 'disconnected': 1, 'Incredible': 1, 'Design': 1, 'Flaw': 1, 'bucks': 1, 'check': 1, 'mail': 1, 'night': 1, 'backlight': 1, 'message': 1, 'Any': 1, 'toneOverall': 1, 'Lately': 1, 'wit': 1, 'hit': 1, 'Light': 1, 'weight': 1, 'hardly': 1, 'Youll': 1, 'Choice': 1, 'pleather': 1, 'deaf': 1, 'prettier': 1, 'incredibly': 1, 'investment': 1, 'strange': 1, 'ticking': 1, 'noises': 1, 'ends': 1, 'electronics': 1, 'available': 1, 'FM': 1, 'Transmitters': 1, 'H500': 1, 'mega': 1, 'pixel': 1, 'good7': 1, 'transmit': 1, 'contacting': 1, 'dollar': 1, 'learned': 1, 'lesson': 1, 'online': 1, 'anyway': 1, 'earbugs': 1, 'means': 1, 'roam': 1, 'living': 1, 'receptionsound': 1, 'crack': 1, 'WORST': 1, 'EVER': 1, 'infatuated': 1, 'Freezes': 1, 'frequently4': 1, 'mostly': 1, 'childlike': 1, 'Simple': 1, 'tick': 1, 'headbands': 1, 'hair': 1, 'Ericsson': 1, 'favorite': 1, 'purchases': 1, 'Authentic': 1, 'shine': 1, 'cute': 1, 'calendar': 1, 'sync': 1, 'Service': 1, 'Ever': 1, 'defeats': 1, 'purpose': 1, 'Worth': 1, 'penny': 1, 'wallet': 1, 'type': 1, 'excrutiatingly': 1, 'aspect': 1, 'glove': 1, 'durable': 1, 'O': 1, 'gosh': 1, 'attractive': 1, 'appears': 1, 'factor': 1, 'rubberpetroleum': 1, 'unbearable': 1, 'scary': 1, 'Earpiece': 1, 'stereo': 1, 'incredible': 1, 'Absolutel': 1, 'Returned': 1, '8': 1, 'potentially': 1, 'fry': 1, 'Unreliable': 1, 'giving': 1, 'gave': 1, 'Avoid': 1, 'Reversible': 1, 'rotating': 1, 'Comfort': 1, 'our': 1, 'Junk': 1, 'Poorly': 1, 'contstruct': 1, 'hinge': 1, 'installed': 1, 'overnite': 1, 'PURCHASE': 1, 'THIS': 1, 'thru': 1, 'handset': 1, 'cat': 1, 'attacked': 1, 'he': 1, 'protective': 1, 'strip': 1, 'destroying': 1, 'Razor': 1, 'V3i': 1, 'Sending': 1, 'Now': 1, 'wise': 1, 'Someone': 1, 'shouldve': 1, 'invented': 1, 'sooner': 1, 'tryThe': 1, 'engineered': 1, 'clever': 1, 'Has': 1, 'complained': 1, '5year': 1, '2160': 1, 'Tracfone': 1, 'instruction': 1, 'manual': 1, 'alarm': 1, 'clock': 1, 'removing': 1, 'antena': 1, 'compared': 1, 'compliments': 1, 'state': 1, 'allow': 1, 'usage': 1, 'immediately': 1, 'Ngage': 1, 'earbuds': 1, '23': 1, 'Howeverthe': 1, 'riingtones': 1, 'Rip': 1, 'Over': 1, 'frequentyly': 1, 'phones2': 1, 'adhesive': 1, 'inexpensive': 1, 'practically': 1, 'add': 1, 'boost': 1, 'JUNK': 1, 'BROKE': 1, 'BEING': 1, 'ON': 1, 'MY': 1, 'FOR': 1, 'concrete': 1, 'knock': 1, 'wood': 1, 'transformed': 1, 'organizational': 1, 'capability': 1, 'sitting': 1, 'vehicle': 1, 'cradle': 1, 'Were': 1, 'JERKS': 1, 'Los': 1, 'Angeles': 1, 'starter': 1, 'loudspeaker': 1, 'option': 1, 'bumpers': 1, 'lights': 1, 'appealing': 1, 'improve': 1, 'leaks': 1, 'EXTREMELY': 1, 'HOT': 1, 'according': 1, 'called': 1, 'applifies': 1, 'save': 1, 'specially': 1, 'transmission': 1, 'S11': 1, 'finished': 1, 'drivng': 1, 'Display': 1, 'auto': 1, 'reverse': 1, 'tape': 1, 'embarassing': 1, 'hurt': 1, 'Protects': 1, 'average': 1, 'operates': 1, 'Soyo': 1, 'Hands': 1, 'Free': 1, 'self': 1, 'portraits': 1, 'outside': 1, 'exterior': 1, 'Same': 1, 'mentioned': 1, 'gadgets': 1, 'Magical': 1, 'Help': 1, 'promptly': 1, 'Exactly': 1, 'comparablypriced': 1, 'offering': 1, 'today': 1, 'encourage': 1, 'youd': 1, 'Using': 1, 'Sounds': 1, 'effective': 1, 'Still': 1, 'Waiting': 1, 'recieve': 1, 'prompt': 1, 'cradles': 1, 'kits': 1, 'Excelent': 1, 'cingulair': 1, 'nicer': 1, 'Jawbone': 1, 'Era': 1, 'WHITE': 1, 'colored': 1, 'DEAD': 1, 'hoursTHe': 1, 'thereplacement': 1, 'An': 1, 'Awesome': 1, 'Look': 1, 'Fall': 1, '2000': 1, 'cheaply': 1, 'Att': 1, 'distorted': 1, 'yell': 1, 'Price': 1, 'forgot': 1, 'mention': 1, 'weird': 1, 'iriver': 1, 'SPINN': 1, 'fond': 1, 'magnetic': 1, 'strap': 1, 'psyched': 1, 'appointments': 1, 'Another': 1, 'note': 1, 'appearance': 1, 'bland': 1, 'ITS': 1, 'EASY': 1, 'Sanyo': 1, 'survived': 1, 'dozens': 1, 'blacktop': 1, 'ill': 1, 'earphones': 1, 'finds': 1, 'enter': 1, 'Low': 1, 'modest': 1, 'cellular': 1, 'Warning': 1, 'wish': 1, 'Awsome': 1, 'drained': 1, 'earpad': 1, 'onlyI': 1, 'Displeased': 1, 'defect': 1, 'risk': 1, 'built': 1, 'Restored': 1, 'JX10': 1, 'Moto': 1, 'searched': 1, 'key': 1, 'pad': 1, 'lit': 1, 'amazon': 1, 'Portable': 1, 'colleague': 1, 'receptionA': 1, 'fully': 1, 'bed': 1, 'wifi': 1, 'morning': 1, 'memory': 1, 'card': 1, 'hat': 1, 'Timely': 1, 'shipment': 1, 'solid': 1, 'Surefire': 1, 'GX2': 1, 'BT50': 1, 'buyers': 1, 'remorse': 1, 'AccessoryOne': 1, 'inexcusable': 1, 'changing': 1, 'carriers': 1, 'update': 1, 'procedure': 1, 'cumbersome': 1, 'delivery': 1, 'Uncomfortable': 1, 'Ear': 1, 'VX9900': 1, 'EnV': 1, 'rocketed': 1, 'destination': 1, 'unknown': 1, 'longwearing': 1, 'conditions': 1, 'worthwhile': 1, 'usefulness': 1, 'Verizons': 1, 'bills': 1, 'pricing': 1, 'plans': 1, 'overnight': 1, 'regret': 1, 'pitiful': 1, 'respect': 1, 'stuck': 1, 'max': 1, 'mute': 1, 'hybrid': 1, 'palmtopcameracellphone': 1, 'excels': 1, 'roles': 1, 'BT250v': 1, 'liked': 1, 'Pretty': 1, 'Plug': 1, 'Save': 1, '11': 1, 'Purchase': 1, 'WELL': 1, 'IM': 1, 'SATISFIED': 1, 'bose': 1, 'cancelling': 1, 'amazing': 1, 'NYC': 1, 'commuter': 1, 'Defective': 1, 'unacceptableUnless': 1, 'photo': 1, 'ad': 1, 'greatno': 1, 'earlier': 1, 'noted': 1, 'happens': 1, 'frog': 1, 'eye': 1, 'pushed': 1, 'function': 1, 'aluminum': 1, 'VX': 1, 'wellit': 1, 'protected': 1, 'handheld': 1, 'Mobile': 1, 'Tools': 1, 'sturdiness': 1, 'orders': 1, 'overall': 1, 'source': 1, 'waterproof': 1, 'standard': 1, '5of': 1, 'Thanks': 1, 'sliding': 1, 'edge': 1, 'pants': 1, 'pockets': 1, 'NOKIA': 1, 'UGLY': 1, 'shield': 1, 'incrediable': 1, 'improvement': 1, 'Keep': 1, 'refuse': 1, 'activate': 1, 'gentletouch': 1, 'touch': 1, 'basically': 1, 'threw': 1, 'window': 1, 'inches': 1, 'kitchen': 1, 'counter': 1, 'crackedI': 1, 'laughing': 1, 'trunk': 1, 'carried': 1, 'hitch': 1, 'Small': 1, 'practical': 1, 'setup': 1, 'ample': 1, 'eargels': 1, 'channel': 1, 'directly': 1, 'increase': 1, 'ones': 1, 'properly': 1, 'missed': 1, 'Perhaps': 1, 'defective': 1, 'sucked': 1, 'shifting': 1, 'bubbling': 1, 'peeling': 1, 'scratch': 1, 'NOTHINGI': 1, 'Droid': 1, 'zero': 1, 'Trying': 1, 'exercise': 1, 'frustration': 1, 'Earset': 1, 'outgoing': 1, 'total': 1, 'package': 1, 'understanding': 1, 'patient': 1, 'Wirefly': 1, 'starI': 1, 'contact': 1, 'CingularATT': 1, 'inform': 1, 'practice': 1, 'AGGRAVATING': 1, 'friends': 1, 'enjoy': 1, 'Virgin': 1, 'Wireless': 1, 'Muddy': 1, 'casing': 1, 'wires': 1, 'insert': 1, 'glued': 1, 'slid': 1, 'Please': 1, 'isnt': 1, 'Yet': 1, 'Plantronincs': 1, 'continues': 1, 'flawed': 1, 'Disapointing': 1, 'Results': 1, 'Cumbersome': 1, 'fourth': 1, 'HATED': 1, 'fixes': 1, 'accessing': 1, 'downloading': 1, 'performing': 1, 'functions': 1, 'constantly': 1, 'unacceptable': 1, 'Due': 1, 'happening': 1, 'stop': 1, 'adapters': 1, 'walked': 1, 'procedures': 1, 'reset': 1, 'wiping': 1, 'Signal': 1, 'Strength': 1, 'Dropped': 1, 'plays': 1, 'louder': 1, 'constructed': 1, 'menus': 1, 'navigate': 1, 'recessed': 1, 'onId': 1, 'avoiding': 1, 'brokenI': 1, 'smoking': 1, 'Linked': 1, 'effort': 1, 'THey': 1, 'Than': 1, 'possesed': 1, 'idea': 1, 'trash': 1, 'Research': 1, 'Development': 1, 'division': 1, 'knows': 1, 'theyre': 1, 'doing': 1, 'killer': 1, 'course': 1, 'Those': 1, 'Construction': 1, 'infuriating': 1, 'Walkman': 1, 'charges': 1, 'Europe': 1, 'Asia': 1, 'clipping': 1, 'deffinitely': 1, 'cents': 1, 'upandcoming': 1, 'behing': 1, '5020': 1, 'comfortible': 1, '24': 1, 'pain': 1, 'arrival': 1, 'lg': 1, 'fraction': 1, 'samsungcrap': 1, 'crappy': 1, 'E715': 1, 'seeen': 1, 'stopped': 1, 'screenThis': 1, 'interface': 1, 'decade': 1, 'compete': 1, 'designs': 1, '700w': 1, 'transceiver': 1, 'Steer': 1, 'genuine': 1, 'replacementr': 1, 'pens': 1, 'threepack': 1, 'BUYIT': 1, 'beats': 1, 'fingers': 1, 'believe': 1, 'steep': 1, 'point': 1, 'normally': 1, 'apart': 1, 'haul': 1, 'Dissapointing': 1, 'please': 1, 'Case': 1, 'originally': 1, 'discarded': 1, 'phonesmp3': 1, 'players': 1, 'posted': 1, 'detailed': 1, 'comments': 1, 'grey': 1, 'Red': 1, 'guess': 1, 'existing': 1, 'CDs': 1, 'surprised': 1, 'theres': 1, 'fabulous': 1, 'currently': 1, 'firstperson': 1, 'shooters': 1, 'delay': 1, 'messes': 1, 'bitpim': 1, 'program': 1, 'internetto': 1, 'transfer': 1, 'phoneThe': 1, 'Disappointing': 1, 'accessory': 1, 'manufacturer': 1, 'Performed': 1, 'muffled': 1, 'incoming': 1, 'severe': 1, 'echo': 1, 'windresistant': 1, 'overly': 1, 'replaceEasy': 1, 'contacted': 1, 'produce': 1, 'receipt': 1, 'luck': 1, 'Linksys': 1, 'exchange': 1, 'refurb': 1, 'treo': 1, 'snug': 1, 'LOT': 1, 'heavyit': 1, 'keeps': 1, 'falling': 1, 'Utter': 1, 'TERRIBLE': 1, 'promised': 1, 'loop': 1, 'tiny': 1, 'Finally': 1, 'four': 1, 'latch': 1, 'visor': 1, 'address': 1, 'rebootsOverall': 1, 'rate': 1, 'Tungsten': 1, 'E2': 1, 'flipphones': 1, 'welldesigned': 1, 'Much': 1, 'smoothly': 1, 'study': 1, 'interested': 1, 'sins': 1, 'industrial': 1, 'happened': 1, 'tracking': 1, 'detachable': 1, 'continue': 1, 'periodically': 1, 'somehow': 1, 'upload': 1, 'locks': 1, 'screens': 1, 'randomly': 1, 'locked': 1, 'Truly': 1, '325': 1, 'cellphone': 1, 'wornout': 1, 'ringer': 1, 'REAL': 1, 'choices': 1, 'acceptable': 1, 'balance': 1, 'AWFUL': 1, 'ready': 1, 'prime': 1, 'coming': 1, 'upbeat': 1, 'Forgeries': 1, 'Abound': 1, 'Cell': 1, 'explain': 1, 'jack': 1, 'Too': 1, 'CA42': 1, 'crisp': 1, 'smallest': 1, 'stays': 1, 'biggest': 1, 'drains': 1, 'superfast': 1, 'ergonomic': 1, 'theory': 1, 'stand': 1, 'clips': 1, 'Because': 1, 'occupied': 1, 'distracting': 1, 'entire': 1, 'except': 1, 'CBR': 1, 'mp3s': 1, 'preferably': 1, 'ripped': 1, 'Windows': 1, 'Media': 1, 'Player': 1, 'beat': 1, 'Comes': 1, 'shots': 1, 'SOS': 1, 'signals': 1, 'beware': 1, 'connect': 1, 'miniUSB': 1, 'near': 1, 'open': 1, 'allowing': 1, 'StarTac': 1, 'regretted': 1, 'Appears': 1, 'outperform': 1, 'China': 1, 'V325i': 1, 'numbers': 1, 'SIM': 1, '3o': 1, 'phoneMy': 1, 'jabra': 1, 'R': 1, 'crashed': 1, 'replaced': 1, 'quit': 1, '18': 1, '4s': 1, 'connecting': 1, 'multiple': 1, 'sources': 1, 'iMac': 1, 'external': 1, 'elsewhere': 1, 'bells': 1, 'whistles': 1, 'mediocre': 1, 'via': 1, 'slide': 1, 'grip': 1, 'prevents': 1, 'slipping': 1, 'BEST': 1, 'Think': 1, 'oneThis': 1, 'MOTO': 1, 'span': 1, 'exclaim': 1, 'Whoa': 1, 'TV': 1, 'corded': 1, 'freedom': 1, 'passed': 1, 'mark': 1, 'shows': 1, 'signs': 1, '100': 1, 'functional': 1, 'Other': 1, 'soft': 1, 'tight': 1, 'shape': 1, 'copier': 1, 'waiting': 1, 'sent': 1, 'anywhere': 1, 'Arrived': 1, 'sold': 1, 'units': 1, 'Pros': 1, 'Provides': 1, 'classy': 1, 'Krussel': 1, 'Always': 1, 'tracfonewebsite': 1, 'toactivate': 1, 'good4': 1, 'Texas': 1, 'dit': 1, '5320': 1, 'Bought': 1, 'mainly': 1, 'soon': 1, 'whatever': 1, 'careful': 1, 'BlueAnt': 1, 'Supertooth': 1, 'AWESOME': 1, 'Metro': 1, 'PCS': 1, 'SCHr450': 1, 'slider': 1, 'Sony': 1, 'Premium': 1, 'plugs': 1, 'plenty': 1, 'capacity': 1, 'confortable': 1, 'somewhat': 1, 'periods': 1, 'Blue': 1, 'Ant': 1, 'Cheap': 1, 'hey': 1, 'pleasantly': 1, 'suprised': 1, 'cost': 1, 'dustpan': 1, 'indoors': 1, 'disposable': 1, 'puff': 1, 'smoke': 1, 'convenient': 1, 'ride': 1, 'smoother': 1, 'nano': 1, 'itMy': 1, 'son': 1, 'dissapointed': 1, 'reccommend': 1, 'carries': 1, 'highest': 1, 'antiglare': 1, 'smartphone': 1, 'atleast': 1, 'addition': 1, 'amp': 1, 'reoccureBottom': 1, 'somewhere': 1, 'else': 1, 'meThe': 1, 'Crisp': 1, 'AFter': 1, 'creaks': 1, 'wooden': 1, 'floor': 1, 'apartment': 1, 'generally': 1, 'inconspicuous': 1, 'boot': 1, 'WORTHWHILE': 1, 'slowly': 1, 'sorry': 1, 'hoping': 1, 'impossible': 1, 'refused': 1, 'upgrade': 1, 'discount': 1, 'securly': 1, 'possibility': 1, 'double': 1, 'booking': 1, 'entertainment': 1, 'communication': 1, 'managementOh': 1, 'ActiveSync': 1, '42': 1, 'optimal': 1, 'synchronization': 1, 'disgusting': 1, 'WHAT': 1, 'WANTED': 1, 'coupon': 1, 'rare': 1, 'instance': 1, 'Perfect': 1, 'PS3': 1, 'Five': 1, 'plus': 1, 'cheapy': 1, 'Lots': 1, 'Down': 1, 'talking': 1, 'shouting': 1, 'telephone': 1, 'wind': 1, 'Yes': 1, 'shiny': 1, 'At': 1, 'grtting': 1, '744': 1, 'until': 1, 'V3c': 1, 'thumbs': 1, 'exceeds': 1, 'sight': 1, 'Improper': 1, 'chargelife': 1, 'EarGels': 1, 'checked': 1, 'everywhere': 1, 'exactly': 1, 'Plan': 1, 'ordering': 1, 'effects': 1, 'Palms': 1, 'Awkward': 1, 'hoped': 1, 'father': 1, 'V265': 1, 'pads': 1, 'stops': 1, 'intermittently': 1, 'Reaching': 1, 'bottom': 1, 'row': 1, 'keys': 1, 'be3': 1, 'nightmare': 1, 'describe': 1, 'DISAPPOINTING': 1, 'SPEAKERPHONE': 1, 'cassette': 1, 'cellphones': 1, 'planning': 1, 'Away': 1, 'From': 1, 'Used': 1, 'dirty': 1, 'Tmobile': 1, 'autoanswer': 1, 'read': 1, 'havent': 1, 'products': 1, 'sensor': 1, 'Reliability': 1, 'beeping': 1, 'letting': 1, 'dieing': 1, 'Last': 1, 'IR': 1, 'yearsGreat': 1, 'cancellation': 1, 'Counterfeit': 1, 'see': 1, 'travled': 1, 'swivel': 1, 'sister': 1, 'dualpurpose': 1, 'cingular': 1, '8125': 1, 'keeping': 1, 'bottowm': 1, 'lineanother': 1, 'gimmick': 1, 'Having': 1, 'WARNING': 1, 'iphone': 1, 'opens': 1, 'broken': 1, 'top': 1, 'causing': 1, 'discomfort': 1, 'trust': 1, 'loudGlad': 1, 'maintains': 1, 'flawless': 1, 'during': 1, 'Fits': 1, 'High': 1, 'wrongFirst': 1, 'devices': 1, 'utterly': 1, 'confusing': 1, 'holder': 1, 'cutouts': 1, 'landline': 1, 'Problem': 1, 'loops': 1, 'material': 1, 'flaws': 1, 'exceptional': 1, 'owning': 1, 'official': 1, 'OEM': 1, 'loudest': 1, 'setting': 1, 'Seller': 1, 'competitors': 1, 'show': 1, 'saved': 1, 'alot': 1, 'cuts': 1, 'totally': 1, 'unintelligible': 1, 'word': 1, 'restart': 1, 'While': 1, 'managed': 1, 'bend': 1, 'leaf': 1, 'metal': 1, 'stress': 1, 'Leopard': 1, 'Print': 1, 'wonderfully': 1, 'wild': 1, 'Saggy': 1, 'floppy': 1, 'Happy': 1, 'looses': 1, 'Makes': 1, 'abovePRETTY': 1, 'Never': 1, 'soundwise': 1, 'snap': 1, 'ATT': 1, '8525': 1, 'carry': 1, 'fliptop': 1, 'loose': 1, 'wobbly': 1, 'eventually': 1, 'receive': 1, 'seat': 1, 'fulfills': 1, 'requirements': 1, 'fact': 1, 'rests': 1, 'lightly': 1, 'against': 1, 'websites': 1, 'rating': 1, 'cables': 1, 'lap': 1, 'controls': 1, 'accessable': 1, 'mine': 1, 'Christmas': 1, 'rest': 1, 'Otherwise': 1, 'joy': 1, 'satisifed': 1, '2005': 1, 'S710a': 1, 'Buttons': 1, 'specs': 1, 'armband': 1, 'allot': 1, 'clearer': 1, 'keypads': 1, 'reach': 1, 'ericson': 1, 'z500a': 1, 'motor': 1, 'control': 1, 'center': 1, 'voltage': 1, 'humming': 1, 'equipment': 1, 'certain': 1, 'places': 1, 'girl': 1, 'complain': 1, 'wake': 1, 'Beautiful': 1, 'styling': 1, 'restocking': 1, 'fee': 1, 'darn': 1, 'Earbud': 1, 'Lousy': 1, 'seen': 1, 'SWEETEST': 1, 'securely': 1, 'hook': 1, 'directed': 1, 'canal': 1, 'Echo': 1, 'ProblemVery': 1, 'unsatisfactory': 1, 'videos': 1, 'negatively': 1, 'Adapter': 1, 'provide': 1, 'There': 1, 'hype': 1, 'assumed': 1, 'lense': 1, 'covered': 1, 'falls': 1, 'text': 1, 'messaging': 1, 'tricky': 1, 'Painful': 1, 'Lasted': 1, 'blew': 1, 'Kind': 1, 'flops': 1, 'smudged': 1, 'touches': 1, 'Match': 1, 'Picture': 1, 'disappoint': 1, 'infra': 1, 'red': 1, 'port': 1, 'irda': 1, 'answer': 1})\n"
          ]
        }
      ]
    },
    {
      "cell_type": "code",
      "source": [
        "#  Step 5 Create a dictionary to map words to integers\n",
        "word_to_int = {word: idx for idx, word in enumerate(vocabulary)}\n",
        "\n",
        "# Print a few examples from the word_to_int dictionary\n",
        "print(\"Word to Integer Dictionary (Sample):\")\n",
        "sample_mapping = {k: word_to_int[k] for k in list(word_to_int)[:10]}\n",
        "print(sample_mapping)\n"
      ],
      "metadata": {
        "colab": {
          "base_uri": "https://localhost:8080/"
        },
        "id": "BPyo28USUuAR",
        "outputId": "5cf7b5e1-2632-4901-a31b-79f9c80606cc"
      },
      "execution_count": 80,
      "outputs": [
        {
          "output_type": "stream",
          "name": "stdout",
          "text": [
            "Word to Integer Dictionary (Sample):\n",
            "{'So': 0, 'there': 1, 'is': 2, 'no': 3, 'way': 4, 'for': 5, 'me': 6, 'to': 7, 'plug': 8, 'it': 9}\n"
          ]
        }
      ]
    },
    {
      "cell_type": "code",
      "source": [
        "# Define a function to encode a single review\n",
        "def encode_review(review):\n",
        "    return [word_to_int.get(word, 0) for word in review.split()]\n",
        "\n",
        "# Encode all the reviews using a list comprehension\n",
        "encoded_reviews = [encode_review(review) for review in reviews]\n",
        "\n",
        "# Print a sample encoded review\n",
        "sample_encoded_review = encoded_reviews[0]\n",
        "print(\"Sample Encoded Review:\", sample_encoded_review)\n"
      ],
      "metadata": {
        "colab": {
          "base_uri": "https://localhost:8080/"
        },
        "id": "zf7mh8EpVJZp",
        "outputId": "b8b4f9fe-9c80-40d6-f017-e78e24e6ca39"
      },
      "execution_count": 83,
      "outputs": [
        {
          "output_type": "stream",
          "name": "stdout",
          "text": [
            "Sample Encoded Review: [0, 1, 2, 3, 4, 5, 6, 7, 8, 9, 10, 11, 10, 12, 13, 14, 15, 16, 17, 18, 19]\n"
          ]
        }
      ]
    },
    {
      "cell_type": "code",
      "source": [
        "# Step 6\n",
        "# converting the data to pytorch tensors and creating dataloader for creating a class in the next code cell\n",
        "# Convert encoded_reviews to a list of tensors with padding\n",
        "X = [torch.tensor(review) for review in encoded_reviews]\n",
        "X = torch.nn.utils.rnn.pad_sequence(X, batch_first=True, padding_value=0)\n",
        "\n",
        "# Convert labels to a tensor\n",
        "y = torch.tensor(labels, dtype=torch.float32)\n",
        "\n",
        "# Create a DataLoader\n",
        "dataset = TensorDataset(X, y)\n",
        "trainloader = DataLoader(dataset, batch_size=64, shuffle=True)\n"
      ],
      "metadata": {
        "id": "nIEpMqUaUz9i"
      },
      "execution_count": 85,
      "outputs": []
    },
    {
      "cell_type": "code",
      "source": [
        "import torch.nn as nn\n",
        "\n",
        "class SentimentAnalysisModel(nn.Module):\n",
        "    def __init__(self, vocab_size, embedding_dim, hidden_dim, num_layers=3):\n",
        "        super(SentimentAnalysisModel, self).__init__()\n",
        "\n",
        "        # Embedding layer to convert word indices to dense vectors\n",
        "        self.embedding = nn.Embedding(vocab_size, embedding_dim)\n",
        "\n",
        "        # LSTM layers for sequence processing\n",
        "        self.lstm = nn.LSTM(embedding_dim, hidden_dim, num_layers, batch_first=True)\n",
        "\n",
        "        # Fully connected layer for the final prediction\n",
        "        self.fc = nn.Linear(hidden_dim, 1)\n",
        "\n",
        "        # Sigmoid activation function for binary classification\n",
        "        self.sigmoid = nn.Sigmoid()\n",
        "\n",
        "    def forward(self, x):\n",
        "        # Embed the input sequences\n",
        "        embedded = self.embedding(x)\n",
        "\n",
        "        # Pass the embedded sequences through LSTM layers\n",
        "        lstm_out, _ = self.lstm(embedded)\n",
        "\n",
        "        # Get the output at the last time step and pass through the linear layer\n",
        "        out = self.fc(lstm_out[:, -1, :])\n",
        "\n",
        "        # Apply sigmoid activation for binary classification\n",
        "        out = self.sigmoid(out)\n",
        "        return out"
      ],
      "metadata": {
        "id": "SemSNcOvU2-N"
      },
      "execution_count": 86,
      "outputs": []
    },
    {
      "cell_type": "code",
      "source": [
        "# Step 8 Initiate the model\n",
        "model = SentimentAnalysisModel(len(vocabulary), 64, 128,1)"
      ],
      "metadata": {
        "id": "fiDZ8Oo8VZu_"
      },
      "execution_count": 87,
      "outputs": []
    },
    {
      "cell_type": "code",
      "source": [
        "# Step 9 Define the loss function, an optimization algorithm, and the number of epochs to train\n",
        "# Define the loss function\n",
        "criterion = nn.BCELoss()  # Binary Cross-Entropy Loss for binary classification\n",
        "\n",
        "# Define the optimization algorithm (e.g., Adam optimizer)\n",
        "optimizer = optim.Adam(model.parameters(), lr=0.001)\n",
        "\n",
        "# Define the number of epochs to train for (e.g., 10 epochs)\n",
        "num_epochs = 10\n"
      ],
      "metadata": {
        "id": "FsUDl089VsIx"
      },
      "execution_count": 88,
      "outputs": []
    },
    {
      "cell_type": "code",
      "source": [
        "# Step 10 Training the model\n",
        "loss_history = []\n",
        "accuracy_history = []\n",
        "\n",
        "for epoch in range(num_epochs):\n",
        "    running_loss = 0.0\n",
        "    correct_predictions = 0\n",
        "    total_samples = 0\n",
        "\n",
        "    for batch_X, batch_y in trainloader:\n",
        "        optimizer.zero_grad()\n",
        "        predictions = model(batch_X)\n",
        "        loss = criterion(predictions, batch_y.unsqueeze(1))\n",
        "        loss.backward()\n",
        "        optimizer.step()\n",
        "        running_loss += loss.item()\n",
        "\n",
        "        # Calculate accuracy\n",
        "        predictions = (predictions >= 0.5).float()\n",
        "        correct_predictions += (predictions == batch_y.unsqueeze(1)).sum().item()\n",
        "        total_samples += batch_y.size(0)\n",
        "\n",
        "    epoch_loss = running_loss / len(trainloader)\n",
        "    epoch_accuracy = correct_predictions / total_samples\n",
        "    loss_history.append(epoch_loss)\n",
        "    accuracy_history.append(epoch_accuracy)\n",
        "\n",
        "    print(\"Epoch [{}/{}] - Loss: {:.4f}, Accuracy: {:.4f}\".format(epoch + 1, num_epochs, epoch_loss, epoch_accuracy))\n"
      ],
      "metadata": {
        "colab": {
          "base_uri": "https://localhost:8080/"
        },
        "id": "aW_DTlDWV5Br",
        "outputId": "079eddf7-0407-420d-f2a3-6c53be395336"
      },
      "execution_count": 90,
      "outputs": [
        {
          "output_type": "stream",
          "name": "stdout",
          "text": [
            "Epoch [1/10] - Loss: 0.6929, Accuracy: 0.5000\n",
            "Epoch [2/10] - Loss: 0.6943, Accuracy: 0.4800\n",
            "Epoch [3/10] - Loss: 0.6929, Accuracy: 0.5010\n",
            "Epoch [4/10] - Loss: 0.6926, Accuracy: 0.4980\n",
            "Epoch [5/10] - Loss: 0.6929, Accuracy: 0.5170\n",
            "Epoch [6/10] - Loss: 0.6921, Accuracy: 0.5340\n",
            "Epoch [7/10] - Loss: 0.6897, Accuracy: 0.5210\n",
            "Epoch [8/10] - Loss: 0.6595, Accuracy: 0.6440\n",
            "Epoch [9/10] - Loss: 0.5924, Accuracy: 0.7070\n",
            "Epoch [10/10] - Loss: 0.5245, Accuracy: 0.7620\n"
          ]
        }
      ]
    },
    {
      "cell_type": "code",
      "source": [
        "# Step 11 Plotting the Loss progress and Actual Progress Vs epoch\n",
        "import matplotlib.pyplot as plt\n",
        "\n",
        "# Create subplots\n",
        "fig, (ax1, ax2) = plt.subplots(1, 2, figsize=(12, 4))\n",
        "\n",
        "# Plot loss progress\n",
        "ax1.plot(loss_history)\n",
        "ax1.set_xlabel('Epoch')\n",
        "ax1.set_ylabel('Loss')\n",
        "ax1.set_title('Loss Progress')\n",
        "\n",
        "# Plot accuracy progress\n",
        "ax2.plot(accuracy_history)\n",
        "ax2.set_xlabel('Epoch')\n",
        "ax2.set_ylabel('Accuracy')\n",
        "ax2.set_title('Accuracy Progress')\n",
        "\n",
        "plt.tight_layout()\n",
        "plt.show()\n"
      ],
      "metadata": {
        "colab": {
          "base_uri": "https://localhost:8080/",
          "height": 382
        },
        "id": "OmJH2UxGWB9x",
        "outputId": "82ce0e6f-0ca4-4511-d84c-5f79f90939b2"
      },
      "execution_count": 91,
      "outputs": [
        {
          "output_type": "display_data",
          "data": {
            "text/plain": [
              "<Figure size 1200x400 with 2 Axes>"
            ],
            "image/png": "[encoded data removed]"
          },
          "metadata": {}
        }
      ]
    },
    {
      "cell_type": "markdown",
      "source": [
        "### **Exercise 2. **\n",
        "\n",
        "Sentiment Analysis\n",
        "\n",
        "Consider the following text:\n",
        "sentence = “””The larger Broncos will be available with 35-inch off-road tires and will be able\n",
        "to drive through water nearly 3 feet, 10 inches deep. It has independent front\n",
        "\n",
        "DATA 690 2\n",
        "suspension, unlike its main competitor, the Jeep Wrangler. Independent suspension, used\n",
        "on almost all modern passenger vehicles, generally provides a smoother ride and better on -\n",
        "road handling than a single solid axle. It still has a solid axle in the back though, like most\n",
        "pickup trucks, a design suited to hard use. Like the Wrangler, both the two- and four-door\n",
        "Bronco will have a removable roofs and doors. Buyers will be able to choose either a hard\n",
        "roof that can be removed in sections, a cloth top, or both. Unlike the Wrangler, though, the\n",
        "Bronco's doors will fit inside the vehicle after being removed. The Bronco will be available\n",
        "with a choice of either a 10-speed automatic or seven-speed manual transmission. (The\n",
        "manual transmission will have six gears for ordinary driving, plus a seventh for low speed\n",
        "off-road driving.) It will be powered by either a 270- horsepower 2.3-liter turbocharged 4-\n",
        "cylinder engine or a 310-horsepower 2.7-liter turbocharged V6. While all of the new Bronco\n",
        "SUVs are designed for hard off-road use, the Bronco Sport isn't quite as hard-core in its\n",
        "capabilities. It also has more convenience features than the more truck-like Bronco. While\n",
        "it's based on engineering that's similar to car-like crossover SUVs, Ford says that it's still\n",
        "intended for serious off-road use. Ford engineers boasted of the off-road testing the\n",
        "prototypes have been put through, including driving through deep sand, up steep inclines ,\n",
        "and crawling across boulder-strewn trails.”””\n",
        "Perform the following task on the above sentences:\n",
        "1. Replace special characters with empty spaces. You can use regex or any other method\n",
        "2. Remove multiple empty spaces and replace them with a single space\n",
        "3. Remove any single character\n",
        "4. Convert the text to all lowercase\n",
        "5. Split the text into individual words\n",
        "6. Remove stopwords\n",
        "7. Tokenize, stem, and lemmatize the text\n",
        "6. What is the overall sentiment and subjectivity of the text"
      ],
      "metadata": {
        "id": "RvlgyGHYXwql"
      }
    },
    {
      "cell_type": "code",
      "source": [
        "#Importing all the required Libraries and Packages\n",
        "import nltk\n",
        "nltk.download('punkt')\n",
        "nltk.download('stopwords')\n",
        "\n",
        "import string\n",
        "import re\n",
        "from textblob import TextBlob\n",
        "from nltk.tokenize import word_tokenize\n",
        "from nltk.corpus import stopwords\n",
        "from nltk.stem import PorterStemmer"
      ],
      "metadata": {
        "colab": {
          "base_uri": "https://localhost:8080/"
        },
        "id": "gdY55FejW85H",
        "outputId": "964df911-731f-4c08-953a-d957927c650c"
      },
      "execution_count": 95,
      "outputs": [
        {
          "output_type": "stream",
          "name": "stderr",
          "text": [
            "[nltk_data] Downloading package punkt to /root/nltk_data...\n",
            "[nltk_data]   Unzipping tokenizers/punkt.zip.\n",
            "[nltk_data] Downloading package stopwords to /root/nltk_data...\n",
            "[nltk_data]   Unzipping corpora/stopwords.zip.\n"
          ]
        }
      ]
    },
    {
      "cell_type": "code",
      "source": [
        "# Sample Text\n",
        "text = '''The larger Broncos will be available with 35-inch off-road tires and will be able\n",
        "to drive through water nearly 3 feet, 10 inches deep. It has independent front\n",
        "suspension, unlike its main competitor, the Jeep Wrangler. Independent suspension, used\n",
        "on almost all modern passenger vehicles, generally provides a smoother ride and better on -\n",
        "road handling than a single solid axle. It still has a solid axle in the back though, like most\n",
        "pickup trucks, a design suited to hard use. Like the Wrangler, both the two- and four-door\n",
        "Bronco will have a removable roofs and doors. Buyers will be able to choose either a hard\n",
        "roof that can be removed in sections, a cloth top, or both. Unlike the Wrangler, though, the\n",
        "Bronco's doors will fit inside the vehicle after being removed. The Bronco will be available\n",
        "with a choice of either a 10-speed automatic or seven-speed manual transmission. (The\n",
        "manual transmission will have six gears for ordinary driving, plus a seventh for low speed\n",
        "off-road driving.) It will be powered by either a 270- horsepower 2.3-liter turbocharged 4-\n",
        "cylinder engine or a 310-horsepower 2.7-liter turbocharged V6. While all of the new Bronco\n",
        "SUVs are designed for hard off-road use, the Bronco Sport isn't quite as hard-core in its\n",
        "capabilities. It also has more convenience features than the more truck-like Bronco. While\n",
        "it's based on engineering that's similar to car-like crossover SUVs, Ford says that it's still\n",
        "intended for serious off-road use. Ford engineers boasted of the off-road testing the\n",
        "prototypes have been put through, including driving through deep sand, up steep inclines ,\n",
        "and crawling across boulder-strewn trails.'''"
      ],
      "metadata": {
        "id": "SQqGK4IbXyrf"
      },
      "execution_count": 96,
      "outputs": []
    },
    {
      "cell_type": "code",
      "source": [
        "# 1. Replace special characters with empty spaces\n",
        "sentence = re.sub(r'[^a-zA-Z0-9\\s]', ' ', sentence)\n"
      ],
      "metadata": {
        "id": "G_MzeU3_X2iJ"
      },
      "execution_count": 97,
      "outputs": []
    },
    {
      "cell_type": "code",
      "source": [
        "# 2. Remove multiple empty spaces and replace them with a single space\n",
        "sentence = re.sub(r'\\s+', ' ', sentence)"
      ],
      "metadata": {
        "id": "Rcp94GAFX-s8"
      },
      "execution_count": 98,
      "outputs": []
    },
    {
      "cell_type": "code",
      "source": [
        "# 3. Remove any single character\n",
        "sentence = re.sub(r'\\b\\w\\b', '', sentence)\n"
      ],
      "metadata": {
        "id": "tnXgCMAOYBap"
      },
      "execution_count": 99,
      "outputs": []
    },
    {
      "cell_type": "code",
      "source": [
        "# 4. Convert the text to all lowercase\n",
        "sentence = sentence.lower()"
      ],
      "metadata": {
        "id": "e8dsapa8YD_1"
      },
      "execution_count": 100,
      "outputs": []
    },
    {
      "cell_type": "code",
      "source": [
        "# 5. Split the text into individual words\n",
        "words = word_tokenize(sentence)"
      ],
      "metadata": {
        "id": "Id0nwtzNYG7Q"
      },
      "execution_count": 101,
      "outputs": []
    },
    {
      "cell_type": "code",
      "source": [
        "# 6. Remove stopwords\n",
        "stop_words = set(stopwords.words('english'))\n",
        "filtered_words = [word for word in words if word not in stop_words]\n"
      ],
      "metadata": {
        "id": "xl5FLNZxYJS1"
      },
      "execution_count": 102,
      "outputs": []
    },
    {
      "cell_type": "code",
      "source": [
        "# 7. Tokenize, stem, and lemmatize the text\n",
        "stemmer = PorterStemmer()\n",
        "stemmed_words = []\n",
        "\n",
        "for word in filtered_words:\n",
        "    stemmed_word = stemmer.stem(word)\n",
        "    stemmed_words.append(stemmed_word)"
      ],
      "metadata": {
        "id": "Ii7MOQyRYPaL"
      },
      "execution_count": 104,
      "outputs": []
    },
    {
      "cell_type": "code",
      "source": [
        "# 8. Calculate the overall sentiment and subjectivity of the text using TextBlob\n",
        "blob = TextBlob(' '.join(stemmed_words))\n",
        "sentiment = blob.sentiment"
      ],
      "metadata": {
        "id": "Ad8NFE6pYW8O"
      },
      "execution_count": 106,
      "outputs": []
    },
    {
      "cell_type": "code",
      "source": [
        "# Print the cleaned text and sentiment analysis results\n",
        "print(\"Cleaned Text:\")\n",
        "print(' '.join(stemmed_words))\n",
        "print(\"\\nSentiment Analysis:\")\n",
        "print(f\"Polarity (Overall Sentiment): {sentiment.polarity}\")\n",
        "print(f\"Subjectivity: {sentiment.subjectivity}\")"
      ],
      "metadata": {
        "colab": {
          "base_uri": "https://localhost:8080/"
        },
        "id": "oO4QcSOVYcdR",
        "outputId": "62cb0acc-9823-4d7d-a635-cbdd85561808"
      },
      "execution_count": 107,
      "outputs": [
        {
          "output_type": "stream",
          "name": "stdout",
          "text": [
            "Cleaned Text:\n",
            "larger bronco avail 35 inch road tire abl drive water nearli feet 10 inch deep independ front suspens unlik main competitor jeep wrangler independ suspens use almost modern passeng vehicl gener provid smoother ride better road handl singl solid axl still solid axl back though like pickup truck design suit hard use like wrangler two four door bronco remov roof door buyer abl choos either hard roof remov section cloth top unlik wrangler though bronco door fit insid vehicl remov bronco avail choic either 10 speed automat seven speed manual transmiss manual transmiss six gear ordinari drive plu seventh low speed road drive power either 270 horsepow liter turbocharg cylind engin 310 horsepow liter turbocharg v6 new bronco suv design hard road use bronco sport quit hard core capabl also conveni featur truck like bronco base engin similar car like crossov suv ford say still intend seriou road use ford engin boast road test prototyp put includ drive deep sand steep inclin crawl across boulder strewn trail\n",
            "\n",
            "Sentiment Analysis:\n",
            "Polarity (Overall Sentiment): -0.003349282296650745\n",
            "Subjectivity: 0.41339712918660293\n"
          ]
        }
      ]
    },
    {
      "cell_type": "code",
      "source": [],
      "metadata": {
        "id": "Bfm5EKDdYfJI"
      },
      "execution_count": null,
      "outputs": []
    }
  ]
}